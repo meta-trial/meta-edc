{
 "cells": [
  {
   "cell_type": "code",
   "execution_count": null,
   "id": "0",
   "metadata": {},
   "outputs": [],
   "source": [
    "%%capture\n",
    "import os\n",
    "from pathlib import Path\n",
    "import pandas as pd\n",
    "from dj_notebook import activate\n",
    "import numpy as np\n",
    "from django_pandas.io import read_frame\n",
    "\n",
    "env_file = os.environ[\"META_ENV\"]\n",
    "reports_folder = Path(os.environ[\"META_REPORTS_FOLDER\"])\n",
    "analysis_folder = Path(os.environ[\"META_ANALYSIS_FOLDER\"])\n",
    "pharmacy_folder = Path(os.environ[\"META_PHARMACY_FOLDER\"])\n",
    "plus = activate(dotenv_file=env_file)\n",
    "pd.set_option('future.no_silent_downcasting', True)"
   ]
  },
  {
   "cell_type": "code",
   "execution_count": null,
   "id": "1",
   "metadata": {},
   "outputs": [],
   "source": [
    "from matplotlib import pyplot as plt\n",
    "from matplotlib_venn import venn3, venn2\n",
    "from meta_analytics.dataframes import get_screening_df\n",
    "\n"
   ]
  },
  {
   "cell_type": "code",
   "execution_count": null,
   "id": "2",
   "metadata": {},
   "outputs": [],
   "source": [
    "def get_fbg_value(r):\n",
    "    if not pd.isna(r[\"converted_fbg2_value\"]):\n",
    "        return r[\"converted_fbg2_value\"]\n",
    "    return r[\"converted_fbg_value\"]\n",
    "\n",
    "def get_ogtt_value(r):\n",
    "    if not pd.isna(r[\"converted_ogtt2_value\"]):\n",
    "        return r[\"converted_ogtt2_value\"]\n",
    "    return r[\"converted_ogtt_value\"]\n"
   ]
  },
  {
   "cell_type": "code",
   "execution_count": null,
   "id": "3",
   "metadata": {},
   "outputs": [],
   "source": [
    "from meta_analytics.dataframes import get_screening_df\n",
    "\n",
    "df_screening = get_screening_df()\n",
    "df_screening[\"visit_code\"] = \"Enrol\"\n",
    "df_screening[\"fbg_value\"] = df_screening.apply(get_fbg_value, axis=1)\n",
    "df_screening[\"ogtt_value\"] = df_screening.apply(get_ogtt_value, axis=1)\n",
    "df_screening[\"site_id\"] = df_screening.site.astype(int)\n",
    "df_screening = df_screening.drop(columns=[\"site\"])\n"
   ]
  },
  {
   "cell_type": "code",
   "execution_count": null,
   "id": "4",
   "metadata": {},
   "outputs": [],
   "source": [
    "df_screening.query(\"\")"
   ]
  },
  {
   "cell_type": "code",
   "execution_count": null,
   "id": "5",
   "metadata": {},
   "outputs": [],
   "source": [
    "fbg = set(df_screening[df_screening.fbg_value>=7.0][[\"id\"]].id.to_list())\n",
    "ogtt = set(df_screening[df_screening.ogtt_value>=11.1][[\"id\"]].id.to_list())\n",
    "hba1c = set(df_screening[df_screening.hba1c_value>=6.5][[\"id\"]].id.to_list())\n"
   ]
  },
  {
   "cell_type": "code",
   "execution_count": null,
   "id": "6",
   "metadata": {},
   "outputs": [],
   "source": [
    "\n",
    "# plt.figure(figsize=(6, 6))\n",
    "fig, ax = plt.subplots(figsize=(8, 8))\n",
    "venn = venn3([fbg, ogtt, hba1c], set_labels=('FBG≥7.0 mmol/L', 'OGTT≥11.1 mmol/L', 'HBA1C≥6.5%'), ax=ax)\n",
    "plt.title(\"Overlap in diabetes indicators for all screened patients (n=5552)\")\n",
    "\n",
    "region_ids = ['100', '010', '001']\n",
    "for idx, region_id in enumerate(region_ids):\n",
    "    patch = venn.get_patch_by_id(region_id)\n",
    "    label = venn.set_labels[idx]\n",
    "    if patch and label:\n",
    "        label.set_color(patch.get_facecolor())\n",
    "        label.set_fontweight('bold')\n",
    "\n",
    "# Show the plot\n",
    "# plt.show()\n",
    "plt.savefig(analysis_folder / \"meta3_venn.png\", bbox_inches='tight')\n",
    "\n"
   ]
  },
  {
   "cell_type": "code",
   "execution_count": null,
   "id": "7",
   "metadata": {},
   "outputs": [],
   "source": []
  },
  {
   "cell_type": "code",
   "execution_count": null,
   "id": "8",
   "metadata": {},
   "outputs": [],
   "source": [
    "\n",
    "import matplotlib.pyplot as plt\n",
    "from matplotlib_venn import venn2\n",
    "from pathlib import Path\n",
    "\n",
    "# Define the output folder\n",
    "analysis_folder = Path(\"analysis_output\")\n",
    "analysis_folder.mkdir(parents=True, exist_ok=True)\n",
    "\n",
    "# Define the sets\n",
    "set1 = set(['A', 'B', 'C', 'D'])\n",
    "set2 = set(['C', 'D', 'E', 'F'])\n",
    "\n",
    "# Create the figure and axis\n",
    "fig, ax = plt.subplots(figsize=(6, 6))\n",
    "\n",
    "# Draw the Venn diagram on the axis\n",
    "venn2([set1, set2], set_labels=('Set 1', 'Set 2'), ax=ax)\n",
    "\n",
    "# Save the figure\n",
    "fig.savefig(analysis_folder / \"meta3_venn.png\", bbox_inches='tight')\n"
   ]
  },
  {
   "cell_type": "code",
   "execution_count": null,
   "id": "9",
   "metadata": {},
   "outputs": [],
   "source": []
  }
 ],
 "metadata": {
  "kernelspec": {
   "display_name": "Python 3",
   "language": "python",
   "name": "python3"
  },
  "language_info": {
   "codemirror_mode": {
    "name": "ipython",
    "version": 2
   },
   "file_extension": ".py",
   "mimetype": "text/x-python",
   "name": "python",
   "nbconvert_exporter": "python",
   "pygments_lexer": "ipython2",
   "version": "2.7.6"
  }
 },
 "nbformat": 4,
 "nbformat_minor": 5
}
