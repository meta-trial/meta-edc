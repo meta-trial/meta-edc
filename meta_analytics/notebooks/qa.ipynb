{
 "cells": [
  {
   "cell_type": "code",
   "execution_count": null,
   "id": "0",
   "metadata": {},
   "outputs": [],
   "source": [
    "\n",
    "%%capture\n",
    "import os\n",
    "from pathlib import Path\n",
    "\n",
    "import pandas as pd\n",
    "from dj_notebook import activate\n",
    "\n",
    "env_file = os.environ[\"META_ENV\"]\n",
    "reports_folder = Path(os.environ[\"META_REPORTS_FOLDER\"])\n",
    "analysis_folder = Path(os.environ[\"META_ANALYSIS_FOLDER\"])\n",
    "pharmacy_folder = Path(os.environ[\"META_PHARMACY_FOLDER\"])\n",
    "plus = activate(dotenv_file=env_file)"
   ]
  },
  {
   "cell_type": "code",
   "execution_count": null,
   "id": "1",
   "metadata": {},
   "outputs": [],
   "source": [
    "from edc_pharmacy.analytics import get_next_scheduled_visit_for_subjects_df\n",
    "from edc_pharmacy.analytics import in_stock_for_subjects_df"
   ]
  },
  {
   "cell_type": "code",
   "execution_count": null,
   "id": "2",
   "metadata": {},
   "outputs": [],
   "source": [
    "\n",
    "df_next_appts = get_next_scheduled_visit_for_subjects_df()"
   ]
  },
  {
   "cell_type": "code",
   "execution_count": null,
   "id": "3",
   "metadata": {},
   "outputs": [],
   "source": [
    "df_next_appts"
   ]
  },
  {
   "cell_type": "code",
   "execution_count": null,
   "id": "4",
   "metadata": {},
   "outputs": [],
   "source": [
    "df_stock = in_stock_for_subjects_df(container_name='bottle128', product_name=\"Metformin\").fillna(pd.NA).groupby('subject_identifier')[\n",
    "    'code'].agg(','.join).reset_index()"
   ]
  },
  {
   "cell_type": "code",
   "execution_count": null,
   "id": "5",
   "metadata": {},
   "outputs": [],
   "source": []
  },
  {
   "cell_type": "code",
   "execution_count": null,
   "id": "6",
   "metadata": {},
   "outputs": [],
   "source": [
    "df = df_next_appts.merge(df_stock[[\"subject_identifier\", \"code\"]], on=\"subject_identifier\", how=\"left\")"
   ]
  },
  {
   "cell_type": "code",
   "execution_count": null,
   "id": "7",
   "metadata": {},
   "outputs": [],
   "source": [
    "df[[\"subject_identifier\", \"code\", \"site_id\"]]"
   ]
  },
  {
   "cell_type": "code",
   "execution_count": null,
   "id": "8",
   "metadata": {},
   "outputs": [],
   "source": [
    "from edc_pharmacy.models import Stock\n",
    "from edc_visit_schedule.models import SubjectScheduleHistory\n",
    "from django_pandas.io import read_frame\n",
    "from edc_pharmacy.utils import get_imp_schedule_names\n",
    "visit_schedule_names, schedule_names = get_imp_schedule_names()\n",
    "\n",
    "df_schedule = read_frame(\n",
    "    SubjectScheduleHistory.objects.values(\n",
    "        \"subject_identifier\",\n",
    "        \"visit_schedule_name\",\n",
    "        \"schedule_name\",\n",
    "        \"offschedule_datetime\",\n",
    "    ).filter(\n",
    "        visit_schedule_name__in=visit_schedule_names,\n",
    "        schedule_name__in=schedule_names,\n",
    "        offschedule_datetime__isnull=True,\n",
    "    )\n",
    ")\n",
    "\n",
    "df_stock_on_site = read_frame(\n",
    "    Stock.objects.values(\n",
    "        \"code\", \"allocation__registered_subject__subject_identifier\"\n",
    "    ).filter(confirmed_at_site=True, dispensed=False),\n",
    "    verbose=False,\n",
    ").rename(\n",
    "    columns={\"allocation__registered_subject__subject_identifier\": \"subject_identifier\"}\n",
    ")\n",
    "\n"
   ]
  },
  {
   "cell_type": "code",
   "execution_count": null,
   "id": "9",
   "metadata": {},
   "outputs": [],
   "source": [
    "df = (\n",
    "    pd.merge(\n",
    "        df_schedule[[\"subject_identifier\"]],\n",
    "        df_stock_on_site,\n",
    "        on=\"subject_identifier\",\n",
    "        how=\"left\",\n",
    "    )\n",
    "    .fillna(pd.NA)\n",
    "    # .query(\"code.isna()\")[[\"subject_identifier\", \"code\"]]\n",
    ")\n"
   ]
  },
  {
   "cell_type": "code",
   "execution_count": null,
   "id": "10",
   "metadata": {},
   "outputs": [],
   "source": [
    "df"
   ]
  },
  {
   "cell_type": "code",
   "execution_count": null,
   "id": "11",
   "metadata": {},
   "outputs": [],
   "source": [
    "df = df.fillna(\"\")\n",
    "df = (\n",
    "    df\n",
    "    # .query(\"code.isna()\")[[\"subject_identifier\", \"code\"]]\n",
    "    .groupby(\"subject_identifier\")[\"code\"]\n",
    "    .agg(\",\".join)\n",
    "    .reset_index()\n",
    "    .sort_values(by=[\"subject_identifier\"])\n",
    "    .reset_index(drop=True)\n",
    ")"
   ]
  },
  {
   "cell_type": "code",
   "execution_count": null,
   "id": "12",
   "metadata": {},
   "outputs": [],
   "source": [
    "df"
   ]
  },
  {
   "cell_type": "code",
   "execution_count": null,
   "id": "13",
   "metadata": {},
   "outputs": [],
   "source": [
    "df.query(\"code.str.strip()==''\")"
   ]
  },
  {
   "cell_type": "code",
   "execution_count": null,
   "id": "14",
   "metadata": {},
   "outputs": [],
   "source": []
  }
 ],
 "metadata": {
  "kernelspec": {
   "display_name": "Python 3",
   "language": "python",
   "name": "python3"
  },
  "language_info": {
   "codemirror_mode": {
    "name": "ipython",
    "version": 2
   },
   "file_extension": ".py",
   "mimetype": "text/x-python",
   "name": "python",
   "nbconvert_exporter": "python",
   "pygments_lexer": "ipython2",
   "version": "2.7.6"
  }
 },
 "nbformat": 4,
 "nbformat_minor": 5
}
