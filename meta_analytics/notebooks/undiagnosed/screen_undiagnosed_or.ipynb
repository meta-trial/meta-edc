{
 "cells": [
  {
   "cell_type": "code",
   "execution_count": null,
   "id": "0",
   "metadata": {},
   "outputs": [],
   "source": [
    "%%capture\n",
    "# output is suppressed but normally would spew out all the edc loading messages\n",
    "\n",
    "import os\n",
    "from pathlib import Path\n",
    "from datetime import datetime\n",
    "import pandas as pd\n",
    "import numpy as np\n",
    "import math\n",
    "# import matplotlxib.pyplot as plt\n",
    "# import seaborn as sns\n",
    "import scipy.stats as stats\n",
    "\n",
    "from dj_notebook import activate\n",
    "\n",
    "env_file = os.environ[\"META_ENV\"]\n",
    "documents_folder = os.environ[\"META_DOCUMENTS_FOLDER\"]\n",
    "report_folder = Path(documents_folder)\n",
    "\n",
    "plus = activate(dotenv_file=env_file)\n"
   ]
  },
  {
   "cell_type": "code",
   "execution_count": null,
   "id": "1",
   "metadata": {},
   "outputs": [],
   "source": [
    "import itertools\n",
    "from meta_analytics.dataframes import GlucoseEndpointsByDate, get_eos_df, get_screening_df\n",
    "from meta_analytics.dataframes.screening import get_glucose_tested_only_df\n"
   ]
  },
  {
   "cell_type": "code",
   "execution_count": null,
   "id": "2",
   "metadata": {},
   "outputs": [],
   "source": [
    "df_glu2 = get_glucose_tested_only_df()\n",
    "cond_fasting2 = (df_glu2.fasting == \"Yes\") & (df_glu2.fasting_fbg_hrs >= 8.0)\n",
    "cond_f2 = (df_glu2[\"gender\"] == \"F\")\n",
    "cond_m2 = (df_glu2[\"gender\"] == \"M\")\n"
   ]
  },
  {
   "cell_type": "code",
   "execution_count": null,
   "id": "3",
   "metadata": {},
   "outputs": [],
   "source": [
    "# df_glu[cond_f & cond_fasting & (df_glu.ogtt.notna()) & ((df_glu.fbg>=7.0) | (df_glu.ogtt>=11.1))].count()\n",
    "\n",
    "# when ogtt not done \n",
    "# df_glu[cond_f & cond_fasting & (df_glu.ogtt.isna())].fbg.describe()\n",
    "\n",
    "# we never have ogtt w/o fbg\n",
    "# df_glu[cond_f & cond_fasting & (df_glu.fbg.isna())].ogtt.describe()\n",
    "\n",
    "# df_glu = df_glu.reset_index(drop=False)\n",
    "def dx(row):\n",
    "    # print((row.fbg>=7.0) & (row.ogtt>=11.1))\n",
    "    # print(row.fbg, row.ogtt)\n",
    "    if (row.fbg>=7.0) & (row.fbg<10.0) & (row.ogtt>=11.1):\n",
    "        ret = \"fbg_ogtt\"\n",
    "    elif (row.fbg>=7.0) & (row.fbg<10.0) & (row.ogtt<11.1):\n",
    "        ret = \"fbg_only\"\n",
    "    elif (row.fbg<7.0) & (row.ogtt>=11.1):\n",
    "        ret = \"ogtt_only\"\n",
    "    elif (row.fbg<7.0) & (row.ogtt<11.1):\n",
    "        ret = \"neither\"\n",
    "    else:\n",
    "        ret = None\n",
    "        # print(row.fbg, row.ogtt)\n",
    "    return ret\n",
    "    \n",
    "df_glu2[\"glucose\"] = \"\"        \n",
    "df_glu2[\"glucose\"] = df_glu2[cond_fasting2].apply(lambda r: dx(r), axis=1)\n",
    "# df_glu[cond_fasting & cond_f]\n"
   ]
  },
  {
   "cell_type": "code",
   "execution_count": null,
   "id": "4",
   "metadata": {},
   "outputs": [],
   "source": [
    "df_glu2[\"glucose\"].value_counts()\n"
   ]
  },
  {
   "cell_type": "code",
   "execution_count": null,
   "id": "5",
   "metadata": {},
   "outputs": [],
   "source": [
    "df_glu2[cond_fasting2 & cond_f2][\"glucose\"].value_counts()\n"
   ]
  },
  {
   "cell_type": "code",
   "execution_count": null,
   "id": "6",
   "metadata": {},
   "outputs": [],
   "source": [
    "df_glu2[cond_fasting2 & cond_m2][\"glucose\"].value_counts()"
   ]
  },
  {
   "cell_type": "code",
   "execution_count": null,
   "id": "7",
   "metadata": {},
   "outputs": [],
   "source": [
    "from sklearn.metrics import cohen_kappa_score"
   ]
  },
  {
   "cell_type": "code",
   "execution_count": null,
   "id": "8",
   "metadata": {},
   "outputs": [],
   "source": [
    "df_glu2[cond_fasting2 & cond_m2 & (df_glu2.fbg>=7.0) & (df_glu2.fbg<10.0) ].glucose.value_counts()\n",
    "# y2 = df_glu2[cond_fasting2 & cond_f2 & (df_glu2.fbg<7.0)].glucose"
   ]
  },
  {
   "cell_type": "code",
   "execution_count": null,
   "id": "9",
   "metadata": {},
   "outputs": [],
   "source": [
    "# cohen_kappa_score(y1, y2)"
   ]
  },
  {
   "cell_type": "code",
   "execution_count": null,
   "id": "10",
   "metadata": {},
   "outputs": [],
   "source": [
    "cond_fasting = (df_glu2.fasting == \"Yes\") & (df_glu2.fasting_fbg_hrs >= 8.0)\n",
    "\n",
    "df_glu2[\"fbg_threshold\"] = (df_glu2[cond_fasting].fbg >= 7.0) & (df_glu2[cond_fasting].fbg < 10.0)\n",
    "df_glu2[\"ogtt_threshold\"] = df_glu2[cond_fasting].ogtt >= 11.1\n"
   ]
  },
  {
   "cell_type": "code",
   "execution_count": null,
   "id": "11",
   "metadata": {},
   "outputs": [],
   "source": [
    "df_glu2[\"fbg_threshold\"].value_counts()"
   ]
  },
  {
   "cell_type": "code",
   "execution_count": null,
   "id": "12",
   "metadata": {},
   "outputs": [],
   "source": [
    "df_glu2[\"ogtt_threshold\"].value_counts()"
   ]
  },
  {
   "cell_type": "code",
   "execution_count": null,
   "id": "13",
   "metadata": {},
   "outputs": [],
   "source": [
    "# female\n",
    "df_glu2[cond_f2][[\"fbg_threshold\", \"ogtt_threshold\"]].value_counts()"
   ]
  },
  {
   "cell_type": "code",
   "execution_count": null,
   "id": "14",
   "metadata": {},
   "outputs": [],
   "source": [
    "# male\n",
    "df_glu2[cond_m2][[\"fbg_threshold\", \"ogtt_threshold\"]].value_counts()"
   ]
  },
  {
   "cell_type": "code",
   "execution_count": null,
   "id": "15",
   "metadata": {},
   "outputs": [],
   "source": [
    "from scipy.stats.contingency import odds_ratio\n",
    "\n",
    "# female\n",
    "res = odds_ratio([[76, 414], [72,3639]])\n",
    "res.statistic"
   ]
  },
  {
   "cell_type": "code",
   "execution_count": null,
   "id": "16",
   "metadata": {},
   "outputs": [],
   "source": [
    "res.confidence_interval(confidence_level=0.95)"
   ]
  },
  {
   "cell_type": "code",
   "execution_count": null,
   "id": "17",
   "metadata": {},
   "outputs": [],
   "source": [
    "# male\n",
    "res = odds_ratio([[28, 141], [48,1197]])\n",
    "res.statistic"
   ]
  },
  {
   "cell_type": "code",
   "execution_count": null,
   "id": "18",
   "metadata": {},
   "outputs": [],
   "source": [
    "res.confidence_interval(confidence_level=0.95)"
   ]
  },
  {
   "cell_type": "code",
   "execution_count": null,
   "id": "19",
   "metadata": {},
   "outputs": [],
   "source": [
    "df_glu2[cond_fasting].count()"
   ]
  },
  {
   "cell_type": "code",
   "execution_count": null,
   "id": "20",
   "metadata": {},
   "outputs": [],
   "source": []
  }
 ],
 "metadata": {
  "kernelspec": {
   "display_name": "Python 3 (ipykernel)",
   "language": "python",
   "name": "python3"
  },
  "language_info": {
   "codemirror_mode": {
    "name": "ipython",
    "version": 3
   },
   "file_extension": ".py",
   "mimetype": "text/x-python",
   "name": "python",
   "nbconvert_exporter": "python",
   "pygments_lexer": "ipython3",
   "version": "3.12.4"
  }
 },
 "nbformat": 4,
 "nbformat_minor": 5
}
