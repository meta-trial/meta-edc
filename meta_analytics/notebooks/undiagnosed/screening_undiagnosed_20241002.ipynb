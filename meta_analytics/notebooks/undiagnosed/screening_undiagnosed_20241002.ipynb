{
 "cells": [
  {
   "cell_type": "code",
   "execution_count": null,
   "id": "0",
   "metadata": {},
   "outputs": [],
   "source": [
    "%%capture\n",
    "# output is suppressed but normally would spew out all the edc loading messages\n",
    "\n",
    "import os\n",
    "from pathlib import Path\n",
    "from datetime import datetime\n",
    "import pandas as pd\n",
    "import numpy as np\n",
    "import math\n",
    "# import matplotlxib.pyplot as plt\n",
    "# import seaborn as sns\n",
    "import scipy.stats as stats\n",
    "\n",
    "from dj_notebook import activate\n",
    "\n",
    "env_file = os.environ[\"META_ENV\"]\n",
    "documents_folder = os.environ[\"META_DOCUMENTS_FOLDER\"]\n",
    "report_folder = Path(documents_folder)\n",
    "\n",
    "plus = activate(dotenv_file=env_file)\n"
   ]
  },
  {
   "cell_type": "code",
   "execution_count": null,
   "id": "1",
   "metadata": {},
   "outputs": [],
   "source": [
    "import itertools\n",
    "from meta_analytics.dataframes import GlucoseEndpointsByDate, get_eos_df, get_screening_df\n",
    "from meta_analytics.dataframes.screening import get_glucose_tested_only_df\n"
   ]
  },
  {
   "cell_type": "code",
   "execution_count": null,
   "id": "2",
   "metadata": {},
   "outputs": [],
   "source": [
    "\n",
    "df = get_screening_df()\n"
   ]
  },
  {
   "cell_type": "code",
   "execution_count": null,
   "id": "3",
   "metadata": {},
   "outputs": [],
   "source": [
    "# unwilling to stay or not living nearby\n",
    "df[(df[\"reasons_ineligible_part_one\"].str.contains(\"nearby\", na=False)) & (~df[\"reasons_ineligible_part_one\"].str.contains(\"ART\", na=False)) & (~df[\"reasons_ineligible_part_one\"].str.contains(\"VL\", na=False)) & (~df[\"reasons_ineligible_part_one\"].str.contains(\"Pregnant\", na=False)) & (~df[\"reasons_ineligible_part_one\"].str.contains(\"META\", na=False))].reasons_ineligible_part_one.value_counts(dropna=False)\n"
   ]
  },
  {
   "cell_type": "code",
   "execution_count": null,
   "id": "4",
   "metadata": {},
   "outputs": [],
   "source": [
    "df[(df[\"reasons_ineligible_part_one\"].str.contains(\"nearby\", na=False)) & (~df[\"reasons_ineligible_part_one\"].str.contains(\"ART\", na=False)) & (~df[\"reasons_ineligible_part_one\"].str.contains(\"VL\", na=False)) & (~df[\"reasons_ineligible_part_one\"].str.contains(\"Pregnant\", na=False)) & (~df[\"reasons_ineligible_part_one\"].str.contains(\"META\", na=False))].reasons_ineligible_part_one.count()"
   ]
  },
  {
   "cell_type": "code",
   "execution_count": null,
   "id": "5",
   "metadata": {},
   "outputs": [],
   "source": [
    "df[\n",
    "(df[\"reasons_ineligible_part_one\"].str.contains(\"ART\", na=False)) & \n",
    "(~df[\"reasons_ineligible_part_one\"].str.contains(\"VL\", na=False)) & \n",
    "(~df[\"reasons_ineligible_part_one\"].str.contains(\"Pregnant\", na=False)) & \n",
    "(~df[\"reasons_ineligible_part_one\"].str.contains(\"META\", na=False))\n",
    "].reasons_ineligible_part_one.count()"
   ]
  },
  {
   "cell_type": "code",
   "execution_count": null,
   "id": "6",
   "metadata": {},
   "outputs": [],
   "source": [
    "# VL not suppressed or not measured within last 6-12\n",
    "df[\n",
    "(~df[\"reasons_ineligible_part_one\"].str.contains(\"ART\", na=False)) & \n",
    "(df[\"reasons_ineligible_part_one\"].str.contains(\"VL\", na=False)) & \n",
    "(~df[\"reasons_ineligible_part_one\"].str.contains(\"Pregnant\", na=False)) & \n",
    "(~df[\"reasons_ineligible_part_one\"].str.contains(\"META\", na=False))\n",
    "].reasons_ineligible_part_one.count()"
   ]
  },
  {
   "cell_type": "code",
   "execution_count": null,
   "id": "7",
   "metadata": {},
   "outputs": [],
   "source": [
    "# pregnant (unconfirmed)\n",
    "df[\n",
    "(~df[\"reasons_ineligible_part_one\"].str.contains(\"ART\", na=False)) & \n",
    "(~df[\"reasons_ineligible_part_one\"].str.contains(\"VL\", na=False)) & \n",
    "(df[\"reasons_ineligible_part_one\"].str.contains(\"Pregnant\", na=False)) & \n",
    "(~df[\"reasons_ineligible_part_one\"].str.contains(\"META\", na=False))\n",
    "].reasons_ineligible_part_one.counts()"
   ]
  },
  {
   "cell_type": "code",
   "execution_count": null,
   "id": "8",
   "metadata": {},
   "outputs": [],
   "source": [
    "# META 2 participant\n",
    "df[\n",
    "(~df[\"reasons_ineligible_part_one\"].str.contains(\"ART\", na=False)) & \n",
    "(~df[\"reasons_ineligible_part_one\"].str.contains(\"VL\", na=False)) & \n",
    "(~df[\"reasons_ineligible_part_one\"].str.contains(\"Pregnant\", na=False)) & \n",
    "(df[\"reasons_ineligible_part_one\"].str.contains(\"META\", na=False))\n",
    "].reasons_ineligible_part_one.count()"
   ]
  },
  {
   "cell_type": "code",
   "execution_count": null,
   "id": "9",
   "metadata": {},
   "outputs": [],
   "source": [
    "prods = list(itertools.product([\"Yes\", \"No\", \"tbd\"], repeat=3))\n",
    "dfs = []\n",
    "for p in prods:\n",
    "    if p[0] == \"tbd\":\n",
    "        continue\n",
    "    dfs.append(\n",
    "        pd.DataFrame([[\n",
    "            p[0], \n",
    "            p[1],\n",
    "            p[2],\n",
    "            df[\n",
    "                (df.eligible_part_one==p[0]) & \n",
    "                (df.eligible_part_two==p[1]) &\n",
    "                (df.eligible_part_three==p[2])\n",
    "            ].eligible_part_three.count()]],\n",
    "            columns=[\"p1\", \"p2\", \"p3\", \"count\"]))\n",
    "\n",
    "df_eligibility = pd.concat(dfs, ignore_index=True)\n",
    "df_eligibility"
   ]
  },
  {
   "cell_type": "code",
   "execution_count": null,
   "id": "10",
   "metadata": {},
   "outputs": [],
   "source": []
  },
  {
   "cell_type": "code",
   "execution_count": null,
   "id": "11",
   "metadata": {},
   "outputs": [],
   "source": [
    "# assessed part one only\n",
    "p1 = df_eligibility[df_eligibility.p2.isin([\"tbd\"])][\"count\"].sum()\n",
    "p1"
   ]
  },
  {
   "cell_type": "code",
   "execution_count": null,
   "id": "12",
   "metadata": {},
   "outputs": [],
   "source": [
    "# assessed part one and part two\n",
    "p12 = df_eligibility[\n",
    "    (df_eligibility.p1.isin([\"Yes\", \"No\"])) & \n",
    "    (df_eligibility.p2.isin([\"Yes\", \"No\"])) & \n",
    "    (df_eligibility.p3 == \"tbd\")\n",
    "][\"count\"].sum()\n",
    "p12"
   ]
  },
  {
   "cell_type": "code",
   "execution_count": null,
   "id": "13",
   "metadata": {},
   "outputs": [],
   "source": [
    "# assessed part one, part two, part three\n",
    "p123 = df_eligibility[\n",
    "    (df_eligibility.p1.isin([\"Yes\", \"No\"])) & \n",
    "    (df_eligibility.p2.isin([\"Yes\", \"No\"])) & \n",
    "    (df_eligibility.p3 != \"tbd\")\n",
    "][\"count\"].sum()\n",
    "p123"
   ]
  },
  {
   "cell_type": "code",
   "execution_count": null,
   "id": "14",
   "metadata": {},
   "outputs": [],
   "source": [
    "assert p1+p12+p123 == 10574"
   ]
  },
  {
   "cell_type": "code",
   "execution_count": null,
   "id": "15",
   "metadata": {},
   "outputs": [],
   "source": [
    "p12 + p123"
   ]
  },
  {
   "cell_type": "code",
   "execution_count": null,
   "id": "16",
   "metadata": {},
   "outputs": [],
   "source": [
    "cond = (df[\"eligible_part_one\"] == \"Yes\") \n",
    "df[cond].count()"
   ]
  },
  {
   "cell_type": "code",
   "execution_count": null,
   "id": "17",
   "metadata": {},
   "outputs": [],
   "source": [
    "# 9706 evaluated for part one and two\n",
    "cond = (df[\"eligible_part_one\"].isin([\"Yes\", \"No\"])) & (df[\"eligible_part_two\"].isin([\"Yes\", \"No\"]))\n",
    "df[cond].count()"
   ]
  },
  {
   "cell_type": "code",
   "execution_count": null,
   "id": "18",
   "metadata": {},
   "outputs": [],
   "source": []
  },
  {
   "cell_type": "code",
   "execution_count": null,
   "id": "19",
   "metadata": {},
   "outputs": [],
   "source": []
  },
  {
   "cell_type": "code",
   "execution_count": null,
   "id": "20",
   "metadata": {},
   "outputs": [],
   "source": []
  },
  {
   "cell_type": "code",
   "execution_count": null,
   "id": "21",
   "metadata": {},
   "outputs": [],
   "source": [
    "# 9706 evaluated for part one and two\n",
    "cond = (df[\"eligible_part_one\"].isin([\"Yes\", \"No\"])) & (df[\"eligible_part_two\"].isin([\"Yes\", \"No\"]))\n",
    "df[cond].eligible_part_three.value_counts()\n",
    "\n"
   ]
  },
  {
   "cell_type": "code",
   "execution_count": null,
   "id": "22",
   "metadata": {},
   "outputs": [],
   "source": []
  },
  {
   "cell_type": "code",
   "execution_count": null,
   "id": "23",
   "metadata": {},
   "outputs": [],
   "source": []
  },
  {
   "cell_type": "code",
   "execution_count": null,
   "id": "24",
   "metadata": {},
   "outputs": [],
   "source": [
    "df_glu = get_glucose_tested_only_df()"
   ]
  },
  {
   "cell_type": "code",
   "execution_count": null,
   "id": "25",
   "metadata": {},
   "outputs": [],
   "source": [
    "df_glu.eligible_part_three.value_counts()\n"
   ]
  },
  {
   "cell_type": "code",
   "execution_count": null,
   "id": "26",
   "metadata": {},
   "outputs": [],
   "source": [
    "cond = (df[\"eligible_part_one\"].isin([\"Yes\"])) & (df[\"eligible_part_two\"].isin([\"Yes\"]))\n",
    "df[cond].agree_to_p3.value_counts()"
   ]
  },
  {
   "cell_type": "code",
   "execution_count": null,
   "id": "27",
   "metadata": {},
   "outputs": [],
   "source": [
    "df_glu.gender.value_counts()"
   ]
  },
  {
   "cell_type": "code",
   "execution_count": null,
   "id": "28",
   "metadata": {},
   "outputs": [],
   "source": [
    "df_glu = df_glu.set_index(\"screening_identifier\")"
   ]
  },
  {
   "cell_type": "code",
   "execution_count": null,
   "id": "29",
   "metadata": {},
   "outputs": [],
   "source": [
    "cond = (df[\"eligible_part_one\"].isin([\"Yes\", \"No\"])) & (df[\"eligible_part_two\"].isin([\"Yes\", \"No\"]) & (df[\"has_dm\"]==\"No\"))\n",
    "df[cond].eligible_part_three.count()\n"
   ]
  },
  {
   "cell_type": "code",
   "execution_count": null,
   "id": "30",
   "metadata": {},
   "outputs": [],
   "source": [
    "df2 = df[cond].copy()\n",
    "df2 = df2.reset_index(drop=True)\n",
    "df2 = df2.set_index(\"screening_identifier\")\n",
    "df2.count()"
   ]
  },
  {
   "cell_type": "code",
   "execution_count": null,
   "id": "31",
   "metadata": {},
   "outputs": [],
   "source": [
    "df2 = df2.drop(index=df_glu.index)"
   ]
  },
  {
   "cell_type": "code",
   "execution_count": null,
   "id": "32",
   "metadata": {},
   "outputs": [],
   "source": [
    "df2.count()"
   ]
  },
  {
   "cell_type": "code",
   "execution_count": null,
   "id": "33",
   "metadata": {},
   "outputs": [],
   "source": [
    "df2.gender.value_counts()"
   ]
  },
  {
   "cell_type": "code",
   "execution_count": null,
   "id": "34",
   "metadata": {},
   "outputs": [],
   "source": [
    "df2[df2[\"gender\"] == \"F\"].age_in_years.describe()"
   ]
  },
  {
   "cell_type": "code",
   "execution_count": null,
   "id": "35",
   "metadata": {},
   "outputs": [],
   "source": [
    "df_glu[df_glu[\"gender\"] == \"F\"].age_in_years.describe()"
   ]
  },
  {
   "cell_type": "code",
   "execution_count": null,
   "id": "36",
   "metadata": {},
   "outputs": [],
   "source": [
    "df_glu.age_in_years.describe()"
   ]
  },
  {
   "cell_type": "code",
   "execution_count": null,
   "id": "37",
   "metadata": {},
   "outputs": [],
   "source": [
    "df_glu[df_glu[\"gender\"] == \"M\"].age_in_years.describe()"
   ]
  },
  {
   "cell_type": "code",
   "execution_count": null,
   "id": "38",
   "metadata": {},
   "outputs": [],
   "source": [
    "import scipy.stats as stats\n",
    "df_glu[(df_glu[\"gender\"] == \"F\")].count()"
   ]
  },
  {
   "cell_type": "code",
   "execution_count": null,
   "id": "39",
   "metadata": {},
   "outputs": [],
   "source": [
    "cond_fasting = (df_glu.fasting == \"Yes\") & (df_glu.fasting_fbg_hrs >= 8.0)\n",
    "cond_f = (df_glu[\"gender\"] == \"F\")\n",
    "cond_m = (df_glu[\"gender\"] == \"M\")\n",
    "\n",
    "df_glu[(df_glu.fasting == \"Yes\") & (df_glu.fasting_fbg_hrs >= 8.0)].gender.value_counts()"
   ]
  },
  {
   "cell_type": "code",
   "execution_count": null,
   "id": "40",
   "metadata": {},
   "outputs": [],
   "source": [
    "df_glu[cond_fasting & cond_f].count()\n",
    "df_glu[cond_fasting & cond_f & (df_glu.ogtt.notna())].count()"
   ]
  },
  {
   "cell_type": "code",
   "execution_count": null,
   "id": "41",
   "metadata": {},
   "outputs": [],
   "source": []
  },
  {
   "cell_type": "code",
   "execution_count": null,
   "id": "42",
   "metadata": {},
   "outputs": [],
   "source": [
    "df_glu[\"fbg_threshold\"] = df_glu[cond_fasting].fbg >= 7.0\n",
    "df_glu[\"ogtt_threshold\"] = df_glu[cond_fasting].ogtt >= 11.1\n"
   ]
  },
  {
   "cell_type": "code",
   "execution_count": null,
   "id": "43",
   "metadata": {},
   "outputs": [],
   "source": [
    "df_glu_female = df_glu[cond_f & cond_fasting][[\"fbg_threshold\", \"ogtt_threshold\"]].value_counts().to_frame().reset_index()"
   ]
  },
  {
   "cell_type": "code",
   "execution_count": null,
   "id": "44",
   "metadata": {},
   "outputs": [],
   "source": [
    "assert df_glu_female[\"count\"].sum() == 4201"
   ]
  },
  {
   "cell_type": "code",
   "execution_count": null,
   "id": "45",
   "metadata": {},
   "outputs": [],
   "source": [
    "assert df_glu_female[df_glu_female.fbg_threshold == True][\"count\"].sum() == 534"
   ]
  },
  {
   "cell_type": "code",
   "execution_count": null,
   "id": "46",
   "metadata": {},
   "outputs": [],
   "source": [
    "assert df_glu_female[df_glu_female.ogtt_threshold == True][\"count\"].sum() == 148"
   ]
  },
  {
   "cell_type": "code",
   "execution_count": null,
   "id": "47",
   "metadata": {},
   "outputs": [],
   "source": [
    "assert df_glu[cond_f & cond_fasting & (df_glu.fbg >= 7.0)][\"gender\"].count() == 534\n",
    "assert df_glu_female[df_glu_female.fbg_threshold == True][\"count\"].sum() == 534"
   ]
  },
  {
   "cell_type": "code",
   "execution_count": null,
   "id": "48",
   "metadata": {},
   "outputs": [],
   "source": []
  },
  {
   "cell_type": "code",
   "execution_count": null,
   "id": "49",
   "metadata": {},
   "outputs": [],
   "source": []
  },
  {
   "cell_type": "code",
   "execution_count": null,
   "id": "50",
   "metadata": {},
   "outputs": [],
   "source": []
  },
  {
   "cell_type": "code",
   "execution_count": null,
   "id": "51",
   "metadata": {},
   "outputs": [],
   "source": []
  },
  {
   "cell_type": "code",
   "execution_count": null,
   "id": "52",
   "metadata": {},
   "outputs": [],
   "source": []
  },
  {
   "cell_type": "code",
   "execution_count": null,
   "id": "53",
   "metadata": {},
   "outputs": [],
   "source": [
    "# men fbg\n",
    "df_glu[cond_m & cond_fasting][[\"fbg\", \"ogtt\"]].count()"
   ]
  },
  {
   "cell_type": "code",
   "execution_count": null,
   "id": "54",
   "metadata": {},
   "outputs": [],
   "source": [
    "# men fbg\n",
    "assert df_glu[cond_m & cond_fasting & (df_glu.fbg >= 7.0)][\"gender\"].count() == 194"
   ]
  },
  {
   "cell_type": "code",
   "execution_count": null,
   "id": "55",
   "metadata": {},
   "outputs": [],
   "source": [
    "# men fbg\n",
    "194/1414"
   ]
  },
  {
   "cell_type": "code",
   "execution_count": null,
   "id": "56",
   "metadata": {},
   "outputs": [],
   "source": [
    "# men ogtt\n",
    "assert df_glu[cond_m & cond_fasting & (df_glu.ogtt >= 11.1)][\"gender\"].count() == 76"
   ]
  },
  {
   "cell_type": "code",
   "execution_count": null,
   "id": "57",
   "metadata": {},
   "outputs": [],
   "source": [
    "76/1393"
   ]
  },
  {
   "cell_type": "code",
   "execution_count": null,
   "id": "58",
   "metadata": {},
   "outputs": [],
   "source": [
    "\n",
    "df_glu_male = df_glu[cond_m & cond_fasting & (df_glu.)][\n",
    "[\"fbg_threshold\", \"ogtt_threshold\"]].value_counts().to_frame().reset_index()\n"
   ]
  },
  {
   "cell_type": "code",
   "execution_count": null,
   "id": "59",
   "metadata": {},
   "outputs": [],
   "source": [
    "df_glu_male"
   ]
  },
  {
   "cell_type": "code",
   "execution_count": null,
   "id": "60",
   "metadata": {},
   "outputs": [],
   "source": [
    "assert df_glu_male[\"count\"].sum() == 1414"
   ]
  },
  {
   "cell_type": "code",
   "execution_count": null,
   "id": "61",
   "metadata": {},
   "outputs": [],
   "source": []
  },
  {
   "cell_type": "code",
   "execution_count": null,
   "id": "62",
   "metadata": {},
   "outputs": [],
   "source": []
  },
  {
   "cell_type": "code",
   "execution_count": null,
   "id": "63",
   "metadata": {},
   "outputs": [],
   "source": []
  },
  {
   "cell_type": "code",
   "execution_count": null,
   "id": "64",
   "metadata": {},
   "outputs": [],
   "source": [
    "from scipy.stats.contingency import odds_ratio\n",
    "\n",
    "# female\n",
    "df_glu_female"
   ]
  },
  {
   "cell_type": "code",
   "execution_count": null,
   "id": "65",
   "metadata": {},
   "outputs": [],
   "source": [
    "# female\n",
    "res = odds_ratio([[98, 436], [50,3617]])\n",
    "res.statistic"
   ]
  },
  {
   "cell_type": "code",
   "execution_count": null,
   "id": "66",
   "metadata": {},
   "outputs": [],
   "source": [
    "# male\n",
    "df_glu_male"
   ]
  },
  {
   "cell_type": "code",
   "execution_count": null,
   "id": "67",
   "metadata": {},
   "outputs": [],
   "source": [
    "# male\n",
    "df_glu_male\n",
    "res = odds_ratio([[44, 32], [150,1188]])\n",
    "res.statistic"
   ]
  },
  {
   "cell_type": "code",
   "execution_count": null,
   "id": "68",
   "metadata": {},
   "outputs": [],
   "source": [
    "# female\n",
    "res.confidence_interval(confidence_level=0.95)"
   ]
  },
  {
   "cell_type": "code",
   "execution_count": null,
   "id": "69",
   "metadata": {},
   "outputs": [],
   "source": [
    "res.confidence_interval(confidence_level=0.95)"
   ]
  },
  {
   "cell_type": "code",
   "execution_count": null,
   "id": "70",
   "metadata": {},
   "outputs": [],
   "source": [
    "df_glu[\"ogtt\"].dtype"
   ]
  },
  {
   "cell_type": "code",
   "execution_count": null,
   "id": "71",
   "metadata": {},
   "outputs": [],
   "source": [
    "# df_glu[cond_f & cond_fasting & (df_glu.ogtt.notna()) & ((df_glu.fbg>=7.0) | (df_glu.ogtt>=11.1))].count()\n",
    "\n",
    "# when ogtt not done \n",
    "# df_glu[cond_f & cond_fasting & (df_glu.ogtt.isna())].fbg.describe()\n",
    "\n",
    "# we never have ogtt w/o fbg\n",
    "# df_glu[cond_f & cond_fasting & (df_glu.fbg.isna())].ogtt.describe()\n",
    "df_glu2 = get_glucose_tested_only_df()\n",
    "cond_fasting2 = (df_glu2.fasting == \"Yes\") & (df_glu2.fasting_fbg_hrs >= 8.0)\n",
    "\n",
    "# df_glu = df_glu.reset_index(drop=False)\n",
    "def dx(row):\n",
    "    # print((row.fbg>=7.0) & (row.ogtt>=11.1))\n",
    "    # print(row.fbg, row.ogtt)\n",
    "    if (row.fbg>=7.0) & (row.ogtt>=11.1):\n",
    "        ret = \"fbg_ogtt\"\n",
    "    elif (row.fbg>=7.0) & (row.ogtt<11.1):\n",
    "        ret = \"fbg_only\"\n",
    "    elif (row.fbg<7.0) & (row.ogtt>=11.1):\n",
    "        ret = \"ogtt_only\"\n",
    "    elif (row.fbg<7.0) & (row.ogtt<11.1):\n",
    "        ret = \"neither\"\n",
    "    else:\n",
    "        ret = \"error\"\n",
    "    return ret\n",
    "    \n",
    "df_glu2[\"glucose\"] = \"\"        \n",
    "df_glu2[\"glucose\"] = df_glu2[cond_fasting2].apply(lambda r: dx(r), axis=1)\n",
    "df_glu2[\"glucose\"].value_counts()\n",
    "# df_glu[cond_fasting & cond_f]\n"
   ]
  },
  {
   "cell_type": "code",
   "execution_count": null,
   "id": "72",
   "metadata": {},
   "outputs": [],
   "source": []
  },
  {
   "cell_type": "code",
   "execution_count": null,
   "id": "73",
   "metadata": {},
   "outputs": [],
   "source": [
    "df_glu[cond_m & cond_fasting & ((df_glu.fbg>=7.0) | (df_glu.ogtt>=11.1))].count()"
   ]
  },
  {
   "cell_type": "code",
   "execution_count": null,
   "id": "74",
   "metadata": {},
   "outputs": [],
   "source": [
    "df_glu_female = df_glu[\n",
    "    cond_f & \n",
    "    cond_fasting & \n",
    "    ((df_glu.fbg>=7.0) | (df_glu.fbg.isna()) | (df_glu.ogtt>=11.1) | (df_glu.ogtt.isna()) )\n",
    "][[\"fbg_threshold\", \"ogtt_threshold\"]].value_counts().to_frame().reset_index()\n",
    "df_glu_female"
   ]
  },
  {
   "cell_type": "code",
   "execution_count": null,
   "id": "75",
   "metadata": {},
   "outputs": [],
   "source": [
    "res = odds_ratio([[98, 50], [436,3619]])\n",
    "res.statistic"
   ]
  },
  {
   "cell_type": "code",
   "execution_count": null,
   "id": "76",
   "metadata": {},
   "outputs": [],
   "source": [
    "res.confidence_interval(confidence_level=0.95)"
   ]
  },
  {
   "cell_type": "code",
   "execution_count": null,
   "id": "77",
   "metadata": {},
   "outputs": [],
   "source": [
    "import numpy as np\n",
    "from scipy.stats import hypergeom\n",
    "table = np.array([[98, 436], [50, 3619]])\n",
    "M = table.sum()\n",
    "n = table[0].sum()\n",
    "N = table[:, 0].sum()\n",
    "start, end = hypergeom.support(M, n, N)\n",
    "hypergeom.pmf(np.arange(start, end+1), M, n, N)\n"
   ]
  },
  {
   "cell_type": "code",
   "execution_count": null,
   "id": "78",
   "metadata": {},
   "outputs": [],
   "source": [
    "from scipy.stats import fisher_exact\n",
    "res = fisher_exact(table, alternative='two-sided')\n",
    "res.pvalue"
   ]
  },
  {
   "cell_type": "code",
   "execution_count": null,
   "id": "79",
   "metadata": {},
   "outputs": [],
   "source": [
    "res.statistic"
   ]
  },
  {
   "cell_type": "code",
   "execution_count": null,
   "id": "80",
   "metadata": {},
   "outputs": [],
   "source": []
  }
 ],
 "metadata": {
  "kernelspec": {
   "display_name": "Python 3 (ipykernel)",
   "language": "python",
   "name": "python3"
  },
  "language_info": {
   "codemirror_mode": {
    "name": "ipython",
    "version": 3
   },
   "file_extension": ".py",
   "mimetype": "text/x-python",
   "name": "python",
   "nbconvert_exporter": "python",
   "pygments_lexer": "ipython3",
   "version": "3.12.4"
  }
 },
 "nbformat": 4,
 "nbformat_minor": 5
}
