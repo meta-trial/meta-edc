{
 "cells": [
  {
   "cell_type": "code",
   "execution_count": null,
   "id": "0",
   "metadata": {},
   "outputs": [],
   "source": [
    "%%capture\n",
    "# output is suppressed but normally would spew out all the edc loading messages\n",
    "\n",
    "import os\n",
    "from pathlib import Path\n",
    "from datetime import datetime\n",
    "import pandas as pd\n",
    "import numpy as np\n",
    "import math\n",
    "# import matplotlxib.pyplot as plt\n",
    "# import seaborn as sns\n",
    "import scipy.stats as stats\n",
    "\n",
    "from dj_notebook import activate\n",
    "\n",
    "env_file = os.environ[\"META_ENV\"]\n",
    "documents_folder = os.environ[\"META_DOCUMENTS_FOLDER\"]\n",
    "report_folder = Path(documents_folder)\n",
    "\n",
    "plus = activate(dotenv_file=env_file)\n"
   ]
  },
  {
   "cell_type": "code",
   "execution_count": null,
   "id": "1",
   "metadata": {},
   "outputs": [],
   "source": [
    "from meta_screening.models import SubjectScreening\n",
    "from meta_consent.models import SubjectConsent\n",
    "from meta_subject.models import PhysicalExam, SubjectVisit\n",
    "from django_pandas.io import read_frame\n",
    "from django.contrib.sites.models import Site\n",
    "from edc_analytics.custom_tables import (\n",
    "    BmiTable, BpTable, AgeTable, ArtTable, GenderTable, FbgTable, OgttTable, \n",
    "    FbgOgttTable, WaistCircumferenceTable, HbA1cTable\n",
    ")\n",
    "from meta_analytics.dataframes.screening import get_glucose_tested_only_df\n"
   ]
  },
  {
   "cell_type": "code",
   "execution_count": null,
   "id": "2",
   "metadata": {},
   "outputs": [],
   "source": [
    "df_all = get_glucose_tested_only_df() # slow"
   ]
  },
  {
   "cell_type": "code",
   "execution_count": null,
   "id": "3",
   "metadata": {},
   "outputs": [],
   "source": [
    "sites = {obj.domain: obj.id for obj in Site.objects.all()}\n",
    "df_all[\"site\"] = df_all[\"site\"].map(sites)"
   ]
  },
  {
   "cell_type": "code",
   "execution_count": null,
   "id": "4",
   "metadata": {},
   "outputs": [],
   "source": [
    "df_all"
   ]
  },
  {
   "cell_type": "code",
   "execution_count": null,
   "id": "5",
   "metadata": {},
   "outputs": [],
   "source": [
    "df = df_all.copy()\n",
    "df = df[df[\"has_dm\"]==\"No\"]\n",
    "df = df.reset_index(drop=True)"
   ]
  },
  {
   "cell_type": "code",
   "execution_count": null,
   "id": "6",
   "metadata": {},
   "outputs": [],
   "source": [
    "tbl = GenderTable(df)\n",
    "gender_df = tbl.table_df"
   ]
  },
  {
   "cell_type": "code",
   "execution_count": null,
   "id": "7",
   "metadata": {},
   "outputs": [],
   "source": [
    "tbl = WaistCircumferenceTable(df)\n",
    "waist_df = tbl.table_df"
   ]
  },
  {
   "cell_type": "code",
   "execution_count": null,
   "id": "8",
   "metadata": {},
   "outputs": [],
   "source": [
    "tbl = ArtTable(df)\n",
    "art_df = tbl.table_df"
   ]
  },
  {
   "cell_type": "code",
   "execution_count": null,
   "id": "9",
   "metadata": {},
   "outputs": [],
   "source": [
    "tbl = AgeTable(df)\n",
    "age_df = tbl.table_df"
   ]
  },
  {
   "cell_type": "code",
   "execution_count": null,
   "id": "10",
   "metadata": {},
   "outputs": [],
   "source": [
    "tbl = BpTable(df)\n",
    "bp_df = tbl.table_df"
   ]
  },
  {
   "cell_type": "code",
   "execution_count": null,
   "id": "11",
   "metadata": {},
   "outputs": [],
   "source": [
    "tbl = FbgTable(df)\n",
    "fbg_df = tbl.table_df"
   ]
  },
  {
   "cell_type": "code",
   "execution_count": null,
   "id": "12",
   "metadata": {},
   "outputs": [],
   "source": [
    "tbl = OgttTable(df)\n",
    "ogtt_df = tbl.table_df"
   ]
  },
  {
   "cell_type": "code",
   "execution_count": null,
   "id": "13",
   "metadata": {},
   "outputs": [],
   "source": [
    "tbl = FbgOgttTable(df)\n",
    "fbg_ogtt_df = tbl.table_df"
   ]
  },
  {
   "cell_type": "code",
   "execution_count": null,
   "id": "14",
   "metadata": {},
   "outputs": [],
   "source": [
    "tbl = BmiTable(df)\n",
    "bmi_df = tbl.table_df"
   ]
  },
  {
   "cell_type": "code",
   "execution_count": null,
   "id": "15",
   "metadata": {},
   "outputs": [],
   "source": [
    "tbl = HbA1cTable(df)\n",
    "hba1c_df = tbl.table_df"
   ]
  },
  {
   "cell_type": "code",
   "execution_count": null,
   "id": "16",
   "metadata": {},
   "outputs": [],
   "source": [
    "tbl_df = pd.concat([gender_df, age_df, bmi_df, waist_df, bp_df, art_df, fbg_df, ogtt_df, fbg_ogtt_df, hba1c_df], ignore_index=True)\n",
    "tbl_df.iloc[:, :5]"
   ]
  },
  {
   "cell_type": "code",
   "execution_count": null,
   "id": "17",
   "metadata": {},
   "outputs": [],
   "source": [
    "\n",
    "fname = f\"meta3_table2-{datetime.now().strftime(\"%Y-%m-%d-%H%M\")}.csv\"\n",
    "tbl_df.iloc[:, :5].to_csv(path_or_buf=report_folder / fname, encoding=\"utf-8\", index=0, sep=\"|\")\n"
   ]
  },
  {
   "cell_type": "code",
   "execution_count": null,
   "id": "18",
   "metadata": {},
   "outputs": [],
   "source": []
  },
  {
   "cell_type": "code",
   "execution_count": null,
   "id": "19",
   "metadata": {},
   "outputs": [],
   "source": [
    "df_all[df_all[\"waist_circumference\"].notna()].count()"
   ]
  },
  {
   "cell_type": "code",
   "execution_count": null,
   "id": "20",
   "metadata": {},
   "outputs": [],
   "source": [
    "subject_identifiers = list(df[\"subject_identifier\"])\n",
    "qs_subject_visit = SubjectVisit.objects.filter(subject_identifier__in=subject_identifiers)\n",
    "df_subject_visit = read_frame(qs_subject_visit)\n",
    "df_subject_visit.rename(columns={\"id\": \"subject_visit\"}, inplace=True)\n",
    "qs_physical_exam = PhysicalExam.objects.filter(\n",
    "    subject_visit__subject_identifier__in=subject_identifiers\n",
    ")\n",
    "df_physical_exam = read_frame(qs_physical_exam)\n",
    "# merge w/ subject visit to get subject_identifier\n",
    "# df_physical_exam = pd.merge(\n",
    "#     df_physical_exam,\n",
    "#     df_subject_visit[\n",
    "#         [\"subject_visit\", \"subject_identifier\", \"visit_code\", \"visit_code_sequence\"]\n",
    "#     ],\n",
    "#     on=\"subject_visit\",\n",
    "#     how=\"left\",\n",
    "# )\n",
    "# df_physical_exam = df_physical_exam[\n",
    "#     [\"subject_identifier\", \"visit_code\", \"visit_code_sequence\", \"waist_circumference\"]\n",
    "# ]\n",
    "# df_physical_exam[[\"waist_circumference\"]] = df[[\"waist_circumference\"]].apply(\n",
    "#     pd.to_numeric\n",
    "# )\n",
    "# # rename column to waist_circumference_baseline\n",
    "# df_physical_exam[\"waist_circumference_baseline\"] = df_physical_exam[\"waist_circumference\"]\n",
    "# df_physical_exam.drop(columns=[\"waist_circumference\"])\n",
    "# df_physical_exam[[\"waist_circumference_baseline\"]] = df_physical_exam[\n",
    "#     [\"waist_circumference_baseline\"]\n",
    "# ].apply(pd.to_numeric)\n"
   ]
  },
  {
   "cell_type": "code",
   "execution_count": null,
   "id": "21",
   "metadata": {},
   "outputs": [],
   "source": [
    "df_physical_exam.count()"
   ]
  },
  {
   "cell_type": "code",
   "execution_count": null,
   "id": "22",
   "metadata": {},
   "outputs": [],
   "source": [
    "df_physical_exam = pd.merge(\n",
    "    df_physical_exam,\n",
    "    df_subject_visit[\n",
    "        [\"subject_visit\", \"subject_identifier\", \"visit_code\", \"visit_code_sequence\"]\n",
    "    ],\n",
    "    on=\"subject_visit\",\n",
    "    how=\"left\",\n",
    ")\n"
   ]
  },
  {
   "cell_type": "code",
   "execution_count": null,
   "id": "23",
   "metadata": {},
   "outputs": [],
   "source": [
    "len(df_physical_exam)"
   ]
  },
  {
   "cell_type": "code",
   "execution_count": null,
   "id": "24",
   "metadata": {},
   "outputs": [],
   "source": [
    "df_physical_exam = df_physical_exam[\n",
    "    [\"subject_identifier\", \"visit_code\", \"visit_code_sequence\", \"waist_circumference\"]\n",
    "]\n",
    "df_physical_exam[[\"waist_circumference\"]] = df_physical_exam[[\"waist_circumference\"]].apply(\n",
    "    pd.to_numeric\n",
    ")\n"
   ]
  },
  {
   "cell_type": "code",
   "execution_count": null,
   "id": "25",
   "metadata": {},
   "outputs": [],
   "source": [
    "len(df_physical_exam)"
   ]
  },
  {
   "cell_type": "code",
   "execution_count": null,
   "id": "26",
   "metadata": {},
   "outputs": [],
   "source": [
    "# rename column to waist_circumference_baseline\n",
    "df_physical_exam[\"waist_circumference_baseline\"] = df_physical_exam[\"waist_circumference\"]\n",
    "df_physical_exam.drop(columns=[\"waist_circumference\"])\n",
    "df_physical_exam[[\"waist_circumference_baseline\"]] = df_physical_exam[\n",
    "    [\"waist_circumference_baseline\"]\n",
    "].apply(pd.to_numeric)\n"
   ]
  },
  {
   "cell_type": "code",
   "execution_count": null,
   "id": "27",
   "metadata": {},
   "outputs": [],
   "source": [
    "len(df_physical_exam)"
   ]
  },
  {
   "cell_type": "code",
   "execution_count": null,
   "id": "28",
   "metadata": {},
   "outputs": [],
   "source": [
    "df1 = df_all.copy()"
   ]
  },
  {
   "cell_type": "code",
   "execution_count": null,
   "id": "29",
   "metadata": {},
   "outputs": [],
   "source": [
    "df1 = pd.merge(\n",
    "    df1,\n",
    "    df_physical_exam[[\"subject_identifier\", \"waist_circumference_baseline\"]],\n",
    "    on=\"subject_identifier\",\n",
    "    how=\"left\",\n",
    "    indicator=True\n",
    ")\n"
   ]
  },
  {
   "cell_type": "code",
   "execution_count": null,
   "id": "30",
   "metadata": {},
   "outputs": [],
   "source": [
    "df1.count()"
   ]
  },
  {
   "cell_type": "code",
   "execution_count": null,
   "id": "31",
   "metadata": {},
   "outputs": [],
   "source": [
    "\n",
    "cond = (df1[\"waist_circumference\"].isna()) & (df1[\"waist_circumference_baseline\"].notna())"
   ]
  },
  {
   "cell_type": "code",
   "execution_count": null,
   "id": "32",
   "metadata": {},
   "outputs": [],
   "source": [
    "df1.loc[cond, \"waist_circumference\"] = df1[\"waist_circumference_baseline\"]"
   ]
  },
  {
   "cell_type": "code",
   "execution_count": null,
   "id": "33",
   "metadata": {},
   "outputs": [],
   "source": [
    "df1.count()"
   ]
  },
  {
   "cell_type": "code",
   "execution_count": null,
   "id": "34",
   "metadata": {},
   "outputs": [],
   "source": [
    "df1[[\"waist_circumference\", \"waist_circumference_baseline\"]].count()"
   ]
  },
  {
   "cell_type": "code",
   "execution_count": null,
   "id": "35",
   "metadata": {},
   "outputs": [],
   "source": [
    "df_physical_exam[\"waist_circumference\"].describe()"
   ]
  },
  {
   "cell_type": "code",
   "execution_count": null,
   "id": "36",
   "metadata": {},
   "outputs": [],
   "source": [
    "df_physical_exam[[\"waist_circumference\"]] = df_physical_exam[\n",
    "    [\"waist_circumference\"]\n",
    "].apply(pd.to_numeric)\n"
   ]
  },
  {
   "cell_type": "code",
   "execution_count": null,
   "id": "37",
   "metadata": {},
   "outputs": [],
   "source": [
    "df1[\"waist_circumference\"].describe()"
   ]
  },
  {
   "cell_type": "code",
   "execution_count": null,
   "id": "38",
   "metadata": {},
   "outputs": [],
   "source": [
    "df1[~df1[\"screening_identifier\"].isin(df1['screening_identifier'].unique())]"
   ]
  },
  {
   "cell_type": "code",
   "execution_count": null,
   "id": "39",
   "metadata": {},
   "outputs": [],
   "source": []
  }
 ],
 "metadata": {
  "kernelspec": {
   "display_name": "Python 3 (ipykernel)",
   "language": "python",
   "name": "python3"
  },
  "language_info": {
   "codemirror_mode": {
    "name": "ipython",
    "version": 3
   },
   "file_extension": ".py",
   "mimetype": "text/x-python",
   "name": "python",
   "nbconvert_exporter": "python",
   "pygments_lexer": "ipython3",
   "version": "3.12.4"
  }
 },
 "nbformat": 4,
 "nbformat_minor": 5
}
