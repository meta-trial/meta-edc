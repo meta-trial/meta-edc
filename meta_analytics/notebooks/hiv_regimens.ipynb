{
 "cells": [
  {
   "cell_type": "code",
   "execution_count": null,
   "id": "0",
   "metadata": {},
   "outputs": [],
   "source": [
    "%%capture\n",
    "import os\n",
    "from pathlib import Path\n",
    "import pandas as pd\n",
    "from dj_notebook import activate\n",
    "\n",
    "env_file = os.environ[\"META_ENV\"]\n",
    "reports_folder = Path(os.environ[\"META_REPORTS_FOLDER\"])\n",
    "analysis_folder = Path(os.environ[\"META_ANALYSIS_FOLDER\"])\n",
    "pharmacy_folder = Path(os.environ[\"META_PHARMACY_FOLDER\"])\n",
    "plus = activate(dotenv_file=env_file)\n",
    "pd.set_option('future.no_silent_downcasting', True)"
   ]
  },
  {
   "cell_type": "code",
   "execution_count": null,
   "id": "1",
   "metadata": {},
   "outputs": [],
   "source": [
    "from edc_pdutils.dataframes import get_crf, get_subject_visit\n",
    "from edc_constants.constants import YES\n",
    "from edc_appointment.analytics import get_appointment_df\n",
    "from datetime import datetime"
   ]
  },
  {
   "cell_type": "code",
   "execution_count": null,
   "id": "2",
   "metadata": {},
   "outputs": [],
   "source": [
    "cutoff_datetime = datetime(2026,3,1)\n",
    "df_patienthistory = get_crf(\"meta_subject.patienthistory\", subject_visit_model=\"meta_subject.subjectvisit\")\n",
    "df_followup_examination = get_crf(\"meta_subject.FollowupExamination\", subject_visit_model=\"meta_subject.subjectvisit\")"
   ]
  },
  {
   "cell_type": "code",
   "execution_count": null,
   "id": "3",
   "metadata": {},
   "outputs": [],
   "source": [
    "replacements = {\n",
    "    \"ABC+ 3TC+ DTG\": \"ABC + 3TC + DTG\",\n",
    "    \"ABC+3TC+DTG\": \"ABC + 3TC + DTG\",\n",
    "    \"ABC, 3TC, DTG\":\"ABC + 3TC + DTG\",\n",
    "    \"ABC, EFV, DTG\": \"ABC + EFV + DTG\",\n",
    "    \"TDF+FTC+DTG\": \"TDF + FTC + DTG\",\n",
    "    \"AZT+3TC+DTG\": \"AZT + 3TC + DTG\",\n",
    "    \"AZT + 3 TC + DTG\":\"AZT + 3TC + DTG\",\n",
    "    \"TDF+3TC+DTG\": \"TDF + 3TC + DTG\",\n",
    "}\n",
    "\n",
    "df_patienthistory[\"other_current_arv_regimen\"] = (\n",
    "    df_patienthistory[\"other_current_arv_regimen\"]\n",
    "    .replace(replacements)\n",
    ")"
   ]
  },
  {
   "cell_type": "code",
   "execution_count": null,
   "id": "4",
   "metadata": {},
   "outputs": [],
   "source": [
    "df_patienthistory['regimen'] = df_patienthistory[\"current_arv_regimen\"]\n",
    "df_patienthistory.loc[df_patienthistory[\"current_arv_regimen\"]==\"Other, specify ...\", \"regimen\"] = df_patienthistory[\"other_current_arv_regimen\"]"
   ]
  },
  {
   "cell_type": "code",
   "execution_count": null,
   "id": "5",
   "metadata": {},
   "outputs": [],
   "source": [
    "df_followup_examination[\"art_new_regimen_other\"] = (\n",
    "    df_followup_examination[\"art_new_regimen_other\"]\n",
    "    .replace(replacements)\n",
    ")"
   ]
  },
  {
   "cell_type": "code",
   "execution_count": null,
   "id": "6",
   "metadata": {},
   "outputs": [],
   "source": [
    "df_followup_examination['regimen'] = pd.NA\n",
    "df_followup_examination.loc[(df_followup_examination[\"art_change\"]==YES) & (df_followup_examination.art_new_regimen_other.notna()), \"regimen\"] = df_followup_examination[\"art_new_regimen_other\"]\n",
    "df_followup_examination.loc[(df_followup_examination[\"art_change\"]==YES) & (df_followup_examination.art_new_regimen_other.isna()), \"regimen\"] = \"CHANGE_NOT_REPORTED\""
   ]
  },
  {
   "cell_type": "code",
   "execution_count": null,
   "id": "7",
   "metadata": {},
   "outputs": [],
   "source": [
    "df_regimen = pd.concat([df_patienthistory[[\"subject_identifier\", \"visit_datetime\", \"regimen\"]], df_followup_examination[[\"subject_identifier\", \"visit_datetime\", \"regimen\"]]])\n",
    "df_regimen[\"regimen\"] = df_regimen[\"regimen\"].replace({\"Other second line\": \"CHANGE_NOT_REPORTED\"})\n",
    "df_regimen[\"regimen\"] = pd.Categorical(df_regimen[\"regimen\"], categories=list(df_regimen.query(\"regimen.notna()\").regimen.unique()), ordered=False)\n",
    "df_regimen = df_regimen.sort_values([\"subject_identifier\", \"visit_datetime\"])\n",
    "df_regimen = df_regimen.reset_index(drop=True)"
   ]
  },
  {
   "cell_type": "code",
   "execution_count": null,
   "id": "8",
   "metadata": {},
   "outputs": [],
   "source": [
    "df_pivot = df_regimen.pivot_table(values=\"visit_datetime\", columns=\"regimen\", index=\"subject_identifier\", observed=True)\n",
    "df_pivot = df_pivot.reset_index()"
   ]
  },
  {
   "cell_type": "code",
   "execution_count": null,
   "id": "9",
   "metadata": {},
   "outputs": [],
   "source": [
    "subject_identifier = \"105-20-0050-0\"\n",
    "df_pivot[df_pivot.subject_identifier==subject_identifier].melt().query(\"value.notna() and regimen!='subject_identifier'\").sort_values(\"value\", ascending=False)"
   ]
  },
  {
   "cell_type": "code",
   "execution_count": null,
   "id": "10",
   "metadata": {},
   "outputs": [],
   "source": [
    "df_melt = df_pivot.melt(id_vars=[\"subject_identifier\"]).query(\"value.notna()\")"
   ]
  },
  {
   "cell_type": "code",
   "execution_count": null,
   "id": "11",
   "metadata": {},
   "outputs": [],
   "source": [
    "df_melt[\"max_date\"] = df_melt.groupby(\"subject_identifier\")[\"value\"].transform(\"max\")\n",
    "df_melt[\"current_regimen\"] = df_melt[df_melt.value==df_melt.max_date][\"regimen\"]"
   ]
  },
  {
   "cell_type": "code",
   "execution_count": null,
   "id": "12",
   "metadata": {},
   "outputs": [],
   "source": [
    "df_current_regimens = df_melt.query(\"current_regimen.notna()\")[[\"subject_identifier\", \"max_date\", \"current_regimen\"]].copy()"
   ]
  },
  {
   "cell_type": "code",
   "execution_count": null,
   "id": "13",
   "metadata": {},
   "outputs": [],
   "source": [
    "df_visit = get_subject_visit(model=\"meta_subject.subjectvisit\")\n",
    "df_visit = df_visit[df_visit.visit_code==1000.0].copy()"
   ]
  },
  {
   "cell_type": "code",
   "execution_count": null,
   "id": "14",
   "metadata": {},
   "outputs": [],
   "source": [
    "df_appointment = get_appointment_df()\n",
    "df_appointment_next = (\n",
    "    df_appointment\n",
    "    .groupby(by=[\"subject_identifier\", \"next_appt_datetime\", \"next_visit_code\"])\n",
    "    .size()\n",
    "    .copy()\n",
    "    .reset_index()\n",
    ")"
   ]
  },
  {
   "cell_type": "code",
   "execution_count": null,
   "id": "15",
   "metadata": {},
   "outputs": [],
   "source": [
    "df_appointment_last = (\n",
    "    df_appointment[df_appointment.appt_datetime<cutoff_datetime][[\"subject_identifier\", \"appt_datetime\", \"visit_code\"]]\n",
    "    .sort_values([\"subject_identifier\", \"appt_datetime\", \"visit_code\"])\n",
    "    .groupby(by=[\"subject_identifier\"])\n",
    "    .agg([\"last\"])\n",
    "    .reset_index()                       )\n",
    "df_appointment_last.columns = [\"_\".join(col).strip() for col in df_appointment_last.columns.values]\n",
    "df_appointment_last = (\n",
    "    df_appointment_last\n",
    "        .rename(columns={\n",
    "            \"subject_identifier_\":\"subject_identifier\",\n",
    "            \"appt_datetime_last\":\"last_appt_datetime\",\n",
    "            \"visit_code_last\":\"last_visit_code\"\n",
    "        }\n",
    "    )\n",
    ")"
   ]
  },
  {
   "cell_type": "code",
   "execution_count": null,
   "id": "16",
   "metadata": {},
   "outputs": [],
   "source": [
    "df = df_current_regimens.merge(df_visit[[ \"subject_identifier\", \"baseline_datetime\", \"endline_visit_datetime\", \"endline_visit_code\"]], on=\"subject_identifier\", how=\"left\")\n",
    "df = df.reset_index(drop=True)\n",
    "df[\"changed\"] = False\n",
    "df.loc[df.max_date != df.baseline_datetime, \"changed\"] = True"
   ]
  },
  {
   "cell_type": "code",
   "execution_count": null,
   "id": "17",
   "metadata": {},
   "outputs": [],
   "source": [
    "df = df.merge(df_appointment_next[[\"subject_identifier\", \"next_appt_datetime\", \"next_visit_code\"]], on=\"subject_identifier\", how=\"left\")\n",
    "df = df.merge(df_appointment_last[[\"subject_identifier\", \"last_appt_datetime\", \"last_visit_code\"]], on=\"subject_identifier\", how=\"left\")"
   ]
  },
  {
   "cell_type": "code",
   "execution_count": null,
   "id": "18",
   "metadata": {},
   "outputs": [],
   "source": [
    "# from last seen to final scheduled appt\n",
    "df[\"remaining_delta_from_last_seen\"] = df.last_appt_datetime - df.endline_visit_datetime\n",
    "df[\"remaining_delta_from_last_seen\"] = df[\"remaining_delta_from_last_seen\"].apply(lambda x: 0 if x.total_seconds()<0 else x)\n",
    "df[\"remaining_delta_from_last_seen\"] = pd.to_timedelta(df[\"remaining_delta_from_last_seen\"])\n",
    "df[\"remaining_days_last_seen_to_final\"] = df[\"remaining_delta_from_last_seen\"].dt.days\n",
    "\n",
    "# from now to final scheduled appt\n",
    "df[\"remaining_delta_from_now\"] = 0.0\n",
    "df[\"remaining_delta_from_now\"] = df[df.remaining_days_last_seen_to_final>0].last_appt_datetime - datetime.now()\n",
    "df[\"remaining_delta_from_now\"] = df[\"remaining_delta_from_now\"].apply(lambda x: 0 if x.total_seconds()<0 else x)\n",
    "df[\"remaining_delta_from_now\"] = pd.to_timedelta(df[\"remaining_delta_from_now\"])\n",
    "df[\"remaining_days_now_to_final\"] = df[\"remaining_delta_from_now\"].dt.days\n",
    "\n",
    "# from next appointment to final scheduled appt\n",
    "df[\"remaining_delta_from_next\"] = 0.0\n",
    "df[\"remaining_delta_from_next\"] = df[df.remaining_days_last_seen_to_final>0].last_appt_datetime - df[df.remaining_days_last_seen_to_final>0].next_appt_datetime\n",
    "df[\"remaining_delta_from_next\"] = df[\"remaining_delta_from_next\"].apply(lambda x: 0 if x.total_seconds()<0 else x)\n",
    "df[\"remaining_delta_from_next\"] = pd.to_timedelta(df[\"remaining_delta_from_next\"])\n",
    "df[\"remaining_days_next_to_final\"] = df[\"remaining_delta_from_next\"].dt.days"
   ]
  },
  {
   "cell_type": "code",
   "execution_count": null,
   "id": "19",
   "metadata": {},
   "outputs": [],
   "source": [
    "df_final = (\n",
    "    df\n",
    "    .rename(columns={\n",
    "        \"max_date\": \"current_regimen_date\",\n",
    "        \"endline_visit_code\": \"last_attended_visit_code\",\n",
    "        \"endline_visit_datetime\": \"last_attended_visit_datetime\",\n",
    "    })\n",
    "    .copy()\n",
    ")\n",
    "df_final = df_final[[\n",
    "    \"subject_identifier\",\n",
    "    \"current_regimen\",\n",
    "    \"current_regimen_date\",\n",
    "    \"changed\",\n",
    "    \"baseline_datetime\",\n",
    "    \"last_attended_visit_code\",\n",
    "    \"last_attended_visit_datetime\",\n",
    "    \"next_visit_code\",\n",
    "    \"next_appt_datetime\",\n",
    "    \"last_visit_code\",\n",
    "    \"last_appt_datetime\",\n",
    "    \"remaining_days_last_seen_to_final\",\n",
    "    \"remaining_days_now_to_final\",\n",
    "    \"remaining_days_next_to_final\",\n",
    "]].copy()\n",
    "\n",
    "df_final = (\n",
    "    df_final\n",
    "    .sort_values(\"subject_identifier\")\n",
    "    .reset_index(drop=True)\n",
    ")\n",
    "df_final[\"remaining_days_last_seen_to_final\"] = df_final[\"remaining_days_last_seen_to_final\"].astype(\"float64\").fillna(0)\n",
    "df_final[\"remaining_days_now_to_final\"] = df_final[\"remaining_days_now_to_final\"].astype(\"float64\").fillna(0)\n",
    "df_final[\"remaining_days_next_to_final\"] = df_final[\"remaining_days_next_to_final\"].astype(\"float64\").fillna(0)\n",
    "df_final"
   ]
  },
  {
   "cell_type": "code",
   "execution_count": null,
   "id": "20",
   "metadata": {},
   "outputs": [],
   "source": [
    "# need from now until end of study\n",
    "df_summary1 = (pd.merge(\n",
    "    df_final.groupby(by=[\"current_regimen\"]).remaining_days_now_to_final.sum(),\n",
    "    df_final.groupby(by=[\"current_regimen\"]).subject_identifier.count(), on=\"current_regimen\")\n",
    "    .rename(columns={\n",
    "        \"remaining_days_now_to_final\": \"days_medication_needed\",\n",
    "        \"subject_identifier\": \"subjects\"\n",
    "    })\n",
    "    .sort_values(\"days_medication_needed\", ascending=False)\n",
    "    .reset_index()\n",
    ")\n",
    "df_summary1"
   ]
  },
  {
   "cell_type": "code",
   "execution_count": null,
   "id": "21",
   "metadata": {},
   "outputs": [],
   "source": [
    "# need from last seen to end of study\n",
    "df_summary2 = (pd.merge(\n",
    "    df_final.groupby(by=[\"current_regimen\"]).remaining_days_last_seen_to_final.sum(),\n",
    "    df_final.groupby(by=[\"current_regimen\"]).subject_identifier.count(), on=\"current_regimen\")\n",
    "    .rename(columns={\n",
    "        \"remaining_days_last_seen_to_final\": \"days_medication_needed\",\n",
    "        \"subject_identifier\": \"subjects\"\n",
    "    })\n",
    "    .sort_values(\"days_medication_needed\", ascending=False)\n",
    "    .reset_index()\n",
    ")\n",
    "df_summary2"
   ]
  },
  {
   "cell_type": "code",
   "execution_count": null,
   "id": "22",
   "metadata": {},
   "outputs": [],
   "source": [
    "# need from next to end of study\n",
    "df_summary3 = (pd.merge(\n",
    "    df_final.groupby(by=[\"current_regimen\"]).remaining_days_next_to_final.sum(),\n",
    "    df_final.groupby(by=[\"current_regimen\"]).subject_identifier.count(), on=\"current_regimen\")\n",
    "    .rename(columns={\n",
    "        \"remaining_days_next_to_final\": \"days_medication_needed\",\n",
    "        \"subject_identifier\": \"subjects\"\n",
    "    })\n",
    "    .sort_values(\"days_medication_needed\", ascending=False)\n",
    "    .reset_index()\n",
    ")\n",
    "\n",
    "df_summary3"
   ]
  },
  {
   "cell_type": "code",
   "execution_count": null,
   "id": "23",
   "metadata": {},
   "outputs": [],
   "source": [
    "with pd.ExcelWriter(\n",
    "        analysis_folder / \"hiv_medication.xlsx\",\n",
    "        date_format=\"YYYY-MM-DD\",\n",
    "        datetime_format=\"YYYY-MM-DD HH:MM:SS\"\n",
    ") as writer:\n",
    "    df_final.to_excel(writer, sheet_name=\"subjects\", index=False)\n",
    "    df_summary1.to_excel(writer, sheet_name=\"now to final\", index=False)\n",
    "    df_summary2.to_excel(writer, sheet_name=\"last seen to final\", index=False)\n",
    "    df_summary3.to_excel(writer, sheet_name=\"next to final\", index=False)\n"
   ]
  }
 ],
 "metadata": {
  "kernelspec": {
   "display_name": "Python 3",
   "language": "python",
   "name": "python3"
  },
  "language_info": {
   "codemirror_mode": {
    "name": "ipython",
    "version": 2
   },
   "file_extension": ".py",
   "mimetype": "text/x-python",
   "name": "python",
   "nbconvert_exporter": "python",
   "pygments_lexer": "ipython2",
   "version": "2.7.6"
  }
 },
 "nbformat": 4,
 "nbformat_minor": 5
}
