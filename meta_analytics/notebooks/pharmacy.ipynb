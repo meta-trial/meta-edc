{
 "cells": [
  {
   "cell_type": "code",
   "id": "initial_id",
   "metadata": {
    "collapsed": true
   },
   "source": [
    "%%capture\n",
    "import os\n",
    "from pathlib import Path\n",
    "import pandas as pd\n",
    "from dj_notebook import activate\n",
    "import numpy as np\n",
    "from django_pandas.io import read_frame\n",
    "\n",
    "env_file = os.environ[\"META_ENV\"]\n",
    "reports_folder = Path(os.environ[\"META_REPORTS_FOLDER\"])\n",
    "analysis_folder = Path(os.environ[\"META_ANALYSIS_FOLDER\"])\n",
    "pharmacy_folder = Path(os.environ[\"META_PHARMACY_FOLDER\"])\n",
    "plus = activate(dotenv_file=env_file)"
   ],
   "outputs": [],
   "execution_count": null
  },
  {
   "metadata": {},
   "cell_type": "code",
   "source": [
    "from edc_pharmacy.analytics.dataframes import no_stock_for_subjects_df\n",
    "from datetime import datetime\n",
    "from edc_registration.models import RegisteredSubject\n",
    "\n",
    "from edc_appointment.analytics import get_appointment_df\n",
    "from edc_appointment.constants import NEW_APPT\n",
    "from edc_pharmacy.models import StockRequest, Allocation, ReceiveItem, OrderItem, Lot\n",
    "\n",
    "from edc_pharmacy.analytics import get_next_scheduled_visit_for_subjects_df\n",
    "from meta_rando.models import RandomizationList\n",
    "from edc_pharmacy.models import Stock\n",
    "from edc_visit_schedule.models import SubjectScheduleHistory\n",
    "from django.apps import apps as django_apps\n",
    "from django.db.models import Count\n",
    "from django_pandas.io import read_frame\n",
    "from edc_visit_schedule.site_visit_schedules import site_visit_schedules\n",
    "from edc_pharmacy.models import Container\n",
    "from great_tables import GT, html, loc, style\n",
    "from PIL import Image\n"
   ],
   "id": "a4c997d7adda770",
   "outputs": [],
   "execution_count": null
  },
  {
   "metadata": {},
   "cell_type": "code",
   "source": [
    "\n",
    "def get_great_table(df:pd.DataFrame, title:str, footnote:str|None=None):\n",
    "    return (GT(df)\n",
    "        .tab_header(title=html(title))\n",
    "        .cols_align(align=\"left\", columns=[0])\n",
    "        .cols_align(align=\"right\", columns=list(range(1, len(df.columns))))\n",
    "        .opt_stylize(style=5)\n",
    "        .opt_row_striping(row_striping=False)\n",
    "        .opt_vertical_padding(scale=1.2)\n",
    "        .opt_horizontal_padding(scale=1.0)\n",
    "        .tab_options(\n",
    "            stub_background_color=\"white\",\n",
    "            row_group_border_bottom_style=\"hidden\",\n",
    "            row_group_padding=0.5,\n",
    "            row_group_background_color=\"white\",\n",
    "            table_background_color=\"white\",\n",
    "            table_font_size=12,\n",
    "        )\n",
    "        .tab_style(\n",
    "            style=[style.fill(color=\"white\"), style.text(color=\"black\")],\n",
    "            locations=loc.body(columns=list(range(len(df.columns))), rows=list(range(0, len(df)))),\n",
    "        )\n",
    "        .tab_style(\n",
    "            style=[style.fill(color=\"lightgrey\"), style.text(color=\"black\")],\n",
    "            locations=loc.body(columns=list(range(len(df.columns))), rows=[len(df)-1]),\n",
    "        )\n",
    "        .tab_source_note(source_note=html(footnote or \"\"))\n",
    "        .tab_style(\n",
    "            style=style.text(color=\"black\", size=\"small\"),\n",
    "            locations=loc.footer(),\n",
    "        )\n",
    "\n",
    "\n",
    "    )\n"
   ],
   "id": "6d4f230107499268",
   "outputs": [],
   "execution_count": null
  },
  {
   "metadata": {},
   "cell_type": "code",
   "source": [
    "# get rando\n",
    "df_rando = read_frame(RandomizationList.objects.values(\"subject_identifier\", \"assignment\").filter(subject_identifier__isnull=False))"
   ],
   "id": "1a5c145dc73ae1ca",
   "outputs": [],
   "execution_count": null
  },
  {
   "metadata": {},
   "cell_type": "code",
   "source": [
    "# get appointments\n",
    "df_appt = get_appointment_df()\n",
    "print(f\"{len(df_appt[(df_appt.appt_status==NEW_APPT) & (df_appt.appt_datetime >= datetime(2025,4,4)) & (df_appt.appt_datetime < datetime(2026,3,1)) & (df_appt.visit_code!=1480.0)])} appointments after filtering\")"
   ],
   "id": "c0f532dc5f20aef6",
   "outputs": [],
   "execution_count": null
  },
  {
   "metadata": {},
   "cell_type": "code",
   "source": [
    "# create a dataframe of subjects still on the 'schedule' schedule\n",
    "# use SubjectScheduleHistory where offschedule_datetime is null\n",
    "df_subject_schedule = read_frame(SubjectScheduleHistory.objects.values(\"subject_identifier\", \"visit_schedule_name\", \"schedule_name\", \"onschedule_datetime\", \"offschedule_datetime\").filter(offschedule_datetime__isnull=True, schedule_name=\"schedule\"))\n",
    "\n",
    "print(f\"{len(df_subject_schedule)} subjects currently onstudy\")"
   ],
   "id": "dd5fd238c0160518",
   "outputs": [],
   "execution_count": null
  },
  {
   "metadata": {},
   "cell_type": "code",
   "source": [
    "# for now merge with the unfiltered df_appt\n",
    "df_main = df_subject_schedule.merge(\n",
    "    df_appt[[\"appointment_id\", \"subject_identifier\", \"visit_code\", \"visit_code_str\", \"appt_datetime\", \"baseline_datetime\", \"endline_visit_code\", \"visit_code_sequence\", \"appt_status\"]],\n",
    "    on=\"subject_identifier\",\n",
    "    how=\"left\")\n",
    "# exclude unscheduled,\n",
    "df_main = df_main[\n",
    "    (df_main.visit_code_sequence==0) &\n",
    "    (df_main.visit_schedule_name==\"visit_schedule\") &\n",
    "    (df_main.schedule_name==\"schedule\") &\n",
    "    (df_main.visit_code<2000.0) &\n",
    "    (df_main.appt_status==NEW_APPT)\n",
    "].copy()\n",
    "print(f\"{len(df_main)} new appointments for subjects on study\")\n"
   ],
   "id": "13739396761c72c",
   "outputs": [],
   "execution_count": null
  },
  {
   "metadata": {},
   "cell_type": "code",
   "source": [
    "# number of appointments before extended all subjects out to 48m\n",
    "df_grouped = df_main[\n",
    "    (df_main.appt_datetime >= datetime(2025,4,4)) &\n",
    "    (df_main.appt_datetime < datetime(2026,3,1)) &\n",
    "    (df_main.visit_code!=1480.0)\n",
    "].visit_code.value_counts().reset_index(name=\"appointments\").sort_values(by=\"visit_code\", ascending=True).reset_index(drop=True)\n",
    "df_grouped[\"cumsum\"] = df_grouped.appointments.cumsum()\n",
    "df_grouped[\"cumsum\"].max()\n"
   ],
   "id": "fdf65539dce9fc30",
   "outputs": [],
   "execution_count": null
  },
  {
   "metadata": {},
   "cell_type": "code",
   "source": "df_main",
   "id": "81d462e710e0ae61",
   "outputs": [],
   "execution_count": null
  },
  {
   "metadata": {},
   "cell_type": "code",
   "source": [
    "# now extend everyone to 48 months.\n",
    "# Subjects are in the process of consenting for extended\n",
    "# followup. Assume ALL have done so by filling in all\n",
    "# subject schedules to 48m\n",
    "\n",
    "# pivot\n",
    "df_pivot = df_main[\n",
    "    (df_main.visit_code_sequence==0) &\n",
    "    (df_main.visit_code<2000.0)\n",
    "].pivot_table(index=\"subject_identifier\", columns='visit_code', values='appt_datetime', aggfunc='count')\n",
    "df_pivot.fillna(0, inplace=True)\n",
    "df_pivot.reset_index(inplace=True)\n",
    "df_pivot.rename_axis(\"\", axis=\"columns\", inplace=True)\n",
    "\n",
    "# melt\n",
    "df_pivot = df_pivot.melt(id_vars=\"subject_identifier\", var_name=\"visit_code\", value_name=\"exists\")\n",
    "df_pivot[\"visit_code\"] = df_pivot[\"visit_code\"].astype(float)\n",
    "df_pivot.sort_values([\"subject_identifier\", \"visit_code\"], ascending=True, inplace=True)\n",
    "df_pivot.reset_index(drop=True, inplace=True)\n",
    "\n",
    "# merge in baseline_datetime\n",
    "df_baseline = df_appt[df_appt.visit_code==1000.0][[\"subject_identifier\", \"baseline_datetime\"]]\n",
    "df_pivot = df_pivot.merge(df_baseline, on=[\"subject_identifier\"], how=\"left\")\n",
    "df_pivot.reset_index(drop=True, inplace=True)\n",
    "\n",
    "# merge df_main back in\n",
    "df_pivot = df_pivot.merge(df_main[[\"subject_identifier\", \"visit_code\", \"appt_datetime\", \"appt_status\"]], on=[\"subject_identifier\",\"visit_code\"], how=\"left\")\n",
    "df_pivot"
   ],
   "id": "9bd1bf18017c18f2",
   "outputs": [],
   "execution_count": null
  },
  {
   "metadata": {},
   "cell_type": "code",
   "source": "# len(df_pivot[(df_pivot.appt_datetime>=datetime(2025,1,1)) & (df_pivot.visit_code==MONTH48)])/3",
   "id": "80ab2992c6ccb274",
   "outputs": [],
   "execution_count": null
  },
  {
   "metadata": {},
   "cell_type": "code",
   "source": [
    "# extend no one!\n",
    "# df_pivot = df_pivot[df_pivot.exists==1].copy()\n",
    "# df_pivot.reset_index(drop=True, inplace=True)\n"
   ],
   "id": "1e3098273f43e6b2",
   "outputs": [],
   "execution_count": null
  },
  {
   "metadata": {},
   "cell_type": "code",
   "source": [
    "# add appointments do not have an appt_datetime, so calculate\n",
    "# using the visit schedule relative to baseline_datetime\n",
    "visit_schedule = site_visit_schedules.get_visit_schedule(\"visit_schedule\")\n",
    "schedule = visit_schedule.schedules.get(\"schedule\")\n",
    "mapping = {k: visit.rbase for k,visit in schedule.visits.items()}\n",
    "\n",
    "def estimate_appt_datetime(row):\n",
    "    if pd.isna(row[\"appt_datetime\"]):\n",
    "        row[\"appt_datetime\"] = row[\"baseline_datetime\"] +  mapping.get(str(int(row[\"visit_code\"])))\n",
    "    return row\n",
    "\n",
    "df_pivot = df_pivot.apply(estimate_appt_datetime, axis=1)\n",
    "df_pivot.sort_values(by=[\"subject_identifier\", \"visit_code\"], ascending=True, inplace=True)\n",
    "df_pivot.reset_index(drop=True, inplace=True)\n",
    "\n",
    "# merge in assignment\n",
    "df_pivot = df_pivot.merge(df_rando, on=\"subject_identifier\", how=\"left\")\n",
    "df_pivot.reset_index(drop=True, inplace=True)\n",
    "\n",
    "# flag added appointments as NEW\n",
    "df_pivot.loc[df_pivot.exists==0.0, \"appt_status\"] = NEW_APPT\n",
    "\n",
    "print(f\"{len(df_pivot)} appointments\")"
   ],
   "id": "7483e4c8e47becc9",
   "outputs": [],
   "execution_count": null
  },
  {
   "metadata": {},
   "cell_type": "code",
   "source": [
    "# df_subject_appointments is a dataframe of appointments\n",
    "# - only include NEW appointments\n",
    "# - only include appts between today (2025,4,4) and before (2026,3,1).\n",
    "# - exclude the last visit (48m) since no meds are dispensed then.\n",
    "cutoff_date = datetime(2026,3,1)\n",
    "df_subject_appointments = df_pivot[\n",
    "    (df_pivot.appt_status==NEW_APPT) &\n",
    "    (df_pivot.appt_datetime >= datetime(2025,4,4)) &\n",
    "    (df_pivot.appt_datetime < cutoff_date) &\n",
    "    (df_pivot.visit_code!=1480.0)\n",
    "].copy()\n",
    "print(f\"{len(df_subject_appointments)} appointments\")"
   ],
   "id": "12f04c24f098e88f",
   "outputs": [],
   "execution_count": null
  },
  {
   "metadata": {},
   "cell_type": "code",
   "source": [
    "n = df_subject_appointments.subject_identifier.nunique()\n",
    "print(f\"{n} subjects\")\n"
   ],
   "id": "c32531751a339390",
   "outputs": [],
   "execution_count": null
  },
  {
   "metadata": {},
   "cell_type": "code",
   "source": "(len(df_subject_appointments[df_subject_appointments.appt_datetime>=datetime(2026,1,1)])/36)/5",
   "id": "e7f520f32116ab1c",
   "outputs": [],
   "execution_count": null
  },
  {
   "metadata": {},
   "cell_type": "code",
   "source": [
    "# summarize the appointments\n",
    "df_summary = df_subject_appointments.visit_code.value_counts().reset_index(name=\"appointments\").sort_values(by=[\"visit_code\"], ascending=True)\n",
    "df_summary[\"cumsum\"] = df_summary.appointments.cumsum()\n",
    "df_summary"
   ],
   "id": "f38ead26da10a1ef",
   "outputs": [],
   "execution_count": null
  },
  {
   "metadata": {},
   "cell_type": "code",
   "source": [
    "df = df_subject_appointments.assignment.value_counts(dropna=False).reset_index()\n",
    "df.rename(columns={\"count\":\"appointments\"}, inplace=True)\n",
    "df[\"bottles\"] = df.appointments * 3\n",
    "df[\"tablets\"] = df.bottles * 128\n",
    "\n",
    "# we need this many bottles / tablets by assignment\n",
    "# filter\n",
    "df.loc[len(df)] = {\"appointments\": df.appointments.sum(), \"bottles\": df.bottles.sum(), \"tablets\": df.tablets.sum()}\n",
    "df"
   ],
   "id": "b6a56657d02b04ac",
   "outputs": [],
   "execution_count": null
  },
  {
   "metadata": {},
   "cell_type": "code",
   "source": [
    "gt = get_great_table(\n",
    "    df,\n",
    "    \"Table 1: IMP Bottles of 128 needed<BR><small>as of 2025-04-04</small>\",\n",
    "    footnote=(\n",
    "        \"<ol>\"\n",
    "        \"<li>assume all participants consent for extended followup.\"\n",
    "        \"<li>Need 3 bottles every three months\"\n",
    "        \"<li>48m appointment is excluded\"\n",
    "        \"<li>Only prepare for appointments scheduled before 2026-03-01.\"\n",
    "        \"</ol>\"\n",
    "    ))\n",
    "gt.show()"
   ],
   "id": "f9bffc9c05c7fd41",
   "outputs": [],
   "execution_count": null
  },
  {
   "metadata": {},
   "cell_type": "code",
   "source": [
    "\n",
    "# save as png\n",
    "gt.save(analysis_folder / \"pharmacy_tbl1.png\")\n",
    "# export to PDF\n",
    "image = Image.open(analysis_folder / \"pharmacy_tbl1.png\")\n",
    "image = image.resize((image.width * 6, image.height * 6), Image.LANCZOS)\n",
    "image.save(analysis_folder / \"pharmacy_tbl1.pdf\", \"PDF\", resolution=800, optimize=True, quality=95)"
   ],
   "id": "53247d65d251bebb",
   "outputs": [],
   "execution_count": null
  },
  {
   "metadata": {},
   "cell_type": "code",
   "source": [
    "# now lets look at the stock\n",
    "df_stock = read_frame(Stock.objects.values(\"code\", \"lot_id\", \"container__name\", \"confirmed\", \"allocated\", \"dispensed\", \"qty_in\", \"qty_out\", \"unit_qty_in\", \"unit_qty_out\").all(), verbose=False)\n",
    "\n",
    "# merge in assignment\n",
    "df_lot = read_frame(Lot.objects.values(\"id\", \"assignment__name\").all(), verbose=False)\n",
    "df_lot.rename(columns={\"id\":\"lot_id\", \"assignment__name\": \"assignment\"}, inplace=True)\n",
    "df_stock = df_stock.merge(df_lot[[\"lot_id\", \"assignment\"]], on=\"lot_id\", how=\"left\")\n",
    "df_stock.rename(columns={\"container__name\":\"container\"}, inplace=True)\n",
    "df_stock.reset_index(drop=True, inplace=True)"
   ],
   "id": "6d280a4eeac931a0",
   "outputs": [],
   "execution_count": null
  },
  {
   "metadata": {},
   "cell_type": "code",
   "source": [
    "# merge in container columns\n",
    "df_container = read_frame(Container.objects.all())\n",
    "df_container.rename(columns={\"name\": \"container\", \"display_name\": \"container_display_name\", \"units\": \"container_units\", \"qty\": \"container_qty\"}, inplace=True)\n",
    "df_stock = df_stock.merge(df_container[[\"container\", \"container_display_name\", \"container_type\", \"container_units\", \"container_qty\"]], on=\"container\", how=\"left\")\n",
    "df_stock.reset_index(drop=True, inplace=True)\n",
    "\n",
    "# calculate bal\n",
    "df_stock[\"bal\"] = df_stock[\"unit_qty_in\"] - df_stock[\"unit_qty_out\"]\n"
   ],
   "id": "a11c4b67752b965d",
   "outputs": [],
   "execution_count": null
  },
  {
   "metadata": {},
   "cell_type": "code",
   "source": [
    "# show the balance of tablets decanted to bottles by assignment (on the EDC)\n",
    "df2 = df_stock[df_stock.container_display_name==\"Bottle 128\"].groupby(by=[\"assignment\"]).bal.agg(\"sum\").reset_index()\n",
    "df2.loc[len(df2)] = {\"bal\": df2.bal.sum()}\n",
    "df2"
   ],
   "id": "7e275d7fb827535b",
   "outputs": [],
   "execution_count": null
  },
  {
   "metadata": {},
   "cell_type": "code",
   "source": [
    "# some bottles, as of today, have not been captured in the system\n",
    "# here is an estimate of what has been decanted into bottles but not labelled.\n",
    "# in the system, these tablets would appear on the EDC as still in buckets\n",
    "df3 = df2.copy()\n",
    "df3 = df3.drop(len(df3) - 1)\n",
    "placebo_unlabelled = 21*128*128\n",
    "active_unlabelled = 25*191*128\n",
    "\n",
    "# adding in the estimates, this is about what we have bottled\n",
    "df3.loc[df3.assignment==\"placebo\", \"bal\"] +=  placebo_unlabelled\n",
    "df3.loc[df3.assignment==\"active\", \"bal\"] +=  active_unlabelled\n",
    "df3.loc[len(df3)] = {\"bal\": df3.bal.sum()}\n",
    "df3"
   ],
   "id": "1d7134fe05417475",
   "outputs": [],
   "execution_count": null
  },
  {
   "metadata": {},
   "cell_type": "code",
   "source": [
    "gt = get_great_table(df3, \"Table 2: IMP tablets in stock<BR><small>as of 2025-04-04</small>\", footnote=\"Includes recently decanted but unlabelled bottles\")\n",
    "gt.show()"
   ],
   "id": "7ab587c2d36d2e10",
   "outputs": [],
   "execution_count": null
  },
  {
   "metadata": {},
   "cell_type": "code",
   "source": [
    "# save as png\n",
    "gt.save(analysis_folder / \"pharmacy_tbl2.png\")\n",
    "# export to PDF\n",
    "image = Image.open(analysis_folder / \"pharmacy_tbl2.png\")\n",
    "image = image.resize((image.width * 6, image.height * 6), Image.LANCZOS)\n",
    "image.save(analysis_folder / \"pharmacy_tbl2.pdf\", \"PDF\", resolution=800, optimize=True, quality=95)"
   ],
   "id": "68374d9f02546d6f",
   "outputs": [],
   "execution_count": null
  },
  {
   "metadata": {},
   "cell_type": "code",
   "source": [
    "# tablets: ordered\n",
    "df_orderitems = read_frame(OrderItem.objects.all())\n",
    "df_orderitems.qty.sum()"
   ],
   "id": "9b67d6799735e116",
   "outputs": [],
   "execution_count": null
  },
  {
   "metadata": {},
   "cell_type": "code",
   "source": [
    "# tablets: received\n",
    "df_received_items = read_frame(ReceiveItem.objects.all())\n",
    "df_received_items.unit_qty.sum()"
   ],
   "id": "af0868a54913329",
   "outputs": [],
   "execution_count": null
  },
  {
   "metadata": {},
   "cell_type": "code",
   "source": [
    "# tablets: received into stock\n",
    "df_stock[df_stock.container_type==\"bucket\"].unit_qty_in.sum()"
   ],
   "id": "82b0df34b49377f0",
   "outputs": [],
   "execution_count": null
  },
  {
   "metadata": {},
   "cell_type": "code",
   "source": [
    "# tablets: decanted from buckets into bottles\n",
    "df_stock[df_stock.container_type==\"bucket\"].unit_qty_out.sum()"
   ],
   "id": "1d1383219f8fd0a4",
   "outputs": [],
   "execution_count": null
  },
  {
   "metadata": {},
   "cell_type": "code",
   "source": [
    "# tablets: total in bottles\n",
    "df_stock[df_stock.container_type==\"Bottle\"].unit_qty_in.sum()"
   ],
   "id": "d928f610d5427f39",
   "outputs": [],
   "execution_count": null
  },
  {
   "metadata": {},
   "cell_type": "code",
   "source": [
    "# tablets: total bottles available / not yet dispensed BY ASSIGNMENT\n",
    "# the total matches the total above for column \"bal\"\n",
    "df4 = df_stock[(df_stock.container_type==\"Bottle\") & (df_stock.confirmed==True) & (df_stock.dispensed==True)].groupby(by=[\"assignment\"]).unit_qty_in.sum().reset_index()\n",
    "df4[\"subtotal\"] = np.nan\n",
    "df4.loc[len(df4)] = {\"subtotal\": df4.unit_qty_in.sum()}\n",
    "df4[\"dispensed\"] = True\n",
    "\n",
    "df5 = df_stock[(df_stock.container_type==\"Bottle\") & (df_stock.confirmed==True) & (df_stock.dispensed==False)].groupby(by=[\"assignment\"]).unit_qty_in.sum().reset_index()\n",
    "df5.loc[df5.assignment==\"placebo\", \"unit_qty_in\"] +=  placebo_unlabelled\n",
    "df5.loc[df5.assignment==\"active\", \"unit_qty_in\"] +=  active_unlabelled\n",
    "df5[\"subtotal\"] = np.nan\n",
    "df5.loc[len(df5)] = {\"subtotal\" : df5.unit_qty_in.sum()}\n",
    "df5[\"dispensed\"] = False\n",
    "\n",
    "df6 = pd.concat([df4, df5])\n",
    "df6[\"total\"] = np.nan\n",
    "df6.reset_index(drop=True, inplace=True)\n",
    "df6.loc[len(df6)] = {\"total\": df6.subtotal.sum()}\n",
    "df6 = df6[[\"dispensed\", \"assignment\", \"unit_qty_in\", \"subtotal\", \"total\"]]\n",
    "df6"
   ],
   "id": "6600690d6e88a1b2",
   "outputs": [],
   "execution_count": null
  },
  {
   "metadata": {},
   "cell_type": "code",
   "source": "",
   "id": "3ad00099e744f41b",
   "outputs": [],
   "execution_count": null
  },
  {
   "metadata": {},
   "cell_type": "code",
   "source": "",
   "id": "c460fa84e9fc004e",
   "outputs": [],
   "execution_count": null
  },
  {
   "metadata": {},
   "cell_type": "code",
   "source": "",
   "id": "428d31f52ed17823",
   "outputs": [],
   "execution_count": null
  },
  {
   "metadata": {},
   "cell_type": "code",
   "source": [
    "from meta_visit_schedule.constants import MONTH36\n",
    "\n",
    "df_appt[(df_appt.visit_code_str==MONTH36) & (df_appt.appt_datetime >= datetime(2024,12,15)) & (df_appt.appt_status==NEW_APPT) & (df_appt.appt_datetime <= datetime(2026,2,28))]"
   ],
   "id": "49a7b405b7973ae3",
   "outputs": [],
   "execution_count": null
  },
  {
   "metadata": {},
   "cell_type": "code",
   "source": [
    "def remove_subjects_where_stock_on_site(stock_request: StockRequest, df: pd.DataFrame):\n",
    "    stock_model_cls = django_apps.get_model(\"edc_pharmacy.Stock\")\n",
    "    qs_stock = (\n",
    "        stock_model_cls.objects.values(\n",
    "            \"allocation__registered_subject__subject_identifier\", \"code\"\n",
    "        )\n",
    "        .filter(location=stock_request.location, qty=1)\n",
    "        .annotate(count=Count(\"allocation__registered_subject__subject_identifier\"))\n",
    "    )\n",
    "    df_stock = read_frame(qs_stock)\n",
    "    df_stock = df_stock.rename(\n",
    "        columns={\n",
    "            \"allocation__registered_subject__subject_identifier\": \"subject_identifier\",\n",
    "            \"count\": \"stock_qty\",\n",
    "        }\n",
    "    )\n",
    "    if not df.empty and not df_stock.empty:\n",
    "        df_subject = df.copy()\n",
    "        df_subject[\"code\"] = None\n",
    "        df = df.merge(df_stock, on=\"subject_identifier\", how=\"left\")\n",
    "        for index, row in df.iterrows():\n",
    "            qty_needed = stock_request.containers_per_subject - len(df[df.subject_identifier == row.subject_identifier])\n",
    "            if qty_needed > 0:\n",
    "               for _ in range(0, qty_needed):\n",
    "                   df = pd.concat([df, df_subject])\n",
    "    else:\n",
    "        df[\"code\"] = None\n",
    "    df[\"stock_qty\"] = 0.0\n",
    "    df = df.reset_index(drop=True)\n",
    "    return df\n"
   ],
   "id": "491b43957fe1c756",
   "outputs": [],
   "execution_count": null
  },
  {
   "metadata": {},
   "cell_type": "code",
   "source": [
    "def pad_with_null_rows(df, qty_needed):\n",
    "    padded_data = []\n",
    "    for index, row in df.iterrows():\n",
    "        customer = row['subject']\n",
    "        products = row['product_code']\n",
    "        # Pad the products list with None to make its length x\n",
    "        products += [None] * (qty_needed - len(products))\n",
    "        # Create x rows for each customer\n",
    "        for product in products:\n",
    "            padded_data.append({'customer': customer, 'product_code': product})\n",
    "    return pd.DataFrame(padded_data)"
   ],
   "id": "14fd36a1e0e158b9",
   "outputs": [],
   "execution_count": null
  },
  {
   "metadata": {},
   "cell_type": "code",
   "source": [
    "pk = \"5455cf66-b8e5-449c-a1e8-24d3325026d7\"\n",
    "stock_request = StockRequest.objects.get(pk=pk)\n"
   ],
   "id": "ee9423599bad2c6f",
   "outputs": [],
   "execution_count": null
  },
  {
   "metadata": {},
   "cell_type": "code",
   "source": [
    "df_subjects = get_next_scheduled_visit_for_subjects_df(stock_request)\n",
    "df_subjects"
   ],
   "id": "f5b22e507f36170d",
   "outputs": [],
   "execution_count": null
  },
  {
   "metadata": {},
   "cell_type": "code",
   "source": "",
   "id": "8918d8cd6b2ae777",
   "outputs": [],
   "execution_count": null
  },
  {
   "metadata": {},
   "cell_type": "code",
   "source": [
    "df = df_subjects.copy()\n",
    "stock_model_cls = django_apps.get_model(\"edc_pharmacy.Stock\")\n",
    "qs_stock = (\n",
    "    stock_model_cls.objects.values(\n",
    "        \"allocation__registered_subject__subject_identifier\", \"code\"\n",
    "    )\n",
    "    .filter(location=stock_request.location, qty=1)\n",
    "    .annotate(count=Count(\"allocation__registered_subject__subject_identifier\"))\n",
    ")\n",
    "df_stock = read_frame(qs_stock)\n",
    "df_stock = df_stock.rename(\n",
    "    columns={\n",
    "        \"allocation__registered_subject__subject_identifier\": \"subject_identifier\",\n",
    "        \"count\": \"stock_qty\",\n",
    "    }\n",
    ")\n",
    "df_stock"
   ],
   "id": "164302f67cec31be",
   "outputs": [],
   "execution_count": null
  },
  {
   "metadata": {},
   "cell_type": "code",
   "source": "df.merge(df_stock, on=\"subject_identifier\", how=\"left\")",
   "id": "8c1c3f0b594bdf3",
   "outputs": [],
   "execution_count": null
  },
  {
   "metadata": {},
   "cell_type": "code",
   "source": [
    "if not df.empty and not df_stock.empty:\n",
    "    df_subject = df.copy()\n",
    "    df_subject[\"code\"] = None\n",
    "    df = df.merge(df_stock, on=\"subject_identifier\", how=\"left\")\n",
    "    for index, row in df.iterrows():\n",
    "        qty_needed = stock_request.containers_per_subject - len(df[df.subject_identifier == row.subject_identifier])\n",
    "        if qty_needed > 0:\n",
    "           for _ in range(0, qty_needed):\n",
    "               df = pd.concat([df, df_subject])\n",
    "else:\n",
    "    df[\"code\"] = None\n",
    "df[\"stock_qty\"] = 0.0\n",
    "df = df.reset_index(drop=True)\n",
    "df"
   ],
   "id": "ba3541a4e2cdfde6",
   "outputs": [],
   "execution_count": null
  },
  {
   "metadata": {},
   "cell_type": "code",
   "source": "df.loc[df.index.repeat(3)]",
   "id": "5ba4eff2efc5f3eb",
   "outputs": [],
   "execution_count": null
  },
  {
   "metadata": {},
   "cell_type": "code",
   "source": [
    "if not df.empty and not df_stock.empty:\n",
    "    df = df.merge(df_stock, on=\"subject_identifier\", how=\"left\")\n",
    "else:\n",
    "    df[\"code\"] = None\n",
    "df[\"stock_qty\"] = 0.0\n",
    "df = df.reset_index(drop=True)\n",
    "df"
   ],
   "id": "79507f3726dd23ac",
   "outputs": [],
   "execution_count": null
  },
  {
   "metadata": {},
   "cell_type": "code",
   "source": [
    "df = remove_subjects_where_stock_on_site(stock_request, df_subjects)\n",
    "df"
   ],
   "id": "a23aafeb660d5a9c",
   "outputs": [],
   "execution_count": null
  },
  {
   "metadata": {},
   "cell_type": "code",
   "source": [
    "df_instock = df[~df.code.isna()]\n",
    "df_instock = df_instock.reset_index(drop=True)\n",
    "df_instock = df_instock.sort_values(by=[\"subject_identifier\"])\n",
    "\n",
    "df_nostock = df[df.code.isna()]\n",
    "df_nostock = df_nostock.reset_index(drop=True)\n",
    "df_nostock = df_nostock.loc[\n",
    "    df_nostock.index.repeat(stock_request.containers_per_subject)\n",
    "].reset_index(drop=True)\n",
    "df_nostock = df_nostock.sort_values(by=[\"subject_identifier\"])\n",
    "df_nostock[\"code\"] = df_nostock[\"code\"].fillna(\"---\")\n"
   ],
   "id": "f8e386caf276b53e",
   "outputs": [],
   "execution_count": null
  },
  {
   "metadata": {},
   "cell_type": "code",
   "source": "",
   "id": "85715500af7721de",
   "outputs": [],
   "execution_count": null
  },
  {
   "metadata": {},
   "cell_type": "code",
   "source": "",
   "id": "acf8453d693c288e",
   "outputs": [],
   "execution_count": null
  },
  {
   "metadata": {},
   "cell_type": "code",
   "source": "no_stock_for_subjects_df()",
   "id": "73171a433d5b5882",
   "outputs": [],
   "execution_count": null
  },
  {
   "metadata": {},
   "cell_type": "code",
   "source": "df_schedule = read_frame(SubjectScheduleHistory.objects.values(\"subject_identifier\", \"visit_schedule_name\",\"schedule_name\", \"offschedule_datetime\").all())\n",
   "id": "5721c4cf5f08d681",
   "outputs": [],
   "execution_count": null
  },
  {
   "metadata": {},
   "cell_type": "code",
   "source": [
    "df_schedule = df_schedule[(df_schedule.visit_schedule_name==\"visit_schedule\") & (df_schedule.schedule_name==\"schedule\")  & df_schedule.offschedule_datetime.isna()]\n",
    "df_schedule.reset_index(drop=True, inplace=True)"
   ],
   "id": "621196fa35e00e9c",
   "outputs": [],
   "execution_count": null
  },
  {
   "metadata": {},
   "cell_type": "code",
   "source": [
    "df_stock = read_frame(Stock.objects.all(), verbose=False)\n",
    "df_stock_on_site = df_stock[(df_stock.confirmed_at_site==True) & (df_stock.dispensed==False)].copy()\n",
    "df_stock_on_site.reset_index(drop=True, inplace=True)\n",
    "df_stock_on_site = df_stock_on_site.drop(columns=[\"subject_identifier\"])\n"
   ],
   "id": "8abada4ffb0db4f0",
   "outputs": [],
   "execution_count": null
  },
  {
   "metadata": {},
   "cell_type": "code",
   "source": [
    "df_allocation =  read_frame(Allocation.objects.values(\"id\", \"registered_subject\").all(), verbose=False)\n",
    "df_rs = read_frame(RegisteredSubject.objects.values(\"id\", \"subject_identifier\").all(), verbose=False)\n",
    "df_allocation = df_allocation.merge(df_rs[[\"id\", \"subject_identifier\"]], how=\"left\", left_on=\"registered_subject\", right_on=\"id\", suffixes=[\"_allocation\", \"_rs\"])"
   ],
   "id": "624ebc7e51e679bd",
   "outputs": [],
   "execution_count": null
  },
  {
   "metadata": {},
   "cell_type": "code",
   "source": "df_stock_on_site = df_stock_on_site.merge(df_allocation[[\"id_allocation\", \"subject_identifier\"]], how=\"left\", left_on=\"allocation\", right_on=\"id_allocation\")",
   "id": "394e569ac1649719",
   "outputs": [],
   "execution_count": null
  },
  {
   "metadata": {},
   "cell_type": "code",
   "source": [
    "df = pd.merge(df_schedule[[\"subject_identifier\", 'offschedule_datetime']], df_stock_on_site, on=\"subject_identifier\", how=\"left\")\n",
    "df= df[df.code.isna()][[\"subject_identifier\", ]].sort_values(by=[\"subject_identifier\"]).reset_index(drop=True)"
   ],
   "id": "1ab7350cfb29eab4",
   "outputs": [],
   "execution_count": null
  },
  {
   "metadata": {},
   "cell_type": "code",
   "source": [
    "df_appt = get_next_scheduled_visit_for_subjects_df()\n",
    "df_appt = df_appt[[\"subject_identifier\", \"site_id\", \"visit_code\", \"appt_datetime\", \"baseline_datetime\"]].copy()\n",
    "df_appt.reset_index(drop=True, inplace=True)"
   ],
   "id": "f29cc9c6c1234c34",
   "outputs": [],
   "execution_count": null
  },
  {
   "metadata": {},
   "cell_type": "code",
   "source": [
    "\n",
    "df = df.merge(df_appt, how=\"left\", on=\"subject_identifier\")\n",
    "df = df[(df.appt_datetime.notna())]\n",
    "df.reset_index(drop=True, inplace=True)"
   ],
   "id": "9e3e3f429a1995ec",
   "outputs": [],
   "execution_count": null
  },
  {
   "metadata": {},
   "cell_type": "code",
   "source": [
    "utc_now = pd.Timestamp.utcnow().tz_localize(None)\n",
    "df[\"relative_days\"] = (df.appt_datetime - utc_now).dt.days\n",
    "df_final = df[(df.relative_days >= -105)].copy()\n",
    "df_final.reset_index(drop=True, inplace=True)\n",
    "df_final"
   ],
   "id": "d6570f1e94ac23bb",
   "outputs": [],
   "execution_count": null
  },
  {
   "metadata": {},
   "cell_type": "code",
   "source": "RegisteredSubject.objects.filter(site_id=10)",
   "id": "6aef5bb0e7caf4e8",
   "outputs": [],
   "execution_count": null
  },
  {
   "metadata": {},
   "cell_type": "code",
   "source": "",
   "id": "1e6126bbe8d04c70",
   "outputs": [],
   "execution_count": null
  },
  {
   "metadata": {},
   "cell_type": "code",
   "source": "",
   "id": "1ee6ef823e6a543d",
   "outputs": [],
   "execution_count": null
  }
 ],
 "metadata": {
  "kernelspec": {
   "display_name": "Python 3",
   "language": "python",
   "name": "python3"
  },
  "language_info": {
   "codemirror_mode": {
    "name": "ipython",
    "version": 2
   },
   "file_extension": ".py",
   "mimetype": "text/x-python",
   "name": "python",
   "nbconvert_exporter": "python",
   "pygments_lexer": "ipython2",
   "version": "2.7.6"
  }
 },
 "nbformat": 4,
 "nbformat_minor": 5
}
