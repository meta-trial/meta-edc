{
 "cells": [
  {
   "cell_type": "code",
   "execution_count": null,
   "id": "0",
   "metadata": {},
   "outputs": [],
   "source": [
    "%%capture\n",
    "import os\n",
    "from pathlib import Path\n",
    "import pandas as pd\n",
    "from dj_notebook import activate\n",
    "\n",
    "env_file = os.environ[\"META_ENV\"]\n",
    "reports_folder = Path(os.environ[\"META_REPORTS_FOLDER\"])\n",
    "analysis_folder = Path(os.environ[\"META_ANALYSIS_FOLDER\"])\n",
    "pharmacy_folder = Path(os.environ[\"META_PHARMACY_FOLDER\"])\n",
    "plus = activate(dotenv_file=env_file)\n",
    "pd.set_option('future.no_silent_downcasting', True)"
   ]
  },
  {
   "cell_type": "code",
   "execution_count": null,
   "id": "1",
   "metadata": {},
   "outputs": [],
   "source": [
    "\n",
    "import pdfkit\n",
    "from datetime import date\n",
    "from edc_pdutils.dataframes import get_subject_visit\n",
    "from meta_analytics.dataframes import get_eos_df\n",
    "from meta_analytics.dataframes import GlucoseEndpointsByDate\n",
    "from scipy.stats import chi2\n",
    "from meta_analytics.utils import df_as_great_table\n",
    "from great_tables import md\n"
   ]
  },
  {
   "cell_type": "code",
   "execution_count": null,
   "id": "2",
   "metadata": {},
   "outputs": [],
   "source": [
    "html_data = []\n",
    "cutoff_date = date(2025,3, 31)\n"
   ]
  },
  {
   "cell_type": "code",
   "execution_count": null,
   "id": "3",
   "metadata": {},
   "outputs": [],
   "source": [
    "df_visit = get_subject_visit(\"meta_subject.subjectvisit\")\n",
    "df_visit = df_visit[df_visit.appt_datetime.dt.date<=cutoff_date]\n"
   ]
  },
  {
   "cell_type": "code",
   "execution_count": null,
   "id": "4",
   "metadata": {},
   "outputs": [],
   "source": [
    "cls = GlucoseEndpointsByDate()\n",
    "cls.run()\n",
    "df_endpoint = cls.endpoint_only_df.copy()"
   ]
  },
  {
   "cell_type": "code",
   "execution_count": null,
   "id": "5",
   "metadata": {},
   "outputs": [],
   "source": [
    "def get_df_main(df_visit:pd.DataFrame, lower_days:float|None=None, upper_days:float|None=None):\n",
    "    if not lower_days:\n",
    "        lower_days = -1\n",
    "    cutoff_datetime = df_visit.query(\"@lower_days<followup_days<=@upper_days\").visit_datetime.max()\n",
    "    # exclude subjects for this reason\n",
    "    offstudy_reasons = ['Patient fulfilled late exclusion criteria (due to abnormal blood values or raised blood pressure at enrolment']\n",
    "\n",
    "    df_eos = get_eos_df()\n",
    "    df_eos_excluded = (\n",
    "        df_eos\n",
    "        .query(\"followup_days<@lower_days and followup_days<=@upper_days and offstudy_reason.isin(@offstudy_reasons)\")\n",
    "        .copy()\n",
    "        .reset_index()\n",
    "    )\n",
    "    df_visit_final = (\n",
    "        df_visit.query(\"@lower_days<followup_days<=@upper_days and reason!='missed'\")\n",
    "        .merge(df_eos_excluded[[\"subject_identifier\"]], on=\"subject_identifier\", how=\"left\", suffixes=(\"\", \"_y\"), indicator=True)\n",
    "        .query(\"_merge=='left_only'\")\n",
    "        .drop(columns=[\"_merge\"])\n",
    "    )\n",
    "    df_main = (\n",
    "        df_visit_final\n",
    "        .groupby(by=[\"subject_identifier\"])[[\"baseline_datetime\", \"visit_datetime\", \"followup_days\"]]\n",
    "        .max()\n",
    "        .reset_index()\n",
    "    )\n",
    "\n",
    "    df_main = (\n",
    "        df_main\n",
    "        .merge(\n",
    "            df_endpoint.query(\"days_to_endpoint>@lower_days\")[[\"subject_identifier\", \"endpoint_label\", \"endpoint_type\", \"days_to_endpoint\"]],\n",
    "            how=\"left\",\n",
    "            on=[\"subject_identifier\"])\n",
    "        .reset_index(drop=True)\n",
    "    )\n",
    "    if lower_days>=365.25:\n",
    "        df_main[\"followup_days\"] = df_main[\"followup_days\"] - lower_days\n",
    "    df_main[\"followup_years\"] = df_main[\"followup_days\"]/365.25\n",
    "    return df_main, len(df_main), len(df_main.query(\"@lower_days<days_to_endpoint<=@upper_days and endpoint_label.notna()\"))\n",
    "\n",
    "def get_rate_and_ci(events, person_years_total):\n",
    "    lower_ci = (chi2.ppf(0.025, 2 * events) / (2 * person_years_total)) * 1000\n",
    "    upper_ci = (chi2.ppf(0.975, 2 * (events + 1)) / (2 * person_years_total)) * 1000\n",
    "    return events/person_years_total*1000, lower_ci, upper_ci\n",
    "\n",
    "def get_incidence_data(term:str, lower_days:float, upper_days:float):\n",
    "    data = {}\n",
    "    df_main, subjects, events = get_df_main(df_visit, lower_days=lower_days, upper_days=upper_days)\n",
    "    person_years_total = df_main.followup_years.sum()\n",
    "    data.update({term:[person_years_total, subjects, events, *get_rate_and_ci(events, person_years_total)]})\n",
    "    return data"
   ]
  },
  {
   "cell_type": "code",
   "execution_count": null,
   "id": "6",
   "metadata": {},
   "outputs": [],
   "source": [
    "incidence_data = {}\n",
    "incidence_data.update(get_incidence_data(\"total\", lower_days=0, upper_days=10000))\n",
    "incidence_data.update(get_incidence_data(\"0-1 years\", lower_days=0, upper_days=365.25))\n",
    "incidence_data.update(get_incidence_data(\"1-2 years\", lower_days=365.25, upper_days=2*365.25))\n",
    "incidence_data.update(get_incidence_data(\"2-3 years\", lower_days=2*365.25, upper_days=3*365.25))\n",
    "incidence_data.update(get_incidence_data(\"3+ years\", lower_days=3*365.25, upper_days=10*365.25))"
   ]
  },
  {
   "cell_type": "code",
   "execution_count": null,
   "id": "7",
   "metadata": {},
   "outputs": [],
   "source": [
    "data = dict(label=[], person_years=[], failures=[], rate=[], lower_ci=[], upper_ci=[])\n",
    "for k in incidence_data:\n",
    "    data[\"label\"].append(k)\n",
    "\n",
    "for v in incidence_data.values():\n",
    "    data[\"person_years\"].append(v[0])\n",
    "    data[\"failures\"].append(v[2])\n",
    "    data[\"rate\"].append(v[3])\n",
    "    data[\"lower_ci\"].append(v[4])\n",
    "    data[\"upper_ci\"].append(v[5])\n",
    "\n",
    "df = pd.DataFrame(data=data)"
   ]
  },
  {
   "cell_type": "code",
   "execution_count": null,
   "id": "8",
   "metadata": {},
   "outputs": [],
   "source": [
    "gt = df_as_great_table(\n",
    "    df,\n",
    "    title=\"Table 9: Incident Rate per 1000 person years\",\n",
    "    subtitle=md(\"using randomisation to diabetes/last seen\"),\n",
    ")\n",
    "gt = gt.fmt_number(columns=[\"person_years\", \"failures\", \"rate\", \"lower_ci\", \"upper_ci\"], decimals=2)\n",
    "gt = (gt\n",
    "    .cols_label({\"label\": \"Label\", \"person_years\": \"Person years\", \"failures\": \"Failures\", \"rate\": \"Rate\", \"lower_ci\": \"Lower\", \"upper_ci\": \"Upper\"})\n",
    "    .cols_align(align=\"left\", columns=[\"label\"])\n",
    "    .cols_align(align=\"center\", columns=[\"person_years\", \"failures\", \"rate\", \"lower_ci\", \"upper_ci\"])\n",
    "    .tab_spanner(\n",
    "        label=\"95%CI\",\n",
    "        columns=[\"lower_ci\", \"upper_ci\"],\n",
    "    )\n",
    ")\n",
    "gt.show()\n",
    "html_data.append(gt.as_raw_html())\n"
   ]
  },
  {
   "cell_type": "code",
   "execution_count": null,
   "id": "9",
   "metadata": {},
   "outputs": [],
   "source": [
    "raw_html = \"</BR>\".join(html_data)\n",
    "raw_html = '<!DOCTYPE html>\\n<html lang=\"en\">\\n<head>\\n<meta charset=\"utf-8\"/>\\n</head>\\n<body>\\n' + raw_html + '\\n</body>\\n</html>\\n'\n",
    "pdfkit.from_string(raw_html, str(analysis_folder / \"incident_rate.pdf\"))\n"
   ]
  }
 ],
 "metadata": {
  "kernelspec": {
   "display_name": "Python 3 (ipykernel)",
   "language": "python",
   "name": "python3"
  },
  "language_info": {
   "codemirror_mode": {
    "name": "ipython",
    "version": 3
   },
   "file_extension": ".py",
   "mimetype": "text/x-python",
   "name": "python",
   "nbconvert_exporter": "python",
   "pygments_lexer": "ipython3",
   "version": "3.12.4"
  }
 },
 "nbformat": 4,
 "nbformat_minor": 5
}
