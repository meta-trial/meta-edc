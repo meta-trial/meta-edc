{
 "cells": [
  {
   "cell_type": "code",
   "execution_count": null,
   "id": "0",
   "metadata": {},
   "outputs": [],
   "source": [
    "%%capture\n",
    "import os\n",
    "import pandas as pd\n",
    "from dj_notebook import activate\n",
    "from pathlib import Path\n",
    "env_file = os.environ[\"META_ENV\"]\n",
    "analysis_folder = Path(os.environ[\"META_ANALYSIS_FOLDER\"])\n",
    "reports_folder = Path(os.environ[\"META_ANALYSIS_FOLDER\"])\n",
    "plus = activate(dotenv_file=env_file)"
   ]
  },
  {
   "cell_type": "code",
   "execution_count": null,
   "id": "1",
   "metadata": {},
   "outputs": [],
   "source": [
    "from edc_pdutils.dataframes import get_crf\n",
    "from edc_appointment.analytics import get_appointment_df\n",
    "from edc_appointment.constants import MISSED_APPT\n",
    "\n"
   ]
  },
  {
   "cell_type": "code",
   "execution_count": null,
   "id": "2",
   "metadata": {},
   "outputs": [],
   "source": [
    "df_visit = get_crf(\"meta_subject.glucosefbg\", subject_visit_model=\"meta_subject.subjectvisit\")"
   ]
  },
  {
   "cell_type": "code",
   "execution_count": null,
   "id": "3",
   "metadata": {},
   "outputs": [],
   "source": [
    "df_missedvisit = get_crf(\"meta_subject.subjectvisitmissed\", subject_visit_model=\"meta_subject.subjectvisit\")\n"
   ]
  },
  {
   "cell_type": "code",
   "execution_count": null,
   "id": "4",
   "metadata": {},
   "outputs": [],
   "source": [
    "df_missedvisit[df_missedvisit.appt_timing!=MISSED_APPT]"
   ]
  },
  {
   "cell_type": "code",
   "execution_count": null,
   "id": "5",
   "metadata": {},
   "outputs": [],
   "source": []
  },
  {
   "cell_type": "code",
   "execution_count": null,
   "id": "6",
   "metadata": {},
   "outputs": [],
   "source": [
    "dffbg = get_crf(\"meta_subject.glucosefbg\", subject_visit_model=\"meta_subject.subjectvisit\")"
   ]
  },
  {
   "cell_type": "code",
   "execution_count": null,
   "id": "7",
   "metadata": {},
   "outputs": [],
   "source": [
    "dffbg[dffbg.fbg_value<=3.0][[\"subject_identifier\", \"visit_code\", \"fbg_value\"]]"
   ]
  },
  {
   "cell_type": "code",
   "execution_count": null,
   "id": "8",
   "metadata": {},
   "outputs": [],
   "source": [
    "dfglu = get_crf(\"meta_subject.glucose\", subject_visit_model=\"meta_subject.subjectvisit\")\n"
   ]
  },
  {
   "cell_type": "code",
   "execution_count": null,
   "id": "9",
   "metadata": {},
   "outputs": [],
   "source": [
    "dfglu.fbg_value.describe()\n"
   ]
  },
  {
   "cell_type": "code",
   "execution_count": null,
   "id": "10",
   "metadata": {},
   "outputs": [],
   "source": [
    "df_appt = get_appointment_df()"
   ]
  },
  {
   "cell_type": "code",
   "execution_count": null,
   "id": "11",
   "metadata": {},
   "outputs": [],
   "source": [
    "df_appt"
   ]
  },
  {
   "cell_type": "code",
   "execution_count": null,
   "id": "12",
   "metadata": {},
   "outputs": [],
   "source": [
    "dffbg.visit_code.value_counts()"
   ]
  },
  {
   "cell_type": "code",
   "execution_count": null,
   "id": "13",
   "metadata": {},
   "outputs": [],
   "source": [
    "dfglu.visit_code.value_counts()\n"
   ]
  },
  {
   "cell_type": "code",
   "execution_count": null,
   "id": "14",
   "metadata": {},
   "outputs": [],
   "source": [
    "df = df_appt.merge(dffbg[[\"subject_identifier\", \"visit_code\", \"fbg_value\"]], on=[\"subject_identifier\", \"visit_code\"], how=\"left\")"
   ]
  },
  {
   "cell_type": "code",
   "execution_count": null,
   "id": "15",
   "metadata": {},
   "outputs": [],
   "source": [
    "df[df.visit_code==1005.0].appt_status.value_counts()"
   ]
  },
  {
   "cell_type": "code",
   "execution_count": null,
   "id": "16",
   "metadata": {},
   "outputs": [],
   "source": [
    "df[(df.visit_code==1005.0) & (df.fbg_value.isna())].appt_status.value_counts()\n"
   ]
  },
  {
   "cell_type": "code",
   "execution_count": null,
   "id": "17",
   "metadata": {},
   "outputs": [],
   "source": [
    "from datetime import datetime\n",
    "\n",
    "df[(df.visit_code==1005.0) & (df.fbg_value.isna()) & (df.appt_datetime<=pd.to_datetime(datetime(2024,3,4)))].appt_status.value_counts()"
   ]
  },
  {
   "cell_type": "code",
   "execution_count": null,
   "id": "18",
   "metadata": {},
   "outputs": [],
   "source": [
    "missed_subjects = [\n",
    "    \"105-60-0164-5\",\n",
    "    \"105-20-0384-3\",\n",
    "    \"105-60-0196-7\",\n",
    "    \"105-60-0157-9\",\n",
    "    \"105-40-0324-7\",\n",
    "    \"105-30-0118-4\",\n",
    "]\n",
    "\n",
    "df[(df.visit_code==1005.0) & (df.fbg_value.isna()) & (df.appt_datetime<=pd.to_datetime(datetime(2024,3,4)))].subject_identifier"
   ]
  },
  {
   "cell_type": "code",
   "execution_count": null,
   "id": "19",
   "metadata": {},
   "outputs": [],
   "source": [
    "df[(df.visit_code==1005.0) & (df.fbg_value.isna()) & (df.appt_datetime<=pd.to_datetime(datetime(2024,3,4))) & (df.appt_timing) ][[\"subject_identifier\", \"appt_timing\", \"appt_status\", \"visit_code\"]]\n"
   ]
  },
  {
   "cell_type": "code",
   "execution_count": null,
   "id": "20",
   "metadata": {},
   "outputs": [],
   "source": [
    "df_appt[df_appt.subject_identifier==\"105-60-0157-9\"]"
   ]
  },
  {
   "cell_type": "code",
   "execution_count": null,
   "id": "21",
   "metadata": {},
   "outputs": [],
   "source": []
  }
 ],
 "metadata": {
  "kernelspec": {
   "display_name": "Python 3",
   "language": "python",
   "name": "python3"
  },
  "language_info": {
   "codemirror_mode": {
    "name": "ipython",
    "version": 2
   },
   "file_extension": ".py",
   "mimetype": "text/x-python",
   "name": "python",
   "nbconvert_exporter": "python",
   "pygments_lexer": "ipython2",
   "version": "2.7.6"
  }
 },
 "nbformat": 4,
 "nbformat_minor": 5
}
