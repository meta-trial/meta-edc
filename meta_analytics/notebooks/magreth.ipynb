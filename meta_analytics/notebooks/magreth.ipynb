{
 "cells": [
  {
   "cell_type": "code",
   "execution_count": null,
   "id": "0",
   "metadata": {},
   "outputs": [],
   "source": [
    "%%capture\n",
    "import os\n",
    "import pandas as pd\n",
    "import numpy as np\n",
    "from dj_notebook import activate\n",
    "from pathlib import Path\n",
    "\n",
    "env_file = os.environ[\"META_ENV\"]\n",
    "reports_folder = Path(os.environ[\"META_REPORTS_FOLDER\"])\n",
    "analysis_folder = Path(os.environ[\"META_ANALYSIS_FOLDER\"])\n",
    "plus = activate(dotenv_file=env_file)\n"
   ]
  },
  {
   "cell_type": "code",
   "execution_count": null,
   "id": "1",
   "metadata": {},
   "outputs": [],
   "source": [
    "\"\"\"\n",
    "Magreth data request\n",
    "* Medication adherence statistics\n",
    "* Median (interquartile) age of the cohort\n",
    "* Median follow-up duration and range\n",
    "\"\"\""
   ]
  },
  {
   "cell_type": "code",
   "execution_count": null,
   "id": "2",
   "metadata": {},
   "outputs": [],
   "source": [
    "from meta_consent.models import SubjectConsent\n",
    "from edc_pdutils.dataframes import get_subject_consent, get_subject_visit, get_eos\n",
    "from edc_constants.constants import FEMALE, MALE\n",
    "from edc_pdutils.dataframes import get_crf\n",
    "from datetime import datetime"
   ]
  },
  {
   "cell_type": "code",
   "execution_count": null,
   "id": "3",
   "metadata": {},
   "outputs": [],
   "source": [
    "cutoff_datetime = datetime(2025, 2,1, 0, 0, 0)"
   ]
  },
  {
   "cell_type": "code",
   "execution_count": null,
   "id": "4",
   "metadata": {},
   "outputs": [],
   "source": [
    "df_consent = get_subject_consent(model_cls=SubjectConsent)"
   ]
  },
  {
   "cell_type": "code",
   "execution_count": null,
   "id": "5",
   "metadata": {},
   "outputs": [],
   "source": [
    "# df_consent"
   ]
  },
  {
   "cell_type": "code",
   "execution_count": null,
   "id": "6",
   "metadata": {},
   "outputs": [],
   "source": [
    "df_consent.gender.value_counts()"
   ]
  },
  {
   "cell_type": "code",
   "execution_count": null,
   "id": "7",
   "metadata": {},
   "outputs": [],
   "source": [
    "df_consent.age_in_years.describe()\n"
   ]
  },
  {
   "cell_type": "code",
   "execution_count": null,
   "id": "8",
   "metadata": {},
   "outputs": [],
   "source": [
    "df_visit = get_subject_visit(\"meta_subject.subjectvisit\")\n",
    "df_visit = df_visit[df_visit.visit_datetime < pd.Timestamp(cutoff_datetime)]\n",
    "df_visit.reset_index(drop=True, inplace=True)"
   ]
  },
  {
   "cell_type": "code",
   "execution_count": null,
   "id": "9",
   "metadata": {},
   "outputs": [],
   "source": [
    "df_visit.dtypes"
   ]
  },
  {
   "cell_type": "code",
   "execution_count": null,
   "id": "10",
   "metadata": {},
   "outputs": [],
   "source": [
    "\n",
    "df_eos = get_eos(\"meta_prn.endofstudy\")\n",
    "df_visit = df_visit.merge(df_eos[[\"subject_identifier\", \"offstudy_datetime\", \"offstudy_reason\"]], on=\"subject_identifier\", how=\"left\")\n"
   ]
  },
  {
   "cell_type": "code",
   "execution_count": null,
   "id": "11",
   "metadata": {},
   "outputs": [],
   "source": [
    "def get_cells_for_categorical(df:pd.DataFrame, col:str, categories:list[str]|None=None, arm:str|None=None)->list[str]:\n",
    "    if arm:\n",
    "        n = len(df[(df['assignment']==arm) & (df[col].notna())])\n",
    "        counts = df[(df['assignment'] == arm) & (df[col].notna())][col].value_counts()\n",
    "        percentages = df[(df['assignment'] == arm) & (df[col].notna())][col].value_counts(normalize=True) * 100\n",
    "    else:\n",
    "        n = len(df[(df[col].notna())])\n",
    "        counts = df[(df[col].notna())][col].value_counts()\n",
    "        percentages = df[(df[col].notna())][col].value_counts(normalize=True) * 100\n",
    "    cells = [n]\n",
    "    for cat in categories:\n",
    "        cells.append(f\"{counts.get(cat, 0)} ({percentages.get(cat, 0):.1f}%)\",)\n",
    "    return cells\n",
    "\n",
    "def get_cells_for_continuous(df)->list[str]:\n",
    "    \"\"\" From describe(), format 3 cells as:\n",
    "\n",
    "        +======================+\n",
    "        | 930                  |\n",
    "        +----------------------+\n",
    "        | 127.69(16.84)        |\n",
    "        +----------------------+\n",
    "        | 127.00(82.00–183.00) |\n",
    "        +----------------------+\n",
    "    \"\"\"\n",
    "    return [\n",
    "        f\"{int(df['count'])}\",\n",
    "        f\"{df['mean']:.2f}({df['std']:.2f})\",\n",
    "        f\"{df['50%']:.2f}({df['min']:.2f}–{df['max']:.2f})\"\n",
    "    ]\n",
    "\n",
    "def get_formatted_rows(df, col:str|None=None):\n",
    "    \"\"\"Returns 5 columns\"\"\"\n",
    "\n",
    "    df = df[df[col].notna()].copy()\n",
    "    df_all = df[col].describe()\n",
    "\n",
    "    return  {\n",
    "        # 'Timepoint': ['Baseline', '', '', 'Endline', '', ''],\n",
    "        'Statistics': ['n', 'Mean(sd)', 'Median(min-max)'],\n",
    "        'All': [\n",
    "            *get_cells_for_continuous(df_all),\n",
    "        ],\n",
    "    }\n",
    "\n",
    "def get_formatted_rows_mf(df, col:str|None=None):\n",
    "    \"\"\"Returns 5 columns\"\"\"\n",
    "\n",
    "    df = df[df[col].notna()].copy()\n",
    "    df_all = df[col].describe()\n",
    "\n",
    "    return  {\n",
    "        # 'Timepoint': ['Baseline', '', '', 'Endline', '', ''],\n",
    "        'Statistics': ['n', 'Mean(sd)', 'Median(min-max)'],\n",
    "        'All': [\n",
    "            *get_cells_for_continuous(df_all),\n",
    "        ],\n",
    "        'Female': [\n",
    "            *get_cells_for_continuous(df[df.gender==FEMALE][col].describe()),\n",
    "        ],\n",
    "        'Male': [\n",
    "            *get_cells_for_continuous(df[df.gender==MALE][col].describe()),\n",
    "        ],\n",
    "    }\n"
   ]
  },
  {
   "cell_type": "code",
   "execution_count": null,
   "id": "12",
   "metadata": {},
   "outputs": [],
   "source": [
    "def days_on_study(s):\n",
    "    return (s[\"endline_visit_datetime\"] - s[\"baseline_datetime\"]).days\n",
    "df_visit[\"days_on_study\"] = df_visit.apply(days_on_study, axis=1)"
   ]
  },
  {
   "cell_type": "code",
   "execution_count": null,
   "id": "13",
   "metadata": {},
   "outputs": [],
   "source": [
    "df_visit[\"months_on_study\"] = df_visit[\"days_on_study\"]/30"
   ]
  },
  {
   "cell_type": "code",
   "execution_count": null,
   "id": "14",
   "metadata": {},
   "outputs": [],
   "source": [
    "\n",
    "\n",
    "# ALL\n",
    "\n",
    "table1a  = {'Category': ['Age at consent', '', '']}\n",
    "table1a.update({\n",
    "    'Parameter': ['Age (Years)', '', ''],\n",
    "    **get_formatted_rows_mf(df_consent, \"age_in_years\"),\n",
    "\n",
    "})\n",
    "\n",
    "# all\n",
    "df_months = df_visit[(df_visit.visit_code<=1480.9)].groupby(by=['subject_identifier'])[\"months_on_study\"].max().to_frame().reset_index()\n",
    "df_months = df_months.merge(df_consent[['subject_identifier', 'gender']], on='subject_identifier', how='left')\n",
    "table1 = {'Category': ['Follow-up (main)', '', '']}\n",
    "table1.update({\n",
    "    'Parameter': ['>= 0m', '', ''],\n",
    "    **get_formatted_rows_mf(df_months, \"months_on_study\")\n",
    "})\n",
    "\n",
    "# reach at least 12m\n",
    "table2a = {'Category': ['', '', '']}\n",
    "df_months = df_visit[(df_visit.visit_code>=1120.0) & (df_visit.visit_code<=1480.9)].groupby(by=['subject_identifier'])[\"months_on_study\"].max().to_frame().reset_index()\n",
    "df_months = df_months.merge(df_consent[['subject_identifier', 'gender']], on='subject_identifier', how='left')\n",
    "table2a.update({\n",
    "    'Parameter': ['>= 12m', '', ''],\n",
    "    **get_formatted_rows_mf(df_months, \"months_on_study\")\n",
    "})\n",
    "\n",
    "# reach at least 24m\n",
    "table2b = {'Category': ['', '', '']}\n",
    "df_months = df_visit[(df_visit.visit_code>=1240.0) & (df_visit.visit_code<=1480.9)].groupby(by=['subject_identifier'])[\"months_on_study\"].max().to_frame().reset_index()\n",
    "df_months = df_months.merge(df_consent[['subject_identifier', 'gender']], on='subject_identifier', how='left')\n",
    "table2b.update({\n",
    "    'Parameter': ['>= 24m', '', ''],\n",
    "    **get_formatted_rows_mf(df_months, \"months_on_study\")\n",
    "})\n",
    "\n",
    "# reach at least 36m\n",
    "table3a  = {'Category': ['', '', '']}\n",
    "df_months = df_visit[(df_visit.visit_code>=1360.0) & (df_visit.visit_code<=1480.9)].groupby(by=['subject_identifier'])[\"months_on_study\"].max().to_frame().reset_index()\n",
    "df_months = df_months.merge(df_consent[['subject_identifier', 'gender']], on='subject_identifier', how='left')\n",
    "table3a.update({\n",
    "    'Parameter': ['>= 36m', '', ''],\n",
    "    **get_formatted_rows_mf(df_months, \"months_on_study\")\n",
    "})\n",
    "\n",
    "# reach at least 36m\n",
    "table3b  = {'Category': ['', '', '']}\n",
    "df_months = df_visit[(df_visit.visit_code>1360.0) & (df_visit.visit_code<=1480.9)].groupby(by=['subject_identifier'])[\"months_on_study\"].max().to_frame().reset_index()\n",
    "df_months = df_months.merge(df_consent[['subject_identifier', 'gender']], on='subject_identifier', how='left')\n",
    "table3b.update({\n",
    "    'Parameter': ['> 36m', '', ''],\n",
    "    **get_formatted_rows_mf(df_months, \"months_on_study\")\n",
    "})\n",
    "\n",
    "# reach at least 48m\n",
    "table3c  = {'Category': ['', '', '']}\n",
    "df_months = df_visit[(df_visit.visit_code==1480.0)].groupby(by=['subject_identifier'])[\"months_on_study\"].max().to_frame().reset_index()\n",
    "df_months = df_months.merge(df_consent[['subject_identifier', 'gender']], on='subject_identifier', how='left')\n",
    "table3c.update({\n",
    "    'Parameter': ['48m', '', ''],\n",
    "    **get_formatted_rows_mf(df_months, \"months_on_study\")\n",
    "})\n",
    "\n",
    "table4  = {'Category': ['Pregnancy cohort', '', '']}\n",
    "df_months = df_visit[(df_visit.visit_code>=2000.0) & (df_visit.visit_code<3000.0)].groupby(by=['subject_identifier'])[\"months_on_study\"].max().to_frame().reset_index()\n",
    "df_months = df_months.merge(df_consent[['subject_identifier', 'gender']], on='subject_identifier', how='left')\n",
    "table4.update({\n",
    "    'Parameter': ['months', '', ''],\n",
    "    **get_formatted_rows_mf(df_months, \"months_on_study\")\n",
    "})\n",
    "\n",
    "table5  = {'Category': ['Diabetes cohort', '', '']}\n",
    "df_months = df_visit[(df_visit.visit_code>=3000.0)].groupby(by=['subject_identifier'])[\"months_on_study\"].max().to_frame().reset_index()\n",
    "df_months = df_months.merge(df_consent[['subject_identifier', 'gender']], on='subject_identifier', how='left')\n",
    "table5.update({\n",
    "    'Parameter': ['months', '', ''],\n",
    "    **get_formatted_rows_mf(df_months, \"months_on_study\")\n",
    "})\n",
    "\n",
    "# NOTE: this may need to be the delta from baseline to offstudy_datetime instead of to endline_visit_datetime\n",
    "table6  = {'Category': ['Offstudy (main)', '', '']}\n",
    "df_months = df_visit[(df_visit.offstudy_datetime.notna())].groupby(by=['subject_identifier'])[\"months_on_study\"].max().to_frame().reset_index()\n",
    "df_months = df_months.merge(df_consent[['subject_identifier', 'gender']], on='subject_identifier', how='left')\n",
    "table6.update({\n",
    "    'Parameter': ['months', '', ''],\n",
    "    **get_formatted_rows_mf(df_months, \"months_on_study\")\n",
    "})\n",
    "\n",
    "\n",
    "table1a_df  = pd.DataFrame(table1a)\n",
    "table1_df  = pd.DataFrame(table1)\n",
    "table2a_df  = pd.DataFrame(table2a)\n",
    "table2b_df  = pd.DataFrame(table2b)\n",
    "table3a_df  = pd.DataFrame(table3a)\n",
    "table3b_df  = pd.DataFrame(table3b)\n",
    "table3c_df  = pd.DataFrame(table3c)\n",
    "table4_df  = pd.DataFrame(table4)\n",
    "table5_df  = pd.DataFrame(table5)\n",
    "table6_df  = pd.DataFrame(table6)\n",
    "table_df = pd.concat([table1a_df, table1_df, table2a_df, table2b_df, table3a_df, table3b_df, table3c_df, table4_df, table5_df, table6_df])\n",
    "\n",
    "# export as csv\n",
    "path = analysis_folder / 'meta3_magreth_followup.csv'\n",
    "table_df.to_csv(path_or_buf=path, index=False)\n",
    "\n"
   ]
  },
  {
   "cell_type": "code",
   "execution_count": null,
   "id": "15",
   "metadata": {},
   "outputs": [],
   "source": [
    "from tabulate import tabulate\n",
    "\n",
    "table_formatted = tabulate(table_df, headers='keys', tablefmt='grid')\n",
    "\n",
    "path = analysis_folder / 'meta3_magreth_followup.txt'\n",
    "with open(path, 'w') as file:\n",
    "    file.write(table_formatted)\n",
    "\n",
    "print(table_formatted)\n"
   ]
  },
  {
   "cell_type": "code",
   "execution_count": null,
   "id": "16",
   "metadata": {},
   "outputs": [],
   "source": []
  },
  {
   "cell_type": "code",
   "execution_count": null,
   "id": "17",
   "metadata": {},
   "outputs": [],
   "source": [
    "# medical adherence"
   ]
  },
  {
   "cell_type": "code",
   "execution_count": null,
   "id": "18",
   "metadata": {},
   "outputs": [],
   "source": [
    "df_adherence = get_crf(model=\"meta_subject.medicationadherence\", subject_visit_model=\"meta_subject.subjectvisit\")\n",
    "df_adherence = df_adherence[df_adherence.visit_datetime < pd.Timestamp(cutoff_datetime)]\n",
    "df_adherence.reset_index(drop=True, inplace=True)\n"
   ]
  },
  {
   "cell_type": "code",
   "execution_count": null,
   "id": "19",
   "metadata": {},
   "outputs": [],
   "source": [
    "df_adherence = df_adherence.merge(df_consent[['subject_identifier', 'gender', \"age_in_years\"]], on='subject_identifier', how='left')"
   ]
  },
  {
   "cell_type": "code",
   "execution_count": null,
   "id": "20",
   "metadata": {},
   "outputs": [],
   "source": [
    "# calculate mean per subject by visit\n",
    "mean_visual_score_by_visit = df_adherence.groupby(by=['subject_identifier', 'visit_code'])['visual_score_confirmed'].mean().to_frame().reset_index()\n",
    "# merge w/ consent\n",
    "mean_visual_score_by_visit = mean_visual_score_by_visit.merge(df_consent[['subject_identifier', 'gender', 'age_in_years']], on='subject_identifier', how='left')\n",
    "\n",
    "# calculate mean of means\n",
    "mean_visual_score_confirmed = df_adherence.groupby(by=['subject_identifier'])['visual_score_confirmed'].mean().to_frame().reset_index()\n",
    "# merge w/ consent\n",
    "mean_visual_score_confirmed = mean_visual_score_confirmed.merge(df_consent[['subject_identifier', 'gender', 'age_in_years']], on='subject_identifier', how='left')\n"
   ]
  },
  {
   "cell_type": "code",
   "execution_count": null,
   "id": "21",
   "metadata": {},
   "outputs": [],
   "source": [
    "#\n",
    "table0 = {'Category': ['', '', '']}\n",
    "table0.update({\n",
    "    'Parameter': ['at 2 weeks (%)', '', ''],\n",
    "    **get_formatted_rows_mf(mean_visual_score_by_visit[mean_visual_score_by_visit.visit_code==1005.0], \"visual_score_confirmed\")\n",
    "})\n",
    "\n",
    "table1 = {'Category': ['', '', '']}\n",
    "table1.update({\n",
    "    'Parameter': ['at 12m (%)', '', ''],\n",
    "    **get_formatted_rows_mf(mean_visual_score_by_visit[mean_visual_score_by_visit.visit_code==1120.0], \"visual_score_confirmed\")\n",
    "})\n",
    "\n",
    "table2 = {'Category': ['', '', '']}\n",
    "table2.update({\n",
    "    'Parameter': ['at 24m (%)', '', ''],\n",
    "    **get_formatted_rows_mf(mean_visual_score_by_visit[mean_visual_score_by_visit.visit_code==1240.0], \"visual_score_confirmed\")\n",
    "})\n",
    "\n",
    "table3 = {'Category': ['', '', '']}\n",
    "table3.update({\n",
    "    'Parameter': ['at 36m (%)', '', ''],\n",
    "    **get_formatted_rows_mf(mean_visual_score_by_visit[mean_visual_score_by_visit.visit_code==1360.0], \"visual_score_confirmed\")\n",
    "})\n",
    "\n",
    "table4 = {'Category': ['', '', '']}\n",
    "table4.update({\n",
    "    'Parameter': ['at 48m (%)', '', ''],\n",
    "    **get_formatted_rows_mf(mean_visual_score_by_visit[mean_visual_score_by_visit.visit_code==1480.0], \"visual_score_confirmed\")\n",
    "})\n",
    "\n",
    "#\n",
    "table5 = {'Category': ['Adherence', '', '']}\n",
    "table5.update({\n",
    "    'Parameter': ['mean of means %', '', ''],\n",
    "    **get_formatted_rows_mf(mean_visual_score_confirmed, \"visual_score_confirmed\")\n",
    "})\n"
   ]
  },
  {
   "cell_type": "code",
   "execution_count": null,
   "id": "22",
   "metadata": {},
   "outputs": [],
   "source": [
    "\n",
    "table0_df  = pd.DataFrame(table0)\n",
    "table1_df  = pd.DataFrame(table1)\n",
    "table2_df  = pd.DataFrame(table2)\n",
    "table3_df  = pd.DataFrame(table3)\n",
    "table4_df  = pd.DataFrame(table4)\n",
    "table5_df  = pd.DataFrame(table5)\n",
    "table_df = pd.concat([table1a_df, table5_df, table0_df, table1_df, table2_df, table3_df, table4_df])\n",
    "table_df\n"
   ]
  },
  {
   "cell_type": "code",
   "execution_count": null,
   "id": "23",
   "metadata": {},
   "outputs": [],
   "source": [
    "table = tabulate(table_df, headers='keys', tablefmt='grid')\n",
    "path = analysis_folder / 'meta3_magreth_adherence.csv'\n",
    "table_df.to_csv(path_or_buf=path, index=False)\n",
    "\n",
    "path = analysis_folder / 'meta3_magreth_adherence.txt'\n",
    "with open(path, 'w') as file:\n",
    "    file.write(table)\n"
   ]
  },
  {
   "cell_type": "code",
   "execution_count": null,
   "id": "24",
   "metadata": {},
   "outputs": [],
   "source": [
    "df = df_adherence.copy()\n",
    "df.set_index('visit_datetime', inplace=True)\n",
    "\n"
   ]
  },
  {
   "cell_type": "code",
   "execution_count": null,
   "id": "25",
   "metadata": {},
   "outputs": [],
   "source": [
    "correlation = df[['pill_count', 'visual_score_confirmed']].corr()\n",
    "print(correlation)"
   ]
  },
  {
   "cell_type": "code",
   "execution_count": null,
   "id": "26",
   "metadata": {},
   "outputs": [],
   "source": [
    "df[['pill_count']].plot()"
   ]
  },
  {
   "cell_type": "code",
   "execution_count": null,
   "id": "27",
   "metadata": {},
   "outputs": [],
   "source": [
    "df1 = df[df.visit_code_sequence==0].groupby(\"visit_code\")[\"visual_score_confirmed\"].mean().to_frame().reset_index()\n",
    "df1.set_index('visit_code', inplace=True)\n"
   ]
  },
  {
   "cell_type": "code",
   "execution_count": null,
   "id": "28",
   "metadata": {},
   "outputs": [],
   "source": [
    "import matplotlib.pyplot as plt\n",
    "import seaborn as sns\n",
    "plt.figure(figsize=(10, 6))\n",
    "sns.scatterplot(x='visit_code', y='visual_score_confirmed', data=df1)\n",
    "plt.title('Scatter Plot Visual Score Confirmed')\n",
    "plt.xlabel('visit')\n",
    "plt.ylabel('Visual Score Confirmed')\n",
    "plt.show()\n"
   ]
  },
  {
   "cell_type": "code",
   "execution_count": null,
   "id": "29",
   "metadata": {},
   "outputs": [],
   "source": [
    "df1 = df.groupby(\"visit_code\")[\"visual_score_confirmed\"].mean()\n"
   ]
  },
  {
   "cell_type": "code",
   "execution_count": null,
   "id": "30",
   "metadata": {},
   "outputs": [],
   "source": [
    "df1"
   ]
  },
  {
   "cell_type": "code",
   "execution_count": null,
   "id": "31",
   "metadata": {},
   "outputs": [],
   "source": [
    "df2 = df_adherence.copy()\n",
    "df2.set_index('visit_code', inplace=True)\n",
    "df2.sort_values(by='visit_code', inplace=True)\n",
    "mean_pill_count = df[df.visit_code_sequence==0].groupby(\"visit_code\")[\"pill_count\"].mean().to_frame().reset_index()\n",
    "\n"
   ]
  },
  {
   "cell_type": "code",
   "execution_count": null,
   "id": "32",
   "metadata": {},
   "outputs": [],
   "source": [
    "import matplotlib.pyplot as plt\n",
    "plt.figure(figsize=(10, 6))\n",
    "plt.plot(mean_pill_count['visit_code'], mean_pill_count['pill_count'], marker='o')\n",
    "plt.title('Pill count')\n",
    "plt.xlabel('visit_code')\n",
    "plt.ylabel('pills')\n",
    "plt.xlim(1000, 1400)\n",
    "plt.show()\n"
   ]
  },
  {
   "cell_type": "code",
   "execution_count": null,
   "id": "33",
   "metadata": {},
   "outputs": [],
   "source": []
  }
 ],
 "metadata": {
  "kernelspec": {
   "display_name": "Python 3",
   "language": "python",
   "name": "python3"
  },
  "language_info": {
   "codemirror_mode": {
    "name": "ipython",
    "version": 2
   },
   "file_extension": ".py",
   "mimetype": "text/x-python",
   "name": "python",
   "nbconvert_exporter": "python",
   "pygments_lexer": "ipython2",
   "version": "2.7.6"
  }
 },
 "nbformat": 4,
 "nbformat_minor": 5
}
