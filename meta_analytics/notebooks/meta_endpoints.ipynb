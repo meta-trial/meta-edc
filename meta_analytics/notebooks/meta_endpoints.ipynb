{
 "cells": [
  {
   "cell_type": "code",
   "execution_count": null,
   "id": "28e21930-b943-4a08-a79a-ff2712ae9215",
   "metadata": {},
   "outputs": [],
   "source": [
    "%%capture\n",
    "import os\n",
    "import pandas as pd\n",
    "import numpy as np\n",
    "from datetime import datetime\n",
    "from django_pandas.io import read_frame\n",
    "from pathlib import Path\n",
    "\n",
    "\n",
    "from dj_notebook import activate\n",
    "\n",
    "# pd.options.mode.copy_on_write = True\n",
    "# pd.options.mode.chained_assignment = \"raise\"\n",
    "env_file = os.environ[\"META_ENV\"]\n",
    "report_folder = os.environ[\"META_DOCUMENTS_FOLDER\"]\n",
    "report_folder = Path(report_folder)\n",
    "\n",
    "plus = activate(dotenv_file=env_file)\n",
    "\n",
    "# output is suppressed ut normally would spew out all the edc loading messages"
   ]
  },
  {
   "cell_type": "code",
   "execution_count": null,
   "id": "52d4bb98-18a5-4528-be8d-e8370b1b5d1e",
   "metadata": {},
   "outputs": [],
   "source": [
    "from edc_constants.constants import YES\n",
    "from edc_pdutils.dataframes import get_crf\n",
    "\n",
    "from meta_subject.models import Glucose, GlucoseFbg\n",
    "from meta_analytics.dataframes import GlucoseEndpointsByDate"
   ]
  },
  {
   "cell_type": "code",
   "execution_count": null,
   "id": "7df19192-923c-4848-85e2-72b9d2489673",
   "metadata": {},
   "outputs": [],
   "source": [
    "cls = GlucoseEndpointsByDate()"
   ]
  },
  {
   "cell_type": "code",
   "execution_count": null,
   "id": "1eea8cf7-f52c-46d0-b49c-b875e11f9ae0",
   "metadata": {},
   "outputs": [],
   "source": [
    "cls.run()"
   ]
  },
  {
   "cell_type": "code",
   "execution_count": null,
   "id": "7a4b0246-b082-460c-8f9a-dee8d0fc1d63",
   "metadata": {},
   "outputs": [],
   "source": [
    "len(cls.endpoint_df[\"subject_identifier\"].unique())"
   ]
  },
  {
   "cell_type": "code",
   "execution_count": null,
   "id": "df519e75-d536-435e-8c1e-d4087b99d174",
   "metadata": {},
   "outputs": [],
   "source": [
    "cls.summarize()"
   ]
  },
  {
   "cell_type": "code",
   "execution_count": null,
   "id": "526b5f1a-cc77-4182-b9b4-c17c297344f6",
   "metadata": {},
   "outputs": [],
   "source": [
    "# table meta_subject.glucose\n",
    "fname = f\"meta-subject-glucose-{datetime.now().strftime(\"%Y-%m-%d-%H%M\")}.csv\"\n",
    "get_crf(\"meta_subject.glucose\", subject_visit_model=\"meta_subject.subjectvisit\", drop_columns=[\"consent_model\"]).to_csv(report_folder / fname, sep=\"|\", encoding=\"utf8\", index=False)\n"
   ]
  },
  {
   "cell_type": "code",
   "execution_count": null,
   "id": "b914aef9-5a27-4474-8359-2d8e0509720b",
   "metadata": {},
   "outputs": [],
   "source": [
    "# table meta_subject.glucosefbg\n",
    "fname = f\"meta-subject-glucosefbg-{datetime.now().strftime(\"%Y-%m-%d-%H%M\")}.csv\"\n",
    "get_crf(\"meta_subject.glucosefbg\", subject_visit_model=\"meta_subject.subjectvisit\", drop_columns=[\"consent_model\"]).to_csv(report_folder / fname, sep=\"|\", encoding=\"utf8\", index=False)\n"
   ]
  },
  {
   "cell_type": "code",
   "execution_count": null,
   "id": "66064ddd-51b6-4474-9664-42ecd471e9ce",
   "metadata": {},
   "outputs": [],
   "source": [
    "# all glucose merged\n",
    "fname = f\"glucose-merged-{datetime.now().strftime(\"%Y-%m-%d-%H%M\")}.csv\"\n",
    "cls.df.to_csv(report_folder / fname, sep=\"|\", encoding=\"utf8\", index=False)\n"
   ]
  },
  {
   "cell_type": "code",
   "execution_count": null,
   "id": "a8a9da26-84f0-4cc3-a33b-83bf1c292380",
   "metadata": {},
   "outputs": [],
   "source": [
    "# pivot of glucose readings for subjects who have reached\n",
    "# an ednpoint\n",
    "fname = f\"glucose-pivot-{datetime.now().strftime(\"%Y-%m-%d-%H%M\")}.csv\"\n",
    "df_pivot = cls.endpoint_df.sort_values(by=[\"subject_identifier\"]).set_index(\"subject_identifier\").pivot_table(columns=[\"visit_code\"], values=[\"fbg_value\",\"ogtt_value\"], index=[\"subject_identifier\"])\n",
    "df_pivot.sort_values(('visit_code'), axis=1).sort_values(\"subject_identifier\").to_csv(report_folder / fname, sep=\"|\", encoding=\"utf8\", index=True)\n"
   ]
  },
  {
   "cell_type": "code",
   "execution_count": null,
   "id": "f97dcfa7-4575-43c1-8614-9f51eb4adff5",
   "metadata": {},
   "outputs": [],
   "source": [
    "# all subjects with endpoint data\n",
    "fname = f\"endpoint_df-{datetime.now().strftime(\"%Y-%m-%d-%H%M\")}.csv\"\n",
    "cls.endpoint_df.to_csv(report_folder / fname, sep=\"|\", encoding=\"utf8\", index=False)\n"
   ]
  },
  {
   "cell_type": "code",
   "execution_count": null,
   "id": "b394252c-443c-49a9-9f32-77a686d00067",
   "metadata": {},
   "outputs": [],
   "source": [
    "# len(cls.endpoint_only_df)"
   ]
  },
  {
   "cell_type": "code",
   "execution_count": null,
   "id": "82634927-c2bf-4745-9fdf-841a1fec008b",
   "metadata": {},
   "outputs": [],
   "source": [
    "# len(cls.endpoint_only_df[\"subject_identifier\"].unique())"
   ]
  },
  {
   "cell_type": "code",
   "execution_count": null,
   "id": "dc597ae7-d66e-4e1f-9f69-b35dd2d28ec4",
   "metadata": {},
   "outputs": [],
   "source": [
    "# subject_identifier = \"105-10-0064-2\"\n",
    "# cls.df[cls.df[\"subject_identifier\"]==subject_identifier][[\"visit_code\", \"fbg_datetime\", \"fasting\", \"fbg_value\", \"ogtt_value\"]]"
   ]
  }
 ],
 "metadata": {
  "kernelspec": {
   "display_name": "Python 3 (ipykernel)",
   "language": "python",
   "name": "python3"
  },
  "language_info": {
   "codemirror_mode": {
    "name": "ipython",
    "version": 3
   },
   "file_extension": ".py",
   "mimetype": "text/x-python",
   "name": "python",
   "nbconvert_exporter": "python",
   "pygments_lexer": "ipython3",
   "version": "3.12.2"
  }
 },
 "nbformat": 4,
 "nbformat_minor": 5
}
