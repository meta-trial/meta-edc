{
 "cells": [
  {
   "cell_type": "code",
   "execution_count": null,
   "id": "28e21930-b943-4a08-a79a-ff2712ae9215",
   "metadata": {},
   "outputs": [],
   "source": [
    "%%capture\n",
    "import os\n",
    "import pandas as pd\n",
    "import numpy as np\n",
    "from datetime import datetime\n",
    "from django_pandas.io import read_frame\n",
    "from pathlib import Path\n",
    "\n",
    "\n",
    "from dj_notebook import activate\n",
    "\n",
    "# pd.options.mode.copy_on_write = True\n",
    "# pd.options.mode.chained_assignment = \"raise\"\n",
    "env_file = os.environ[\"META_ENV\"]\n",
    "report_folder = os.environ[\"META_DOCUMENTS_FOLDER\"]\n",
    "report_folder = Path(report_folder)\n",
    "\n",
    "plus = activate(dotenv_file=env_file)\n",
    "\n",
    "# output is suppressed ut normally would spew out all the edc loading messages"
   ]
  },
  {
   "cell_type": "code",
   "execution_count": null,
   "id": "52d4bb98-18a5-4528-be8d-e8370b1b5d1e",
   "metadata": {},
   "outputs": [],
   "source": [
    "from edc_constants.constants import YES\n",
    "from edc_pdutils.dataframes import get_crf\n",
    "\n",
    "from meta_subject.models import Glucose, GlucoseFbg\n",
    "from meta_analytics.dataframes import GlucoseEndpointsByDate"
   ]
  },
  {
   "cell_type": "code",
   "execution_count": null,
   "id": "7df19192-923c-4848-85e2-72b9d2489673",
   "metadata": {},
   "outputs": [],
   "source": [
    "cls = GlucoseEndpointsByDate()"
   ]
  },
  {
   "cell_type": "code",
   "execution_count": null,
   "id": "1eea8cf7-f52c-46d0-b49c-b875e11f9ae0",
   "metadata": {},
   "outputs": [],
   "source": [
    "cls.run()"
   ]
  },
  {
   "cell_type": "code",
   "execution_count": null,
   "id": "7a4b0246-b082-460c-8f9a-dee8d0fc1d63",
   "metadata": {},
   "outputs": [],
   "source": [
    "len(cls.endpoint_df[\"subject_identifier\"].unique())"
   ]
  },
  {
   "cell_type": "code",
   "execution_count": null,
   "id": "b0ebcb02-9d70-43b2-8614-b97ce6fc5aac",
   "metadata": {},
   "outputs": [],
   "source": [
    "kb_subjects = [\n",
    "    \"105-10-0156-6\",\n",
    "    \"105-10-0020-4\",\n",
    "    \"105-10-0061-8\",\n",
    "    \"105-10-0009-7\",\n",
    "    \"105-10-0074-1\",\n",
    "    \"105-10-0136-8\",\n",
    "    \"105-10-0162-4\",\n",
    "    \"105-10-0054-3\",\n",
    "    \"105-10-0080-8\",\n",
    "    \"105-10-0097-2\",\n",
    "    \"105-20-0159-9\",\n",
    "    \"105-20-0236-5\",\n",
    "    \"105-20-0009-6\",\n",
    "    \"105-20-0197-9\",\n",
    "    \"105-20-0354-6\",\n",
    "    \"105-20-0067-4\",\n",
    "    \"105-20-0015-3\",\n",
    "    \"105-30-0044-2\",\n",
    "    \"105-30-0037-6\",\n",
    "    \"105-30-0147-3\",\n",
    "    \"105-30-0052-5\",\n",
    "    \"105-40-0034-2\",\n",
    "    \"105-40-0246-2\",\n",
    "    \"105-40-0160-5\",\n",
    "    \"105-40-0153-0\",\n",
    "    \"105-40-0054-0\",\n",
    "    \"105-40-0390-8\",\n",
    "    \"105-40-0389-0\",\n",
    "    \"105-40-0379-1\",\n",
    "    \"105-40-0036-7\",\n",
    "    \"105-40-0024-3\",\n",
    "    \"105-40-0233-0\",\n",
    "    \"105-40-0202-5\",\n",
    "    \"105-40-0028-4\",\n",
    "    \"105-40-0010-2\",\n",
    "    \"105-40-0029-2\",\n",
    "    \"105-40-0215-7\",\n",
    "    \"105-40-0274-4\",\n",
    "    \"105-40-0124-1\",\n",
    "    \"105-40-0186-0\",\n",
    "    \"105-40-0219-9\",\n",
    "    \"105-40-0336-1\",\n",
    "    \"105-40-0304-9\",\n",
    "    \"105-40-0214-0\",\n",
    "    \"105-40-0111-8\",\n",
    "    \"105-40-0361-9\",\n",
    "    \"105-40-0121-7\",\n",
    "    \"105-40-0158-9\",\n",
    "    \"105-40-0048-2\",\n",
    "    \"105-40-0273-6\",\n",
    "    \"105-40-0333-8\",\n",
    "    \"105-40-0298-3\",\n",
    "    \"105-40-0021-9\",\n",
    "    \"105-40-0494-8\",\n",
    "    \"105-40-0171-2\",\n",
    "    \"105-40-0303-1\",\n",
    "    \"105-40-0109-2\",\n",
    "    \"105-60-0173-6\",\n",
    "    \"105-60-0104-1\",\n",
    "    \"105-60-0144-7\",\n",
    "    \"105-60-0163-7\",\n",
    "    \"105-60-0121-5\",\n",
    "    \"105-60-0198-3\",\n",
    "    \"105-60-0145-4\",\n",
    "    \"105-60-0155-3\",\n",
    "    \"105-60-0146-2\",\n",
    "    \"105-60-0076-1\",\n",
    "    \"105-60-0172-8\",\n",
    "    \"105-60-0024-1\",\n",
    "    \"105-60-0201-5\",\n",
    "    \"105-60-0029-0\",\n",
    "    \"105-60-0166-0\",\n",
    "    \"105-60-0212-2\",\n",
    "    \"105-60-0106-6\",\n",
    "]"
   ]
  },
  {
   "cell_type": "code",
   "execution_count": null,
   "id": "5bee69bb-30db-4b51-9e81-b391ccb63c42",
   "metadata": {},
   "outputs": [],
   "source": [
    "kb_extras = [s for s in cls.endpoint_only_df[\"subject_identifier\"] if s not in kb_subjects]\n",
    "ew_extras = [s for s in kb_subjects if s not in list(cls.endpoint_only_df[\"subject_identifier\"])]"
   ]
  },
  {
   "cell_type": "code",
   "execution_count": null,
   "id": "b3856dc1-cd6e-4886-a89b-e73c064b5f56",
   "metadata": {},
   "outputs": [],
   "source": [
    "kb_extras"
   ]
  },
  {
   "cell_type": "code",
   "execution_count": null,
   "id": "ecb272b1-341b-4488-90dd-25ce98087dcc",
   "metadata": {},
   "outputs": [],
   "source": [
    "ew_extras"
   ]
  },
  {
   "cell_type": "code",
   "execution_count": null,
   "id": "df519e75-d536-435e-8c1e-d4087b99d174",
   "metadata": {},
   "outputs": [],
   "source": []
  },
  {
   "cell_type": "code",
   "execution_count": null,
   "id": "526b5f1a-cc77-4182-b9b4-c17c297344f6",
   "metadata": {},
   "outputs": [],
   "source": []
  },
  {
   "cell_type": "code",
   "execution_count": null,
   "id": "b914aef9-5a27-4474-8359-2d8e0509720b",
   "metadata": {},
   "outputs": [],
   "source": []
  },
  {
   "cell_type": "code",
   "execution_count": null,
   "id": "66064ddd-51b6-4474-9664-42ecd471e9ce",
   "metadata": {},
   "outputs": [],
   "source": []
  },
  {
   "cell_type": "code",
   "execution_count": null,
   "id": "a8a9da26-84f0-4cc3-a33b-83bf1c292380",
   "metadata": {},
   "outputs": [],
   "source": []
  },
  {
   "cell_type": "code",
   "execution_count": null,
   "id": "f97dcfa7-4575-43c1-8614-9f51eb4adff5",
   "metadata": {},
   "outputs": [],
   "source": []
  },
  {
   "cell_type": "code",
   "execution_count": null,
   "id": "b394252c-443c-49a9-9f32-77a686d00067",
   "metadata": {},
   "outputs": [],
   "source": []
  },
  {
   "cell_type": "code",
   "execution_count": null,
   "id": "82634927-c2bf-4745-9fdf-841a1fec008b",
   "metadata": {},
   "outputs": [],
   "source": []
  },
  {
   "cell_type": "code",
   "execution_count": null,
   "id": "dc597ae7-d66e-4e1f-9f69-b35dd2d28ec4",
   "metadata": {},
   "outputs": [],
   "source": []
  }
 ],
 "metadata": {
  "kernelspec": {
   "display_name": "Python 3 (ipykernel)",
   "language": "python",
   "name": "python3"
  },
  "language_info": {
   "codemirror_mode": {
    "name": "ipython",
    "version": 3
   },
   "file_extension": ".py",
   "mimetype": "text/x-python",
   "name": "python",
   "nbconvert_exporter": "python",
   "pygments_lexer": "ipython3",
   "version": "3.12.4"
  }
 },
 "nbformat": 4,
 "nbformat_minor": 5
}
