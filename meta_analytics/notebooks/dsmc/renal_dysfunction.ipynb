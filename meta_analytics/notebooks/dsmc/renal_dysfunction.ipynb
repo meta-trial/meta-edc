{
 "cells": [
  {
   "cell_type": "code",
   "execution_count": null,
   "id": "0",
   "metadata": {},
   "outputs": [],
   "source": [
    "%%capture\n",
    "import os\n",
    "from pathlib import Path\n",
    "import pandas as pd\n",
    "from dj_notebook import activate\n",
    "import numpy as np\n",
    "from django_pandas.io import read_frame\n",
    "\n",
    "env_file = os.environ[\"META_ENV\"]\n",
    "reports_folder = Path(os.environ[\"META_REPORTS_FOLDER\"])\n",
    "analysis_folder = Path(os.environ[\"META_ANALYSIS_FOLDER\"])\n",
    "pharmacy_folder = Path(os.environ[\"META_PHARMACY_FOLDER\"])\n",
    "plus = activate(dotenv_file=env_file)"
   ]
  },
  {
   "cell_type": "code",
   "execution_count": null,
   "id": "1",
   "metadata": {},
   "outputs": [],
   "source": [
    "from meta_rando.models import RandomizationList"
   ]
  },
  {
   "cell_type": "code",
   "execution_count": null,
   "id": "2",
   "metadata": {},
   "outputs": [],
   "source": [
    "df_rando = read_frame(RandomizationList.objects.filter(subject_identifier__isnull=False))"
   ]
  },
  {
   "cell_type": "code",
   "execution_count": null,
   "id": "3",
   "metadata": {},
   "outputs": [],
   "source": [
    "df_all_sae = pd.read_csv(analysis_folder / \"05032025-dsmc\" / \"meta3_all_sae.csv\", index_col=False)"
   ]
  },
  {
   "cell_type": "code",
   "execution_count": null,
   "id": "4",
   "metadata": {},
   "outputs": [],
   "source": [
    "df_all_sae = df_all_sae[['subject_identifier',\n",
    " 'age_in_years',\n",
    " 'gender',\n",
    " 'event_term1',\n",
    " 'event_term2',\n",
    " 'event',\n",
    " 'grade',\n",
    " 'outcome']].copy()\n",
    "\n",
    "df_all_sae.reset_index(drop=True, inplace=True)\n",
    "df_all_sae"
   ]
  },
  {
   "cell_type": "code",
   "execution_count": null,
   "id": "5",
   "metadata": {},
   "outputs": [],
   "source": [
    "df_all_sae[\"grade\"] = df_all_sae[\"grade\"].apply(lambda x: 3 if x == \"Grade 3\" else x)\n",
    "df_all_sae[\"grade\"] = df_all_sae[\"grade\"].apply(lambda x: 4 if x == \"Grade 4\" else x)\n",
    "df_all_sae[\"grade\"] = df_all_sae[\"grade\"].apply(lambda x: 5 if x == \"Grade 5\" else x)"
   ]
  },
  {
   "cell_type": "code",
   "execution_count": null,
   "id": "6",
   "metadata": {},
   "outputs": [],
   "source": [
    "df_all_sae.loc[df_all_sae[\"subject_identifier\"]==\"105-20-0075-5\", \"subject_identifier\"] = \"105-20-0075-7\"\n",
    "df_all_sae = df_all_sae.merge(df_rando[[\"subject_identifier\", \"assignment\"]], on=\"subject_identifier\", how=\"left\")\n",
    "df_all_sae.reset_index(drop=True, inplace=True)"
   ]
  },
  {
   "cell_type": "code",
   "execution_count": null,
   "id": "7",
   "metadata": {},
   "outputs": [],
   "source": [
    "df_all_sae[df_all_sae.assignment.isna()]"
   ]
  },
  {
   "cell_type": "code",
   "execution_count": null,
   "id": "8",
   "metadata": {},
   "outputs": [],
   "source": [
    "list(df_all_sae.columns)"
   ]
  },
  {
   "cell_type": "code",
   "execution_count": null,
   "id": "9",
   "metadata": {},
   "outputs": [],
   "source": [
    "df_all_sae.to_csv(analysis_folder / \"05032025-dsmc\" / \"meta3_all_sae_by_arm.csv\", index=False)\n",
    "df_all_sae.rename(columns={\"gender\": \"sex\"}, inplace=True)\n",
    "df_all_sae[['subject_identifier',\n",
    " 'age_in_years',\n",
    " 'gender',\n",
    " 'event_term1',\n",
    " 'event_term2',\n",
    " 'event',\n",
    " 'grade',\n",
    " 'outcome',\n",
    "]].to_csv(analysis_folder / \"05032025-dsmc\" / \"meta3_all_sae_ew.csv\", index=False)"
   ]
  },
  {
   "cell_type": "code",
   "execution_count": null,
   "id": "10",
   "metadata": {},
   "outputs": [],
   "source": [
    "df_all_sae.groupby(by=[\"assignment\", \"grade\"]).size()"
   ]
  },
  {
   "cell_type": "code",
   "execution_count": null,
   "id": "11",
   "metadata": {},
   "outputs": [],
   "source": [
    "df_deaths = pd.read_csv(analysis_folder / \"05032025-dsmc\" / \"meta3_deaths.csv\")"
   ]
  },
  {
   "cell_type": "code",
   "execution_count": null,
   "id": "12",
   "metadata": {},
   "outputs": [],
   "source": [
    "df_deaths = df_deaths[['subject_identifier',\n",
    " 'age_in_years',\n",
    " 'sex',\n",
    " 'event_term1',\n",
    " 'event_term2',\n",
    " 'Seriousness',\n",
    " 'grade',\n",
    " 'outcome']].copy()"
   ]
  },
  {
   "cell_type": "code",
   "execution_count": null,
   "id": "13",
   "metadata": {},
   "outputs": [],
   "source": [
    "df_deaths[\"grade\"] = df_deaths[\"grade\"].apply(lambda x: 3 if x == \"Grade 3\" else x)\n",
    "df_deaths[\"grade\"] = df_deaths[\"grade\"].apply(lambda x: 4 if x == \"Grade 4\" else x)\n",
    "df_deaths[\"grade\"] = df_deaths[\"grade\"].apply(lambda x: 5 if x == \"Grade 5\" else x)\n",
    "df_deaths = df_deaths.merge(df_rando[[\"subject_identifier\", \"assignment\"]], on=\"subject_identifier\", how=\"left\")\n",
    "df_deaths.reset_index(drop=True, inplace=True)"
   ]
  },
  {
   "cell_type": "code",
   "execution_count": null,
   "id": "14",
   "metadata": {},
   "outputs": [],
   "source": [
    "df_deaths[df_deaths.assignment.isna()]"
   ]
  },
  {
   "cell_type": "code",
   "execution_count": null,
   "id": "15",
   "metadata": {},
   "outputs": [],
   "source": [
    "list(df_deaths.columns)"
   ]
  },
  {
   "cell_type": "code",
   "execution_count": null,
   "id": "16",
   "metadata": {},
   "outputs": [],
   "source": [
    "df_deaths"
   ]
  },
  {
   "cell_type": "code",
   "execution_count": null,
   "id": "17",
   "metadata": {},
   "outputs": [],
   "source": [
    "df_deaths.to_csv(analysis_folder / \"05032025-dsmc\" / \"meta3_deaths_by_arm.csv\", index=False)\n",
    "df_deaths[['subject_identifier',\n",
    " 'age_in_years',\n",
    " 'sex',\n",
    " 'event_term1',\n",
    " 'event_term2',\n",
    " 'Seriousness',\n",
    " 'grade',\n",
    " 'outcome',\n",
    "]].to_csv(analysis_folder / \"05032025-dsmc\" / \"meta3_deaths_ew.csv\", index=False)"
   ]
  },
  {
   "cell_type": "code",
   "execution_count": null,
   "id": "18",
   "metadata": {},
   "outputs": [],
   "source": [
    "df_renal_dys = pd.read_csv(analysis_folder / \"05032025-dsmc\" / \"meta3_renal_dysfunction_sae.csv\")"
   ]
  },
  {
   "cell_type": "code",
   "execution_count": null,
   "id": "19",
   "metadata": {},
   "outputs": [],
   "source": [
    "df_renal_dys"
   ]
  },
  {
   "cell_type": "code",
   "execution_count": null,
   "id": "20",
   "metadata": {},
   "outputs": [],
   "source": [
    "df_renal_dys[\"grade\"] = df_renal_dys[\"grade\"].apply(lambda x: 3 if x == \"Grade 3\" else x)\n",
    "df_renal_dys[\"grade\"] = df_renal_dys[\"grade\"].apply(lambda x: 4 if x == \"Grade 4\" else x)\n",
    "df_renal_dys[\"grade\"] = df_renal_dys[\"grade\"].apply(lambda x: 5 if x == \"Grade 5\" else x)\n",
    "df_renal_dys = df_renal_dys.merge(df_rando[[\"subject_identifier\", \"assignment\"]], on=\"subject_identifier\", how=\"left\")\n",
    "df_renal_dys.reset_index(drop=True, inplace=True)"
   ]
  },
  {
   "cell_type": "code",
   "execution_count": null,
   "id": "21",
   "metadata": {},
   "outputs": [],
   "source": [
    "df_renal_dys[df_renal_dys.assignment.isna()]"
   ]
  },
  {
   "cell_type": "code",
   "execution_count": null,
   "id": "22",
   "metadata": {},
   "outputs": [],
   "source": [
    "list(df_renal_dys.columns)"
   ]
  },
  {
   "cell_type": "code",
   "execution_count": null,
   "id": "23",
   "metadata": {},
   "outputs": [],
   "source": [
    "df_renal_dys = df_renal_dys[['subject_identifier',\n",
    " 'age_in_years',\n",
    " 'sex',\n",
    " 'event_term1',\n",
    " 'event_term2',\n",
    " 'event',\n",
    " 'grade',\n",
    " 'outcome',\n",
    " 'assignment']].copy()"
   ]
  },
  {
   "cell_type": "code",
   "execution_count": null,
   "id": "24",
   "metadata": {},
   "outputs": [],
   "source": [
    "df_renal_dys"
   ]
  },
  {
   "cell_type": "code",
   "execution_count": null,
   "id": "25",
   "metadata": {},
   "outputs": [],
   "source": [
    "df_renal_dys.to_csv(analysis_folder / \"05032025-dsmc\" / \"meta3_renal_dysfunction_sae_by_arm.csv\", index=False)\n",
    "df_renal_dys[['subject_identifier',\n",
    " 'age_in_years',\n",
    " 'sex',\n",
    " 'event_term1',\n",
    " 'event_term2',\n",
    " 'event',\n",
    " 'grade',\n",
    " 'outcome',\n",
    "]].to_csv(analysis_folder / \"05032025-dsmc\" / \"meta3_renal_dysfunction_sae_ew.csv\", index=False)"
   ]
  },
  {
   "cell_type": "code",
   "execution_count": null,
   "id": "26",
   "metadata": {},
   "outputs": [],
   "source": [
    "df_renal_dys_results = pd.read_csv(analysis_folder / \"05032025-dsmc\" / \"meta3_renal_dysfunction_test_results.csv\")\n",
    "df_renal_dys_results[\"grade\"] = df_renal_dys_results[\"grade\"].apply(lambda x: 3 if x == \"Grade 3\" else x)\n",
    "df_renal_dys_results[\"grade\"] = df_renal_dys_results[\"grade\"].apply(lambda x: 4 if x == \"Grade 4\" else x)\n",
    "df_renal_dys_results[\"grade\"] = df_renal_dys_results[\"grade\"].apply(lambda x: 5 if x == \"Grade 5\" else x)\n",
    "df_renal_dys_results = df_renal_dys_results.merge(df_rando[[\"subject_identifier\", \"assignment\"]], on=\"subject_identifier\", how=\"left\")\n",
    "df_renal_dys_results.reset_index(drop=True, inplace=True)\n"
   ]
  },
  {
   "cell_type": "code",
   "execution_count": null,
   "id": "27",
   "metadata": {},
   "outputs": [],
   "source": [
    "df_renal_dys_results[df_renal_dys_results.assignment.isna()]\n"
   ]
  },
  {
   "cell_type": "code",
   "execution_count": null,
   "id": "28",
   "metadata": {},
   "outputs": [],
   "source": [
    "list(df_renal_dys_results.columns)"
   ]
  },
  {
   "cell_type": "code",
   "execution_count": null,
   "id": "29",
   "metadata": {},
   "outputs": [],
   "source": [
    "df_renal_dys_results"
   ]
  },
  {
   "cell_type": "code",
   "execution_count": null,
   "id": "30",
   "metadata": {},
   "outputs": [],
   "source": [
    "df_renal_dys_results.to_csv(analysis_folder / \"05032025-dsmc\" / \"meta3_renal_dysfunction_test_results_by_arm.csv\", index=False)\n",
    "df_renal_dys_results[['subject_identifier',\n",
    " 'age_in_years',\n",
    " 'sex',\n",
    " 'event_term',\n",
    " 'grade',\n",
    " 'outcome',\n",
    " 'report_datetime',\n",
    " 'assay_datetime',\n",
    " 'urea_value',\n",
    " 'creatinine_value',\n",
    " 'uric_acid_value',\n",
    " 'egfr_value',\n",
    " 'creatinine_grade',\n",
    " 'egfr_grade',\n",
    " 'egfr_drop_units',\n",
    " 'egfr_drop_value',\n",
    " 'old_egfr_value',\n",
    "]].to_csv(analysis_folder / \"05032025-dsmc\" / \"meta3_renal_dysfunction_test_results_ew.csv\", index=False)\n"
   ]
  }
 ],
 "metadata": {
  "kernelspec": {
   "display_name": "Python 3",
   "language": "python",
   "name": "python3"
  },
  "language_info": {
   "codemirror_mode": {
    "name": "ipython",
    "version": 2
   },
   "file_extension": ".py",
   "mimetype": "text/x-python",
   "name": "python",
   "nbconvert_exporter": "python",
   "pygments_lexer": "ipython2",
   "version": "2.7.6"
  }
 },
 "nbformat": 4,
 "nbformat_minor": 5
}
