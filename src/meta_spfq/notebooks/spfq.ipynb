{
 "cells": [
  {
   "cell_type": "code",
   "execution_count": null,
   "id": "0",
   "metadata": {},
   "outputs": [],
   "source": [
    "%%capture\n",
    "import os\n",
    "from pathlib import Path\n",
    "\n",
    "from dj_notebook import activate\n",
    "\n",
    "env_file = os.environ[\"META_ENV\"]\n",
    "reports_folder = Path(os.environ[\"META_REPORTS_FOLDER\"])\n",
    "analysis_folder = Path(os.environ[\"META_ANALYSIS_FOLDER\"])\n",
    "pharmacy_folder = Path(os.environ[\"META_PHARMACY_FOLDER\"])\n",
    "plus = activate(dotenv_file=env_file)"
   ]
  },
  {
   "cell_type": "code",
   "execution_count": null,
   "id": "1",
   "metadata": {},
   "outputs": [],
   "source": [
    "from datetime import date\n",
    "\n",
    "import numpy as np\n",
    "import pandas as pd\n",
    "from django.utils import timezone\n",
    "from django_pandas.io import read_frame\n",
    "from edc_model_to_dataframe.read_frame_edc import read_frame_edc\n",
    "from edc_registration.models import RegisteredSubject\n",
    "\n",
    "from meta_prn.models import EndOfStudy, OffSchedule\n",
    "from meta_rando.models import RandomizationList\n",
    "from meta_subject.models import FollowupVitals"
   ]
  },
  {
   "cell_type": "code",
   "execution_count": null,
   "id": "2",
   "metadata": {},
   "outputs": [],
   "source": []
  },
  {
   "cell_type": "code",
   "execution_count": null,
   "id": "3",
   "metadata": {},
   "outputs": [],
   "source": [
    "df_rs = read_frame(RegisteredSubject.objects.values(\"subject_identifier\", \"gender\", \"dob\").all(), verbose=False)\n",
    "df_rs[\"dob\"] = pd.to_datetime(df_rs[\"dob\"])\n",
    "today = pd.to_datetime(date.today())\n",
    "age = today.year - df_rs['dob'].dt.year\n",
    "df_rs['age_in_years'] = age\n",
    "\n",
    "df_vitals = read_frame_edc(FollowupVitals.objects.all())\n",
    "df_eos = read_frame_edc(EndOfStudy.objects.all())\n",
    "df_offschedule = read_frame_edc(OffSchedule.objects.all())\n",
    "df_rando =  read_frame(RandomizationList.objects.values(\"subject_identifier\", \"sid\", \"assignment\", \"randomizer_name\").all(), verbose=False)"
   ]
  },
  {
   "cell_type": "code",
   "execution_count": null,
   "id": "4",
   "metadata": {},
   "outputs": [],
   "source": [
    "from meta_spfq.constants import GTE_35__LTE_49, GTE_50, LT_35\n",
    "\n",
    "df_rs = df_rs.merge(df_rando[[\"subject_identifier\", \"sid\", \"assignment\"]], on=\"subject_identifier\", how=\"left\")\n",
    "\n",
    "# merge vitals, registered subject\n",
    "df = pd.merge(df_rs, df_vitals, on=\"subject_identifier\")\n",
    "\n",
    "# merge vitals, registered subject\n",
    "df = pd.merge(df_rs, df_vitals, on=\"subject_identifier\")\n",
    "\n",
    "# select the last record for each subject\n",
    "df['report_datetime'] = pd.to_datetime(df['report_datetime'])\n",
    "df = df.sort_values(by=['subject_identifier', 'report_datetime'])\n",
    "df = df.drop_duplicates(subset='subject_identifier', keep='last')\n",
    "\n",
    "# drop any subjects off study\n",
    "df = df[~df['subject_identifier'].isin(df_eos['subject_identifier'].unique())]\n",
    "\n",
    "# drop any subjects off-schedule (but still on study)\n",
    "df = df[~df['subject_identifier'].isin(df_offschedule['subject_identifier'].unique())]\n",
    "\n",
    "# cut/bin weight\n",
    "df['weight'] = pd.to_numeric(df['weight'], errors='coerce')\n",
    "bins = [-np.inf, 35, 50, np.inf]\n",
    "labels = [LT_35, GTE_35__LTE_49, GTE_50]\n",
    "df['weight_bin'] = pd.cut(df['weight'], bins=bins, labels=labels, right=False)\n"
   ]
  },
  {
   "cell_type": "code",
   "execution_count": null,
   "id": "5",
   "metadata": {},
   "outputs": [],
   "source": [
    "df[['subject_identifier', 'assignment', 'visit_code', 'report_datetime', 'site_id', 'gender', 'weight', 'weight_bin']]\n"
   ]
  },
  {
   "cell_type": "code",
   "execution_count": null,
   "id": "6",
   "metadata": {},
   "outputs": [],
   "source": [
    "# sample 20% subjects\n",
    "stratified_sample = df.groupby(\n",
    "    ['assignment','site_id', 'gender', 'weight_bin', 'age_in_years'],\n",
    "    group_keys=False,\n",
    "    observed=True\n",
    ").sample(\n",
    "    frac=0.30,\n",
    "    random_state=981\n",
    ")"
   ]
  },
  {
   "cell_type": "code",
   "execution_count": null,
   "id": "7",
   "metadata": {},
   "outputs": [],
   "source": [
    "stratified_sample"
   ]
  },
  {
   "cell_type": "code",
   "execution_count": null,
   "id": "8",
   "metadata": {},
   "outputs": [],
   "source": [
    "# randomize the stratified sample by site\n",
    "randomized_df = stratified_sample.groupby(\n",
    "    'site_id',\n",
    "    group_keys=False,\n",
    "    observed=True\n",
    ").sample(n=20, random_state=876).reset_index()"
   ]
  },
  {
   "cell_type": "code",
   "execution_count": null,
   "id": "9",
   "metadata": {},
   "outputs": [],
   "source": [
    "# add sid column, ...\n",
    "randomized_df[\"sid\"] = randomized_df.index+42000\n",
    "randomized_df[\"date_generated\"] = pd.Timestamp.now()\n",
    "randomized_df = randomized_df.rename(columns={\"visit_code\": \"last_visit_code\", \"report_datetime\": \"last_appt_datetime\"})\n"
   ]
  },
  {
   "cell_type": "code",
   "execution_count": null,
   "id": "10",
   "metadata": {},
   "outputs": [],
   "source": [
    "# review\n",
    "randomized_df[['sid', 'subject_identifier', 'assignment', 'last_visit_code', 'last_appt_datetime', 'site_id', 'gender', 'age_in_years', 'weight_bin', 'date_generated']]"
   ]
  },
  {
   "cell_type": "code",
   "execution_count": null,
   "id": "11",
   "metadata": {},
   "outputs": [],
   "source": [
    "# review\n",
    "randomized_df.site_id.value_counts(normalize=True)"
   ]
  },
  {
   "cell_type": "code",
   "execution_count": null,
   "id": "12",
   "metadata": {},
   "outputs": [],
   "source": [
    "# review\n",
    "randomized_df.site_id.value_counts()"
   ]
  },
  {
   "cell_type": "code",
   "execution_count": null,
   "id": "13",
   "metadata": {},
   "outputs": [],
   "source": [
    "randomized_df.assignment.value_counts()\n"
   ]
  },
  {
   "cell_type": "code",
   "execution_count": null,
   "id": "14",
   "metadata": {},
   "outputs": [],
   "source": [
    "# review\n",
    "read_frame_edc(RegisteredSubject.objects.values(\"subject_identifier\", \"site_id\").all()).site_id.value_counts(normalize=True)"
   ]
  },
  {
   "cell_type": "code",
   "execution_count": null,
   "id": "15",
   "metadata": {},
   "outputs": [],
   "source": [
    "# export\n",
    "dte_string = timezone.now().strftime('%Y%m%d%H%M%S')\n",
    "randomized_df[['sid', 'subject_identifier','last_visit_code', 'last_appt_datetime', 'site_id', 'gender', 'age_in_years', 'weight_bin', 'date_generated']].to_csv(analysis_folder / f\"nanda_list_frac_{dte_string}.csv\")"
   ]
  },
  {
   "cell_type": "code",
   "execution_count": null,
   "id": "16",
   "metadata": {},
   "outputs": [],
   "source": [
    "# method 2\n",
    "stratified_sample = df.groupby(\n",
    "    ['site_id', 'assignment', 'gender', 'weight_bin', 'age_in_years'],\n",
    "    group_keys=False,\n",
    "    observed=True\n",
    ").sample(\n",
    "    n=1,\n",
    "    random_state=22102\n",
    ")\n",
    "# randomize the stratified sample by site\n",
    "randomized_df = stratified_sample.groupby(\n",
    "    ['site_id'],\n",
    "    group_keys=False,\n",
    "    observed=True\n",
    ").sample(n=20, random_state=43221).reset_index()\n",
    "\n",
    "# add sid column, ...\n",
    "randomized_df[\"sid\"] = randomized_df.index + 42000\n",
    "randomized_df[\"date_generated\"] = pd.Timestamp.utcnow()\n",
    "randomized_df['report_datetime'] = randomized_df['report_datetime'].dt.tz_localize('UTC')\n",
    "randomized_df = randomized_df.rename(columns={\"visit_code\": \"last_visit_code\",\n",
    "                                              \"report_datetime\": \"last_appt_datetime\"})"
   ]
  },
  {
   "cell_type": "code",
   "execution_count": null,
   "id": "17",
   "metadata": {},
   "outputs": [],
   "source": [
    "dte_string = timezone.now().strftime('%Y%m%d%H%M%S')\n",
    "randomized_df[['sid', 'subject_identifier', 'last_visit_code', 'last_appt_datetime', 'site_id', 'gender', 'age_in_years', 'weight_bin', 'date_generated']].to_csv(analysis_folder / f\"nanda_list_n_{dte_string}.csv\", index=False)\n"
   ]
  },
  {
   "cell_type": "code",
   "execution_count": null,
   "id": "18",
   "metadata": {},
   "outputs": [],
   "source": [
    "randomized_df.site_id.value_counts(normalize=True)\n"
   ]
  },
  {
   "cell_type": "code",
   "execution_count": null,
   "id": "19",
   "metadata": {},
   "outputs": [],
   "source": [
    "randomized_df.site_id.value_counts()\n"
   ]
  },
  {
   "cell_type": "code",
   "execution_count": null,
   "id": "20",
   "metadata": {},
   "outputs": [],
   "source": [
    "randomized_df.assignment.value_counts()\n"
   ]
  },
  {
   "cell_type": "code",
   "execution_count": null,
   "id": "21",
   "metadata": {},
   "outputs": [],
   "source": [
    "randomized_df.groupby([\"site_id\", \"assignment\"]).size()\n"
   ]
  },
  {
   "cell_type": "code",
   "execution_count": null,
   "id": "22",
   "metadata": {},
   "outputs": [],
   "source": [
    "randomized_df.groupby([\"site_id\", \"gender\"]).size()\n"
   ]
  },
  {
   "cell_type": "code",
   "execution_count": null,
   "id": "23",
   "metadata": {},
   "outputs": [],
   "source": [
    "randomized_df.subject_identifier.nunique()"
   ]
  },
  {
   "cell_type": "code",
   "execution_count": null,
   "id": "24",
   "metadata": {},
   "outputs": [],
   "source": [
    "len(randomized_df)"
   ]
  },
  {
   "cell_type": "code",
   "execution_count": null,
   "id": "25",
   "metadata": {},
   "outputs": [],
   "source": [
    "randomized_df[['sid', 'assignment', 'subject_identifier', 'last_visit_code', 'last_appt_datetime', 'site_id', 'gender', 'age_in_years', 'weight_bin', 'date_generated']]"
   ]
  },
  {
   "cell_type": "code",
   "id": "26",
   "metadata": {
    "ExecuteTime": {
     "end_time": "2025-10-02T01:59:23.715834Z",
     "start_time": "2025-10-02T01:59:23.652059Z"
    }
   },
   "source": [
    "# for tests\n",
    "# method 2\n",
    "stratified_sample = df.groupby(\n",
    "    ['site_id', 'assignment', 'gender', 'weight_bin', 'age_in_years'],\n",
    "    group_keys=False,\n",
    "    observed=True\n",
    ").sample(\n",
    "    n=1,\n",
    "    random_state=111\n",
    ")\n",
    "# randomize the stratified sample by site\n",
    "randomized_df = stratified_sample.groupby(\n",
    "    ['site_id'],\n",
    "    group_keys=False,\n",
    "    observed=True\n",
    ").sample(n=6, random_state=222).reset_index()\n",
    "\n",
    "# add sid column, ...\n",
    "randomized_df[\"sid\"] = randomized_df.index + 42000\n",
    "randomized_df[\"date_generated\"] = pd.Timestamp.utcnow()\n",
    "randomized_df['report_datetime'] = randomized_df[\n",
    "    'report_datetime'].dt.tz_localize('UTC')\n",
    "randomized_df = randomized_df.rename(columns={\"visit_code\": \"last_visit_code\",\n",
    "                                              \"report_datetime\": \"last_appt_datetime\"})\n",
    "dte_string = timezone.now().strftime('%Y%m%d%H%M%S')\n",
    "randomized_df[\n",
    "    ['sid', 'subject_identifier', 'last_visit_code', 'last_appt_datetime', 'site_id',\n",
    "     'gender', 'age_in_years', 'weight_bin',\n",
    "     'date_generated']].to_csv(analysis_folder / f\"nanda_test_list_{dte_string}.csv\", index=False)"
   ],
   "outputs": [],
   "execution_count": 156
  },
  {
   "metadata": {},
   "cell_type": "code",
   "outputs": [],
   "execution_count": null,
   "source": "",
   "id": "3751ff60d7b21d0f"
  }
 ],
 "metadata": {
  "kernelspec": {
   "display_name": "Python 3",
   "language": "python",
   "name": "python3"
  },
  "language_info": {
   "codemirror_mode": {
    "name": "ipython",
    "version": 2
   },
   "file_extension": ".py",
   "mimetype": "text/x-python",
   "name": "python",
   "nbconvert_exporter": "python",
   "pygments_lexer": "ipython2",
   "version": "2.7.6"
  }
 },
 "nbformat": 4,
 "nbformat_minor": 5
}
