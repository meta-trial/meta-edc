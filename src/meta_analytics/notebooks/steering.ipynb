{
 "cells": [
  {
   "cell_type": "code",
   "execution_count": null,
   "id": "0",
   "metadata": {},
   "outputs": [],
   "source": []
  },
  {
   "cell_type": "markdown",
   "id": "1",
   "metadata": {},
   "source": [
    "incidence of the endpoints (dm)\n",
    "1st year (0-1)\n",
    "2nd year (1-2)\n",
    "\n",
    "markers\n",
    "- overall (met endpoint)\n",
    "- hba1c (after baseline w/ hba1c >6.5)\n",
    "- fbc\n",
    "- ogtt\n",
    "\n",
    "other conditions\n",
    "- numbers w/ SAE\n",
    "- types of SAEs\n",
    "- SAE's not reported at baseline\n",
    "- "
   ]
  },
  {
   "cell_type": "markdown",
   "id": "2",
   "metadata": {},
   "source": []
  }
 ],
 "metadata": {
  "kernelspec": {
   "display_name": "Python 3",
   "language": "python",
   "name": "python3"
  },
  "language_info": {
   "codemirror_mode": {
    "name": "ipython",
    "version": 2
   },
   "file_extension": ".py",
   "mimetype": "text/x-python",
   "name": "python",
   "nbconvert_exporter": "python",
   "pygments_lexer": "ipython2",
   "version": "2.7.6"
  }
 },
 "nbformat": 4,
 "nbformat_minor": 5
}
