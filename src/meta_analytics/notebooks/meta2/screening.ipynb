{
 "cells": [
  {
   "cell_type": "code",
   "execution_count": null,
   "id": "0",
   "metadata": {},
   "outputs": [],
   "source": [
    "%%capture\n",
    "from remote_read_sql import get_db_connection\n",
    "from pathlib import Path\n",
    "import pandas as pd\n",
    "from scipy import stats\n",
    "pd.set_option(\"future.no_silent_downcasting\", True)"
   ]
  },
  {
   "cell_type": "code",
   "execution_count": null,
   "id": "1",
   "metadata": {},
   "outputs": [],
   "source": [
    "# change as needed\n",
    "my_cnf_path = Path(\"~/.my.cnf\")\n",
    "my_cnf_connection_name = \"client\"\n",
    "data_folder = Path(\"~/Library/CloudStorage/OneDrive-UniversityCollegeLondon/Documents - igh.respond-africa/META2-data/\").expanduser()"
   ]
  },
  {
   "cell_type": "code",
   "execution_count": null,
   "id": "2",
   "metadata": {},
   "outputs": [],
   "source": [
    "db_conn_opts = dict(my_cnf_path=my_cnf_path, connection_name=my_cnf_connection_name, db_name=\"meta2_production\", local_bind_port=3306)"
   ]
  },
  {
   "cell_type": "code",
   "execution_count": null,
   "id": "3",
   "metadata": {},
   "outputs": [],
   "source": [
    "# sql statements\n",
    "sql_screen = \"select * from meta_screening_subjectscreening\""
   ]
  },
  {
   "cell_type": "code",
   "execution_count": null,
   "id": "4",
   "metadata": {},
   "outputs": [],
   "source": [
    "# read in table data\n",
    "with get_db_connection(**db_conn_opts) as db_conn:\n",
    "    df_screen = pd.read_sql(sql_screen, con=db_conn)\n"
   ]
  },
  {
   "cell_type": "code",
   "execution_count": null,
   "id": "5",
   "metadata": {},
   "outputs": [],
   "source": [
    "df_screen[\"selection_method\"] = df_screen[\"selection_method\"].replace('purposively_selected', 'purposeful')\n",
    "df_screen[\"selection_method\"] = df_screen[\"selection_method\"].replace('random_sampling', 'random')\n",
    "cat_type = pd.CategoricalDtype(categories=[\"purposeful\", \"random\"], ordered=True)\n",
    "df_screen[\"selection_method\"] = df_screen[\"selection_method\"].astype(cat_type)\n",
    "df_screen.selection_method.value_counts()\n"
   ]
  },
  {
   "cell_type": "code",
   "execution_count": null,
   "id": "6",
   "metadata": {},
   "outputs": [],
   "source": [
    "cols = df_screen.select_dtypes([\"int64\", \"float64\"]).columns\n",
    "print(cols)"
   ]
  },
  {
   "cell_type": "code",
   "execution_count": null,
   "id": "7",
   "metadata": {},
   "outputs": [],
   "source": [
    "cols = ['sys_blood_pressure', 'dia_blood_pressure', 'age_in_years', 'eligible',\n",
    "       'consented', 'calculated_bmi_value', 'calculated_egfr_value',\n",
    "       'converted_creatinine_value', 'converted_ogtt_value', 'weight',\n",
    "       'height', 'hba1c_value', 'creatinine_value', 'ifg_value', 'ogtt_value',\n",
    "       'waist_circumference', 'converted_ifg_value', 'refused']"
   ]
  },
  {
   "cell_type": "code",
   "execution_count": null,
   "id": "8",
   "metadata": {},
   "outputs": [],
   "source": [
    "interesting_cols = []\n",
    "result_text = []\n",
    "for col in cols:\n",
    "    purposeful = df_screen[df_screen['selection_method'] == 'purposeful'][col].dropna()\n",
    "    random = df_screen[df_screen['selection_method'] == 'random'][col].dropna()\n",
    "    ttest_result = stats.ttest_ind(purposeful, random, equal_var=False)\n",
    "    result_text.append(\n",
    "        f\"{col}\\n\"\n",
    "        f\"---------------------------------\\n\"\n",
    "        f\"All: {df_screen[col].count()}\\n\"\n",
    "        f\"{df_screen[col].describe()}\\n\\n\"\n",
    "        f\"Purposeful: {purposeful.count()}\\n\"\n",
    "        f\"{purposeful.describe()}\\n\\n\"\n",
    "        f\"Random: {random.count()}\\n\"\n",
    "        f\"{random.describe()}\\n\\n\"\n",
    "        f\"Mean Purposeful: {purposeful.mean():.2f}\\n\"\n",
    "        f\"Mean Random:     {random.mean():.2f}\\n\"\n",
    "        f\"T-test P-value:  {ttest_result.pvalue:.4f}\\n\"\n",
    "    )\n",
    "    if ttest_result.pvalue<=0.05:\n",
    "        interesting_cols.append(f\"{col}:{ttest_result.pvalue:.4f}\")\n",
    "\n",
    "print(\"\\n\\n\".join(result_text))"
   ]
  },
  {
   "cell_type": "code",
   "execution_count": null,
   "id": "9",
   "metadata": {},
   "outputs": [],
   "source": []
  },
  {
   "cell_type": "code",
   "execution_count": null,
   "id": "10",
   "metadata": {},
   "outputs": [],
   "source": [
    "cat_cols = [\"gender\", \"unsuitable_for_study\", \"art_six_months\", \"on_rx_stable\", \"pregnant\", 'congestive_heart_failure', 'liver_disease', 'alcoholism', 'acute_metabolic_acidosis', 'renal_function_condition', 'tissue_hypoxia_condition', 'acute_condition', 'metformin_sensitivity','has_dm', 'on_dm_medication', 'severe_htn']"
   ]
  },
  {
   "cell_type": "code",
   "execution_count": null,
   "id": "11",
   "metadata": {},
   "outputs": [],
   "source": [
    "result_cat_text = []\n",
    "for col in cat_cols:\n",
    "    crosstab_col = pd.crosstab(df_screen['selection_method'], df_screen[col])\n",
    "    try:\n",
    "        chi2_col, p_col, _, _ = stats.chi2_contingency(crosstab_col)\n",
    "    except ValueError:\n",
    "        print(f\"Skipping {col}\")\n",
    "    else:\n",
    "        result_cat_text.append(\n",
    "            f\"---------------------------------\\n\"\n",
    "            f\"{col}\\n\"\n",
    "            f\"Chi2 P-value:  {p_col:.4f}\\n\"\n",
    "        )\n",
    "        if p_col<=0.05:\n",
    "            interesting_cols.append(f\"{col}:{p_col:.4f}\")\n",
    "\n",
    "print(\"\\n\\n\".join(result_cat_text))"
   ]
  },
  {
   "cell_type": "code",
   "execution_count": null,
   "id": "12",
   "metadata": {},
   "outputs": [],
   "source": [
    "print(interesting_cols)"
   ]
  },
  {
   "cell_type": "code",
   "execution_count": null,
   "id": "13",
   "metadata": {},
   "outputs": [],
   "source": [
    "[\n",
    "    'calculated_bmi_value:1.1014125530703846e-07',\n",
    "    'converted_ogtt_value:0.014267344922641038',\n",
    "    'weight:6.570385603951388e-10',\n",
    "    'height:0.010089513582398957',\n",
    "    'creatinine_value:1.4779039902876427e-08',\n",
    "    'ifg_value:2.2597113620615133e-14',\n",
    "    'ogtt_value:0.0021018558850009745',\n",
    "    'waist_circumference:8.083437777983912e-11',\n",
    "    'converted_ifg_value:0.030812252089487797']"
   ]
  },
  {
   "cell_type": "code",
   "execution_count": null,
   "id": "14",
   "metadata": {},
   "outputs": [],
   "source": []
  }
 ],
 "metadata": {
  "kernelspec": {
   "display_name": "Python 3",
   "language": "python",
   "name": "python3"
  },
  "language_info": {
   "codemirror_mode": {
    "name": "ipython",
    "version": 2
   },
   "file_extension": ".py",
   "mimetype": "text/x-python",
   "name": "python",
   "nbconvert_exporter": "python",
   "pygments_lexer": "ipython2",
   "version": "2.7.6"
  }
 },
 "nbformat": 4,
 "nbformat_minor": 5
}
