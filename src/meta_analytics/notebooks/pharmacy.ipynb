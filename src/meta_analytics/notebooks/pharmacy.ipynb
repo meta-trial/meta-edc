{
 "cells": [
  {
   "cell_type": "code",
   "execution_count": 216,
   "id": "0",
   "metadata": {
    "ExecuteTime": {
     "end_time": "2025-08-13T12:52:40.757076Z",
     "start_time": "2025-08-13T12:52:40.699659Z"
    }
   },
   "outputs": [],
   "source": [
    "%%capture\n",
    "# uv sync --group develop --group notebook\n",
    "\n",
    "import os\n",
    "from pathlib import Path\n",
    "\n",
    "import numpy as np\n",
    "import pandas as pd\n",
    "from dj_notebook import activate\n",
    "\n",
    "env_file = os.environ[\"META_ENV\"]\n",
    "reports_folder = Path(os.environ[\"META_REPORTS_FOLDER\"])\n",
    "analysis_folder = Path(os.environ[\"META_ANALYSIS_FOLDER\"])\n",
    "pharmacy_folder = Path(os.environ[\"META_PHARMACY_FOLDER\"])\n",
    "plus = activate(dotenv_file=env_file)"
   ]
  },
  {
   "cell_type": "code",
   "execution_count": 217,
   "id": "2",
   "metadata": {
    "ExecuteTime": {
     "end_time": "2025-08-13T12:52:40.765899Z",
     "start_time": "2025-08-13T12:52:40.762499Z"
    }
   },
   "outputs": [],
   "source": [
    "from datetime import datetime\n",
    "\n",
    "from django.apps import apps as django_apps\n",
    "from django.db.models import Count\n",
    "from django_pandas.io import read_frame\n",
    "from edc_appointment.analytics import get_appointment_df\n",
    "from edc_appointment.constants import NEW_APPT\n",
    "from edc_pdutils.dataframes.get_subject_visit import convert_visit_code_to_float\n",
    "from edc_pharmacy.analytics import get_next_scheduled_visit_for_subjects_df\n",
    "from edc_pharmacy.analytics.dataframes import no_stock_for_subjects_df\n",
    "from edc_pharmacy.models import (\n",
    "    Allocation,\n",
    "    Container,\n",
    "    Lot,\n",
    "    OrderItem,\n",
    "    ReceiveItem,\n",
    "    Stock,\n",
    "    StockRequest,\n",
    ")\n",
    "from edc_registration.models import RegisteredSubject\n",
    "from edc_visit_schedule.models import SubjectScheduleHistory\n",
    "from edc_visit_schedule.site_visit_schedules import site_visit_schedules\n",
    "from great_tables import GT, html, loc, style\n",
    "from PIL import Image\n",
    "\n",
    "from meta_rando.models import RandomizationList\n"
   ]
  },
  {
   "cell_type": "code",
   "execution_count": 218,
   "id": "3",
   "metadata": {
    "ExecuteTime": {
     "end_time": "2025-08-13T12:52:45.436998Z",
     "start_time": "2025-08-13T12:52:40.773237Z"
    }
   },
   "outputs": [],
   "source": [
    "from edc_model_to_dataframe import read_frame_edc\n",
    "\n",
    "from meta_subject.models import FollowupExamination\n",
    "\n",
    "df = read_frame_edc(FollowupExamination.objects.all(), drop_sys_columns=True, drop_action_item_columns=True)\n",
    "df = df.replace(\"none\", pd.NA)\n",
    "df = df.replace(\"none\", pd.NA)\n",
    "df = df.fillna(pd.NA)\n",
    "convert_visit_code_to_float(df)"
   ]
  },
  {
   "cell_type": "code",
   "execution_count": 219,
   "id": "d6d7eaca82c117c1",
   "metadata": {
    "ExecuteTime": {
     "end_time": "2025-08-13T12:52:45.466735Z",
     "start_time": "2025-08-13T12:52:45.465063Z"
    }
   },
   "outputs": [],
   "source": [
    "start_from_appt_date = datetime(2025,8,10)\n",
    "last_appt_date = datetime(2026,5,1)\n"
   ]
  },
  {
   "cell_type": "code",
   "execution_count": 220,
   "id": "4",
   "metadata": {
    "ExecuteTime": {
     "end_time": "2025-08-13T12:52:45.471905Z",
     "start_time": "2025-08-13T12:52:45.470237Z"
    }
   },
   "outputs": [],
   "source": [
    "# from edc_analytics.stata import get_stata_labels_from_model\n",
    "#\n",
    "# df = df[[\"subject_identifier\", \"subject_visit_id\", \"report_datetime\", \"visit_code\", \"site_id\", \"site_name\", \"visit_reason\", \"symptoms\",\"symptoms_detail\", \"symptoms_sought_care\", \"symptoms_g3\", \"symptoms_g4\", \"comment\"]].copy().reset_index(drop=True)\n",
    "#\n",
    "# df = df.astype(\n",
    "#     {col: \"Float64\" for col in df.select_dtypes(include=[\"float\", \"float64\"]).columns}\n",
    "# )\n",
    "# df_meds = df.astype(\n",
    "#     {col: \"Int64\" for col in df.select_dtypes(include=[\"int\", \"int64\"]).columns}\n",
    "# )\n",
    "# df = df.astype(\n",
    "#     {\n",
    "#         col: \"datetime64[ns]\"\n",
    "#         for col in df.select_dtypes(include=[\"datetime\", \"datetime64\"]).columns\n",
    "#     }\n",
    "# )\n",
    "# df = df.astype(\n",
    "#     {\n",
    "#         col: str\n",
    "#         for col in df.select_dtypes(include=[\"object\"]).columns\n",
    "#     }\n",
    "# )\n",
    "# df = df.fillna(pd.NA)\n",
    "#\n",
    "# variable_labels = {}\n",
    "# variable_labels.update(**get_stata_labels_from_model(df, model=\"meta_subject.followupexamination\", suffix=None))\n",
    "#\n",
    "# df.to_stata(\n",
    "#     path=analysis_folder / \"followupexamination.dta\",\n",
    "#     variable_labels=variable_labels,\n",
    "#     version=118,\n",
    "#     write_index=False,\n",
    "# )"
   ]
  },
  {
   "cell_type": "code",
   "execution_count": 221,
   "id": "5",
   "metadata": {
    "ExecuteTime": {
     "end_time": "2025-08-13T12:52:45.477037Z",
     "start_time": "2025-08-13T12:52:45.475650Z"
    }
   },
   "outputs": [],
   "source": [
    "# df"
   ]
  },
  {
   "cell_type": "code",
   "execution_count": 222,
   "id": "6",
   "metadata": {
    "ExecuteTime": {
     "end_time": "2025-08-13T12:52:45.483300Z",
     "start_time": "2025-08-13T12:52:45.480627Z"
    }
   },
   "outputs": [],
   "source": [
    "\n",
    "def get_great_table(df:pd.DataFrame, title:str, footnote:str|None=None):\n",
    "    return (GT(df)\n",
    "        .tab_header(title=html(title))\n",
    "        .cols_align(align=\"left\", columns=[0])\n",
    "        .cols_align(align=\"right\", columns=list(range(1, len(df.columns))))\n",
    "        .opt_stylize(style=5)\n",
    "        .opt_row_striping(row_striping=False)\n",
    "        .opt_vertical_padding(scale=1.2)\n",
    "        .opt_horizontal_padding(scale=1.0)\n",
    "        .tab_options(\n",
    "            stub_background_color=\"white\",\n",
    "            row_group_border_bottom_style=\"hidden\",\n",
    "            row_group_padding=0.5,\n",
    "            row_group_background_color=\"white\",\n",
    "            table_background_color=\"white\",\n",
    "            table_font_size=12,\n",
    "        )\n",
    "        .tab_style(\n",
    "            style=[style.fill(color=\"white\"), style.text(color=\"black\")],\n",
    "            locations=loc.body(columns=list(range(len(df.columns))), rows=list(range(0, len(df)))),\n",
    "        )\n",
    "        .tab_style(\n",
    "            style=[style.fill(color=\"lightgrey\"), style.text(color=\"black\")],\n",
    "            locations=loc.body(columns=list(range(len(df.columns))), rows=[len(df)-1]),\n",
    "        )\n",
    "        .tab_source_note(source_note=html(footnote or \"\"))\n",
    "        .tab_style(\n",
    "            style=style.text(color=\"black\", size=\"small\"),\n",
    "            locations=loc.footer(),\n",
    "        )\n",
    "\n",
    "\n",
    "    )\n"
   ]
  },
  {
   "cell_type": "code",
   "execution_count": null,
   "id": "7",
   "metadata": {
    "ExecuteTime": {
     "end_time": "2025-08-13T12:52:45.487515Z",
     "start_time": "2025-08-13T12:52:45.486379Z"
    }
   },
   "outputs": [],
   "source": []
  },
  {
   "cell_type": "code",
   "execution_count": 223,
   "id": "8",
   "metadata": {
    "ExecuteTime": {
     "end_time": "2025-08-13T12:52:50.827895Z",
     "start_time": "2025-08-13T12:52:45.489783Z"
    }
   },
   "outputs": [],
   "source": [
    "# get rando\n",
    "df_rando = read_frame(RandomizationList.objects.values(\"subject_identifier\", \"assignment\").filter(subject_identifier__isnull=False))"
   ]
  },
  {
   "cell_type": "code",
   "execution_count": 224,
   "id": "9",
   "metadata": {
    "ExecuteTime": {
     "end_time": "2025-08-13T12:52:51.486339Z",
     "start_time": "2025-08-13T12:52:50.855732Z"
    }
   },
   "outputs": [
    {
     "name": "stdout",
     "output_type": "stream",
     "text": [
      "2871 appointments after filtering\n"
     ]
    }
   ],
   "source": [
    "# get appointments\n",
    "df_appt = get_appointment_df()\n",
    "print(f\"{len(df_appt[(df_appt.appt_status==NEW_APPT) & (df_appt.appt_datetime >= start_from_appt_date) & (df_appt.appt_datetime < last_appt_date) & (df_appt.visit_code!=1480.0)])} appointments after filtering\")"
   ]
  },
  {
   "cell_type": "code",
   "execution_count": 225,
   "id": "10",
   "metadata": {
    "ExecuteTime": {
     "end_time": "2025-08-13T12:52:51.504509Z",
     "start_time": "2025-08-13T12:52:51.492909Z"
    }
   },
   "outputs": [
    {
     "name": "stdout",
     "output_type": "stream",
     "text": [
      "1417 subjects currently onstudy\n"
     ]
    }
   ],
   "source": [
    "# create a dataframe of subjects still on the 'schedule' schedule\n",
    "# use SubjectScheduleHistory where offschedule_datetime is null\n",
    "df_subject_schedule = read_frame(SubjectScheduleHistory.objects.values(\"subject_identifier\", \"visit_schedule_name\", \"schedule_name\", \"onschedule_datetime\", \"offschedule_datetime\").filter(offschedule_datetime__isnull=True, schedule_name=\"schedule\"))\n",
    "\n",
    "print(f\"{len(df_subject_schedule)} subjects currently onstudy\")"
   ]
  },
  {
   "cell_type": "code",
   "execution_count": 226,
   "id": "11",
   "metadata": {
    "ExecuteTime": {
     "end_time": "2025-08-13T12:52:51.532537Z",
     "start_time": "2025-08-13T12:52:51.515085Z"
    }
   },
   "outputs": [
    {
     "name": "stdout",
     "output_type": "stream",
     "text": [
      "4476 new appointments for subjects on study\n"
     ]
    }
   ],
   "source": [
    "# for now merge with the unfiltered df_appt\n",
    "df_main = df_subject_schedule.merge(\n",
    "    df_appt[[\"appointment_id\", \"subject_identifier\", \"visit_code\", \"visit_code_str\", \"appt_datetime\", \"baseline_datetime\", \"endline_visit_code\", \"visit_code_sequence\", \"appt_status\"]],\n",
    "    on=\"subject_identifier\",\n",
    "    how=\"left\")\n",
    "# exclude unscheduled,\n",
    "df_main = df_main[\n",
    "    (df_main.visit_code_sequence==0) &\n",
    "    (df_main.visit_schedule_name==\"visit_schedule\") &\n",
    "    (df_main.schedule_name==\"schedule\") &\n",
    "    (df_main.visit_code<2000.0) &\n",
    "    (df_main.appt_status==NEW_APPT)\n",
    "].copy()\n",
    "print(f\"{len(df_main)} new appointments for subjects on study\")\n"
   ]
  },
  {
   "cell_type": "code",
   "execution_count": 227,
   "id": "12",
   "metadata": {
    "ExecuteTime": {
     "end_time": "2025-08-13T12:52:51.560081Z",
     "start_time": "2025-08-13T12:52:51.554810Z"
    }
   },
   "outputs": [
    {
     "data": {
      "text/plain": [
       "np.int64(2857)"
      ]
     },
     "execution_count": 227,
     "metadata": {},
     "output_type": "execute_result"
    }
   ],
   "source": [
    "# number of appointments before extended all subjects out to 48m\n",
    "df_grouped = df_main[\n",
    "    (df_main.appt_datetime >= start_from_appt_date) &\n",
    "    (df_main.appt_datetime < last_appt_date) &\n",
    "    (df_main.visit_code!=1480.0)\n",
    "].visit_code.value_counts().reset_index(name=\"appointments\").sort_values(by=\"visit_code\", ascending=True).reset_index(drop=True)\n",
    "df_grouped[\"cumsum\"] = df_grouped.appointments.cumsum()\n",
    "df_grouped[\"cumsum\"].max()\n"
   ]
  },
  {
   "cell_type": "code",
   "execution_count": 228,
   "id": "13",
   "metadata": {
    "ExecuteTime": {
     "end_time": "2025-08-13T12:52:51.630695Z",
     "start_time": "2025-08-13T12:52:51.619438Z"
    }
   },
   "outputs": [
    {
     "data": {
      "text/html": [
       "<div>\n",
       "<style scoped>\n",
       "    .dataframe tbody tr th:only-of-type {\n",
       "        vertical-align: middle;\n",
       "    }\n",
       "\n",
       "    .dataframe tbody tr th {\n",
       "        vertical-align: top;\n",
       "    }\n",
       "\n",
       "    .dataframe thead th {\n",
       "        text-align: right;\n",
       "    }\n",
       "</style>\n",
       "<table border=\"1\" class=\"dataframe\">\n",
       "  <thead>\n",
       "    <tr style=\"text-align: right;\">\n",
       "      <th></th>\n",
       "      <th>subject_identifier</th>\n",
       "      <th>visit_schedule_name</th>\n",
       "      <th>schedule_name</th>\n",
       "      <th>onschedule_datetime</th>\n",
       "      <th>offschedule_datetime</th>\n",
       "      <th>appointment_id</th>\n",
       "      <th>visit_code</th>\n",
       "      <th>visit_code_str</th>\n",
       "      <th>appt_datetime</th>\n",
       "      <th>baseline_datetime</th>\n",
       "      <th>endline_visit_code</th>\n",
       "      <th>visit_code_sequence</th>\n",
       "      <th>appt_status</th>\n",
       "    </tr>\n",
       "  </thead>\n",
       "  <tbody>\n",
       "    <tr>\n",
       "      <th>2</th>\n",
       "      <td>105-30-0301-6</td>\n",
       "      <td>visit_schedule</td>\n",
       "      <td>schedule</td>\n",
       "      <td>2023-06-16 07:40:17+00:00</td>\n",
       "      <td>None</td>\n",
       "      <td>1ccb98f4-14fe-4dfd-93c2-1b1bc8fcca52</td>\n",
       "      <td>1360.0</td>\n",
       "      <td>1360</td>\n",
       "      <td>2026-06-16</td>\n",
       "      <td>2023-06-16</td>\n",
       "      <td>1240.0</td>\n",
       "      <td>0.0</td>\n",
       "      <td>new</td>\n",
       "    </tr>\n",
       "    <tr>\n",
       "      <th>7</th>\n",
       "      <td>105-30-0301-6</td>\n",
       "      <td>visit_schedule</td>\n",
       "      <td>schedule</td>\n",
       "      <td>2023-06-16 07:40:17+00:00</td>\n",
       "      <td>None</td>\n",
       "      <td>6d5f7835-296c-4705-8224-bc13c54bc90b</td>\n",
       "      <td>1270.0</td>\n",
       "      <td>1270</td>\n",
       "      <td>2025-09-16</td>\n",
       "      <td>2023-06-16</td>\n",
       "      <td>1240.0</td>\n",
       "      <td>0.0</td>\n",
       "      <td>new</td>\n",
       "    </tr>\n",
       "    <tr>\n",
       "      <th>11</th>\n",
       "      <td>105-30-0301-6</td>\n",
       "      <td>visit_schedule</td>\n",
       "      <td>schedule</td>\n",
       "      <td>2023-06-16 07:40:17+00:00</td>\n",
       "      <td>None</td>\n",
       "      <td>b3a63e3b-137f-48df-8f10-9632cc6dc2bc</td>\n",
       "      <td>1300.0</td>\n",
       "      <td>1300</td>\n",
       "      <td>2025-12-16</td>\n",
       "      <td>2023-06-16</td>\n",
       "      <td>1240.0</td>\n",
       "      <td>0.0</td>\n",
       "      <td>new</td>\n",
       "    </tr>\n",
       "    <tr>\n",
       "      <th>15</th>\n",
       "      <td>105-30-0301-6</td>\n",
       "      <td>visit_schedule</td>\n",
       "      <td>schedule</td>\n",
       "      <td>2023-06-16 07:40:17+00:00</td>\n",
       "      <td>None</td>\n",
       "      <td>ee86db0b-1cf4-407a-a34d-9ac46849c48e</td>\n",
       "      <td>1330.0</td>\n",
       "      <td>1330</td>\n",
       "      <td>2026-03-16</td>\n",
       "      <td>2023-06-16</td>\n",
       "      <td>1240.0</td>\n",
       "      <td>0.0</td>\n",
       "      <td>new</td>\n",
       "    </tr>\n",
       "    <tr>\n",
       "      <th>17</th>\n",
       "      <td>105-40-0027-6</td>\n",
       "      <td>visit_schedule</td>\n",
       "      <td>schedule</td>\n",
       "      <td>2021-12-10 08:03:20+00:00</td>\n",
       "      <td>None</td>\n",
       "      <td>1cea6f89-4ecd-4440-9a07-d5ec21b12c96</td>\n",
       "      <td>1450.0</td>\n",
       "      <td>1450</td>\n",
       "      <td>2025-09-10</td>\n",
       "      <td>2021-12-10</td>\n",
       "      <td>1420.0</td>\n",
       "      <td>0.0</td>\n",
       "      <td>new</td>\n",
       "    </tr>\n",
       "    <tr>\n",
       "      <th>...</th>\n",
       "      <td>...</td>\n",
       "      <td>...</td>\n",
       "      <td>...</td>\n",
       "      <td>...</td>\n",
       "      <td>...</td>\n",
       "      <td>...</td>\n",
       "      <td>...</td>\n",
       "      <td>...</td>\n",
       "      <td>...</td>\n",
       "      <td>...</td>\n",
       "      <td>...</td>\n",
       "      <td>...</td>\n",
       "      <td>...</td>\n",
       "    </tr>\n",
       "    <tr>\n",
       "      <th>23145</th>\n",
       "      <td>105-20-0293-6</td>\n",
       "      <td>visit_schedule</td>\n",
       "      <td>schedule</td>\n",
       "      <td>2023-01-03 07:45:03+00:00</td>\n",
       "      <td>None</td>\n",
       "      <td>bce85273-08c5-48a9-b4c7-f9ff21185a77</td>\n",
       "      <td>1150.0</td>\n",
       "      <td>1150</td>\n",
       "      <td>2024-04-03</td>\n",
       "      <td>2023-01-03</td>\n",
       "      <td>1060.0</td>\n",
       "      <td>0.0</td>\n",
       "      <td>new</td>\n",
       "    </tr>\n",
       "    <tr>\n",
       "      <th>23146</th>\n",
       "      <td>105-20-0293-6</td>\n",
       "      <td>visit_schedule</td>\n",
       "      <td>schedule</td>\n",
       "      <td>2023-01-03 07:45:03+00:00</td>\n",
       "      <td>None</td>\n",
       "      <td>c1d868d6-29df-4fbb-bd8e-8686cf02664f</td>\n",
       "      <td>1300.0</td>\n",
       "      <td>1300</td>\n",
       "      <td>2025-07-03</td>\n",
       "      <td>2023-01-03</td>\n",
       "      <td>1060.0</td>\n",
       "      <td>0.0</td>\n",
       "      <td>new</td>\n",
       "    </tr>\n",
       "    <tr>\n",
       "      <th>23147</th>\n",
       "      <td>105-20-0293-6</td>\n",
       "      <td>visit_schedule</td>\n",
       "      <td>schedule</td>\n",
       "      <td>2023-01-03 07:45:03+00:00</td>\n",
       "      <td>None</td>\n",
       "      <td>c2c55547-f56c-4617-9dfe-d99a64d8cca6</td>\n",
       "      <td>1210.0</td>\n",
       "      <td>1210</td>\n",
       "      <td>2024-10-03</td>\n",
       "      <td>2023-01-03</td>\n",
       "      <td>1060.0</td>\n",
       "      <td>0.0</td>\n",
       "      <td>new</td>\n",
       "    </tr>\n",
       "    <tr>\n",
       "      <th>23149</th>\n",
       "      <td>105-20-0293-6</td>\n",
       "      <td>visit_schedule</td>\n",
       "      <td>schedule</td>\n",
       "      <td>2023-01-03 07:45:03+00:00</td>\n",
       "      <td>None</td>\n",
       "      <td>dfc4ed80-1735-48a6-b1dc-f3956c9b2579</td>\n",
       "      <td>1240.0</td>\n",
       "      <td>1240</td>\n",
       "      <td>2025-01-03</td>\n",
       "      <td>2023-01-03</td>\n",
       "      <td>1060.0</td>\n",
       "      <td>0.0</td>\n",
       "      <td>new</td>\n",
       "    </tr>\n",
       "    <tr>\n",
       "      <th>23150</th>\n",
       "      <td>105-20-0293-6</td>\n",
       "      <td>visit_schedule</td>\n",
       "      <td>schedule</td>\n",
       "      <td>2023-01-03 07:45:03+00:00</td>\n",
       "      <td>None</td>\n",
       "      <td>e7afe611-0f2b-4b27-87f1-5d16c3173c70</td>\n",
       "      <td>1180.0</td>\n",
       "      <td>1180</td>\n",
       "      <td>2024-07-03</td>\n",
       "      <td>2023-01-03</td>\n",
       "      <td>1060.0</td>\n",
       "      <td>0.0</td>\n",
       "      <td>new</td>\n",
       "    </tr>\n",
       "  </tbody>\n",
       "</table>\n",
       "<p>4476 rows × 13 columns</p>\n",
       "</div>"
      ],
      "text/plain": [
       "      subject_identifier visit_schedule_name schedule_name  \\\n",
       "2          105-30-0301-6      visit_schedule      schedule   \n",
       "7          105-30-0301-6      visit_schedule      schedule   \n",
       "11         105-30-0301-6      visit_schedule      schedule   \n",
       "15         105-30-0301-6      visit_schedule      schedule   \n",
       "17         105-40-0027-6      visit_schedule      schedule   \n",
       "...                  ...                 ...           ...   \n",
       "23145      105-20-0293-6      visit_schedule      schedule   \n",
       "23146      105-20-0293-6      visit_schedule      schedule   \n",
       "23147      105-20-0293-6      visit_schedule      schedule   \n",
       "23149      105-20-0293-6      visit_schedule      schedule   \n",
       "23150      105-20-0293-6      visit_schedule      schedule   \n",
       "\n",
       "            onschedule_datetime offschedule_datetime  \\\n",
       "2     2023-06-16 07:40:17+00:00                 None   \n",
       "7     2023-06-16 07:40:17+00:00                 None   \n",
       "11    2023-06-16 07:40:17+00:00                 None   \n",
       "15    2023-06-16 07:40:17+00:00                 None   \n",
       "17    2021-12-10 08:03:20+00:00                 None   \n",
       "...                         ...                  ...   \n",
       "23145 2023-01-03 07:45:03+00:00                 None   \n",
       "23146 2023-01-03 07:45:03+00:00                 None   \n",
       "23147 2023-01-03 07:45:03+00:00                 None   \n",
       "23149 2023-01-03 07:45:03+00:00                 None   \n",
       "23150 2023-01-03 07:45:03+00:00                 None   \n",
       "\n",
       "                             appointment_id  visit_code visit_code_str  \\\n",
       "2      1ccb98f4-14fe-4dfd-93c2-1b1bc8fcca52      1360.0           1360   \n",
       "7      6d5f7835-296c-4705-8224-bc13c54bc90b      1270.0           1270   \n",
       "11     b3a63e3b-137f-48df-8f10-9632cc6dc2bc      1300.0           1300   \n",
       "15     ee86db0b-1cf4-407a-a34d-9ac46849c48e      1330.0           1330   \n",
       "17     1cea6f89-4ecd-4440-9a07-d5ec21b12c96      1450.0           1450   \n",
       "...                                     ...         ...            ...   \n",
       "23145  bce85273-08c5-48a9-b4c7-f9ff21185a77      1150.0           1150   \n",
       "23146  c1d868d6-29df-4fbb-bd8e-8686cf02664f      1300.0           1300   \n",
       "23147  c2c55547-f56c-4617-9dfe-d99a64d8cca6      1210.0           1210   \n",
       "23149  dfc4ed80-1735-48a6-b1dc-f3956c9b2579      1240.0           1240   \n",
       "23150  e7afe611-0f2b-4b27-87f1-5d16c3173c70      1180.0           1180   \n",
       "\n",
       "      appt_datetime baseline_datetime  endline_visit_code  \\\n",
       "2        2026-06-16        2023-06-16              1240.0   \n",
       "7        2025-09-16        2023-06-16              1240.0   \n",
       "11       2025-12-16        2023-06-16              1240.0   \n",
       "15       2026-03-16        2023-06-16              1240.0   \n",
       "17       2025-09-10        2021-12-10              1420.0   \n",
       "...             ...               ...                 ...   \n",
       "23145    2024-04-03        2023-01-03              1060.0   \n",
       "23146    2025-07-03        2023-01-03              1060.0   \n",
       "23147    2024-10-03        2023-01-03              1060.0   \n",
       "23149    2025-01-03        2023-01-03              1060.0   \n",
       "23150    2024-07-03        2023-01-03              1060.0   \n",
       "\n",
       "       visit_code_sequence appt_status  \n",
       "2                      0.0         new  \n",
       "7                      0.0         new  \n",
       "11                     0.0         new  \n",
       "15                     0.0         new  \n",
       "17                     0.0         new  \n",
       "...                    ...         ...  \n",
       "23145                  0.0         new  \n",
       "23146                  0.0         new  \n",
       "23147                  0.0         new  \n",
       "23149                  0.0         new  \n",
       "23150                  0.0         new  \n",
       "\n",
       "[4476 rows x 13 columns]"
      ]
     },
     "execution_count": 228,
     "metadata": {},
     "output_type": "execute_result"
    }
   ],
   "source": [
    "df_main"
   ]
  },
  {
   "cell_type": "code",
   "execution_count": 229,
   "id": "14",
   "metadata": {
    "ExecuteTime": {
     "end_time": "2025-08-13T12:52:51.705683Z",
     "start_time": "2025-08-13T12:52:51.680730Z"
    }
   },
   "outputs": [
    {
     "data": {
      "text/html": [
       "<div>\n",
       "<style scoped>\n",
       "    .dataframe tbody tr th:only-of-type {\n",
       "        vertical-align: middle;\n",
       "    }\n",
       "\n",
       "    .dataframe tbody tr th {\n",
       "        vertical-align: top;\n",
       "    }\n",
       "\n",
       "    .dataframe thead th {\n",
       "        text-align: right;\n",
       "    }\n",
       "</style>\n",
       "<table border=\"1\" class=\"dataframe\">\n",
       "  <thead>\n",
       "    <tr style=\"text-align: right;\">\n",
       "      <th></th>\n",
       "      <th>subject_identifier</th>\n",
       "      <th>visit_code</th>\n",
       "      <th>exists</th>\n",
       "      <th>baseline_datetime</th>\n",
       "      <th>appt_datetime</th>\n",
       "      <th>appt_status</th>\n",
       "    </tr>\n",
       "  </thead>\n",
       "  <tbody>\n",
       "    <tr>\n",
       "      <th>0</th>\n",
       "      <td>105-10-0001-4</td>\n",
       "      <td>1005.0</td>\n",
       "      <td>0.0</td>\n",
       "      <td>2021-11-16</td>\n",
       "      <td>NaT</td>\n",
       "      <td>NaN</td>\n",
       "    </tr>\n",
       "    <tr>\n",
       "      <th>1</th>\n",
       "      <td>105-10-0001-4</td>\n",
       "      <td>1010.0</td>\n",
       "      <td>0.0</td>\n",
       "      <td>2021-11-16</td>\n",
       "      <td>NaT</td>\n",
       "      <td>NaN</td>\n",
       "    </tr>\n",
       "    <tr>\n",
       "      <th>2</th>\n",
       "      <td>105-10-0001-4</td>\n",
       "      <td>1030.0</td>\n",
       "      <td>0.0</td>\n",
       "      <td>2021-11-16</td>\n",
       "      <td>NaT</td>\n",
       "      <td>NaN</td>\n",
       "    </tr>\n",
       "    <tr>\n",
       "      <th>3</th>\n",
       "      <td>105-10-0001-4</td>\n",
       "      <td>1060.0</td>\n",
       "      <td>0.0</td>\n",
       "      <td>2021-11-16</td>\n",
       "      <td>NaT</td>\n",
       "      <td>NaN</td>\n",
       "    </tr>\n",
       "    <tr>\n",
       "      <th>4</th>\n",
       "      <td>105-10-0001-4</td>\n",
       "      <td>1090.0</td>\n",
       "      <td>0.0</td>\n",
       "      <td>2021-11-16</td>\n",
       "      <td>NaT</td>\n",
       "      <td>NaN</td>\n",
       "    </tr>\n",
       "    <tr>\n",
       "      <th>...</th>\n",
       "      <td>...</td>\n",
       "      <td>...</td>\n",
       "      <td>...</td>\n",
       "      <td>...</td>\n",
       "      <td>...</td>\n",
       "      <td>...</td>\n",
       "    </tr>\n",
       "    <tr>\n",
       "      <th>24943</th>\n",
       "      <td>105-60-0230-4</td>\n",
       "      <td>1360.0</td>\n",
       "      <td>1.0</td>\n",
       "      <td>2024-01-03</td>\n",
       "      <td>2027-01-04</td>\n",
       "      <td>new</td>\n",
       "    </tr>\n",
       "    <tr>\n",
       "      <th>24944</th>\n",
       "      <td>105-60-0230-4</td>\n",
       "      <td>1390.0</td>\n",
       "      <td>0.0</td>\n",
       "      <td>2024-01-03</td>\n",
       "      <td>NaT</td>\n",
       "      <td>NaN</td>\n",
       "    </tr>\n",
       "    <tr>\n",
       "      <th>24945</th>\n",
       "      <td>105-60-0230-4</td>\n",
       "      <td>1420.0</td>\n",
       "      <td>0.0</td>\n",
       "      <td>2024-01-03</td>\n",
       "      <td>NaT</td>\n",
       "      <td>NaN</td>\n",
       "    </tr>\n",
       "    <tr>\n",
       "      <th>24946</th>\n",
       "      <td>105-60-0230-4</td>\n",
       "      <td>1450.0</td>\n",
       "      <td>0.0</td>\n",
       "      <td>2024-01-03</td>\n",
       "      <td>NaT</td>\n",
       "      <td>NaN</td>\n",
       "    </tr>\n",
       "    <tr>\n",
       "      <th>24947</th>\n",
       "      <td>105-60-0230-4</td>\n",
       "      <td>1480.0</td>\n",
       "      <td>0.0</td>\n",
       "      <td>2024-01-03</td>\n",
       "      <td>NaT</td>\n",
       "      <td>NaN</td>\n",
       "    </tr>\n",
       "  </tbody>\n",
       "</table>\n",
       "<p>24948 rows × 6 columns</p>\n",
       "</div>"
      ],
      "text/plain": [
       "      subject_identifier  visit_code  exists baseline_datetime appt_datetime  \\\n",
       "0          105-10-0001-4      1005.0     0.0        2021-11-16           NaT   \n",
       "1          105-10-0001-4      1010.0     0.0        2021-11-16           NaT   \n",
       "2          105-10-0001-4      1030.0     0.0        2021-11-16           NaT   \n",
       "3          105-10-0001-4      1060.0     0.0        2021-11-16           NaT   \n",
       "4          105-10-0001-4      1090.0     0.0        2021-11-16           NaT   \n",
       "...                  ...         ...     ...               ...           ...   \n",
       "24943      105-60-0230-4      1360.0     1.0        2024-01-03    2027-01-04   \n",
       "24944      105-60-0230-4      1390.0     0.0        2024-01-03           NaT   \n",
       "24945      105-60-0230-4      1420.0     0.0        2024-01-03           NaT   \n",
       "24946      105-60-0230-4      1450.0     0.0        2024-01-03           NaT   \n",
       "24947      105-60-0230-4      1480.0     0.0        2024-01-03           NaT   \n",
       "\n",
       "      appt_status  \n",
       "0             NaN  \n",
       "1             NaN  \n",
       "2             NaN  \n",
       "3             NaN  \n",
       "4             NaN  \n",
       "...           ...  \n",
       "24943         new  \n",
       "24944         NaN  \n",
       "24945         NaN  \n",
       "24946         NaN  \n",
       "24947         NaN  \n",
       "\n",
       "[24948 rows x 6 columns]"
      ]
     },
     "execution_count": 229,
     "metadata": {},
     "output_type": "execute_result"
    }
   ],
   "source": [
    "# now extend everyone to 48 months.\n",
    "# Subjects are in the process of consenting for extended\n",
    "# followup. Assume ALL have done so by filling in all\n",
    "# subject schedules to 48m\n",
    "\n",
    "# pivot\n",
    "df_pivot = df_main[\n",
    "    (df_main.visit_code_sequence==0) &\n",
    "    (df_main.visit_code<2000.0)\n",
    "].pivot_table(index=\"subject_identifier\", columns='visit_code', values='appt_datetime', aggfunc='count')\n",
    "df_pivot.fillna(0, inplace=True)\n",
    "df_pivot.reset_index(inplace=True)\n",
    "df_pivot.rename_axis(\"\", axis=\"columns\", inplace=True)\n",
    "\n",
    "# melt\n",
    "df_pivot = df_pivot.melt(id_vars=\"subject_identifier\", var_name=\"visit_code\", value_name=\"exists\")\n",
    "df_pivot[\"visit_code\"] = df_pivot[\"visit_code\"].astype(float)\n",
    "df_pivot.sort_values([\"subject_identifier\", \"visit_code\"], ascending=True, inplace=True)\n",
    "df_pivot.reset_index(drop=True, inplace=True)\n",
    "\n",
    "# merge in baseline_datetime\n",
    "df_baseline = df_appt[df_appt.visit_code==1000.0][[\"subject_identifier\", \"baseline_datetime\"]]\n",
    "df_pivot = df_pivot.merge(df_baseline, on=[\"subject_identifier\"], how=\"left\")\n",
    "df_pivot.reset_index(drop=True, inplace=True)\n",
    "\n",
    "# merge df_main back in\n",
    "df_pivot = df_pivot.merge(df_main[[\"subject_identifier\", \"visit_code\", \"appt_datetime\", \"appt_status\"]], on=[\"subject_identifier\",\"visit_code\"], how=\"left\")\n",
    "df_pivot"
   ]
  },
  {
   "cell_type": "code",
   "execution_count": 230,
   "id": "5067804ffc019065",
   "metadata": {
    "ExecuteTime": {
     "end_time": "2025-08-13T12:52:51.853061Z",
     "start_time": "2025-08-13T12:52:51.846502Z"
    }
   },
   "outputs": [
    {
     "data": {
      "text/html": [
       "<div>\n",
       "<style scoped>\n",
       "    .dataframe tbody tr th:only-of-type {\n",
       "        vertical-align: middle;\n",
       "    }\n",
       "\n",
       "    .dataframe tbody tr th {\n",
       "        vertical-align: top;\n",
       "    }\n",
       "\n",
       "    .dataframe thead th {\n",
       "        text-align: right;\n",
       "    }\n",
       "</style>\n",
       "<table border=\"1\" class=\"dataframe\">\n",
       "  <thead>\n",
       "    <tr style=\"text-align: right;\">\n",
       "      <th></th>\n",
       "      <th>subject_identifier</th>\n",
       "      <th>visit_code</th>\n",
       "      <th>exists</th>\n",
       "      <th>baseline_datetime</th>\n",
       "      <th>appt_datetime</th>\n",
       "      <th>appt_status</th>\n",
       "    </tr>\n",
       "  </thead>\n",
       "  <tbody>\n",
       "    <tr>\n",
       "      <th>17</th>\n",
       "      <td>105-10-0001-4</td>\n",
       "      <td>1480.0</td>\n",
       "      <td>1.0</td>\n",
       "      <td>2021-11-16</td>\n",
       "      <td>2025-11-17</td>\n",
       "      <td>new</td>\n",
       "    </tr>\n",
       "    <tr>\n",
       "      <th>35</th>\n",
       "      <td>105-10-0004-8</td>\n",
       "      <td>1480.0</td>\n",
       "      <td>1.0</td>\n",
       "      <td>2021-11-30</td>\n",
       "      <td>2025-12-01</td>\n",
       "      <td>new</td>\n",
       "    </tr>\n",
       "    <tr>\n",
       "      <th>53</th>\n",
       "      <td>105-10-0005-5</td>\n",
       "      <td>1480.0</td>\n",
       "      <td>1.0</td>\n",
       "      <td>2021-12-02</td>\n",
       "      <td>2025-12-02</td>\n",
       "      <td>new</td>\n",
       "    </tr>\n",
       "    <tr>\n",
       "      <th>71</th>\n",
       "      <td>105-10-0008-9</td>\n",
       "      <td>1480.0</td>\n",
       "      <td>1.0</td>\n",
       "      <td>2021-12-06</td>\n",
       "      <td>2025-12-08</td>\n",
       "      <td>new</td>\n",
       "    </tr>\n",
       "    <tr>\n",
       "      <th>89</th>\n",
       "      <td>105-10-0010-5</td>\n",
       "      <td>1480.0</td>\n",
       "      <td>1.0</td>\n",
       "      <td>2022-01-05</td>\n",
       "      <td>2026-01-05</td>\n",
       "      <td>new</td>\n",
       "    </tr>\n",
       "    <tr>\n",
       "      <th>...</th>\n",
       "      <td>...</td>\n",
       "      <td>...</td>\n",
       "      <td>...</td>\n",
       "      <td>...</td>\n",
       "      <td>...</td>\n",
       "      <td>...</td>\n",
       "    </tr>\n",
       "    <tr>\n",
       "      <th>24875</th>\n",
       "      <td>105-60-0226-2</td>\n",
       "      <td>1480.0</td>\n",
       "      <td>0.0</td>\n",
       "      <td>2023-11-29</td>\n",
       "      <td>NaT</td>\n",
       "      <td>NaN</td>\n",
       "    </tr>\n",
       "    <tr>\n",
       "      <th>24893</th>\n",
       "      <td>105-60-0227-0</td>\n",
       "      <td>1480.0</td>\n",
       "      <td>0.0</td>\n",
       "      <td>2023-11-30</td>\n",
       "      <td>NaT</td>\n",
       "      <td>NaN</td>\n",
       "    </tr>\n",
       "    <tr>\n",
       "      <th>24911</th>\n",
       "      <td>105-60-0228-8</td>\n",
       "      <td>1480.0</td>\n",
       "      <td>0.0</td>\n",
       "      <td>2023-12-21</td>\n",
       "      <td>NaT</td>\n",
       "      <td>NaN</td>\n",
       "    </tr>\n",
       "    <tr>\n",
       "      <th>24929</th>\n",
       "      <td>105-60-0229-6</td>\n",
       "      <td>1480.0</td>\n",
       "      <td>0.0</td>\n",
       "      <td>2023-12-28</td>\n",
       "      <td>NaT</td>\n",
       "      <td>NaN</td>\n",
       "    </tr>\n",
       "    <tr>\n",
       "      <th>24947</th>\n",
       "      <td>105-60-0230-4</td>\n",
       "      <td>1480.0</td>\n",
       "      <td>0.0</td>\n",
       "      <td>2024-01-03</td>\n",
       "      <td>NaT</td>\n",
       "      <td>NaN</td>\n",
       "    </tr>\n",
       "  </tbody>\n",
       "</table>\n",
       "<p>1386 rows × 6 columns</p>\n",
       "</div>"
      ],
      "text/plain": [
       "      subject_identifier  visit_code  exists baseline_datetime appt_datetime  \\\n",
       "17         105-10-0001-4      1480.0     1.0        2021-11-16    2025-11-17   \n",
       "35         105-10-0004-8      1480.0     1.0        2021-11-30    2025-12-01   \n",
       "53         105-10-0005-5      1480.0     1.0        2021-12-02    2025-12-02   \n",
       "71         105-10-0008-9      1480.0     1.0        2021-12-06    2025-12-08   \n",
       "89         105-10-0010-5      1480.0     1.0        2022-01-05    2026-01-05   \n",
       "...                  ...         ...     ...               ...           ...   \n",
       "24875      105-60-0226-2      1480.0     0.0        2023-11-29           NaT   \n",
       "24893      105-60-0227-0      1480.0     0.0        2023-11-30           NaT   \n",
       "24911      105-60-0228-8      1480.0     0.0        2023-12-21           NaT   \n",
       "24929      105-60-0229-6      1480.0     0.0        2023-12-28           NaT   \n",
       "24947      105-60-0230-4      1480.0     0.0        2024-01-03           NaT   \n",
       "\n",
       "      appt_status  \n",
       "17            new  \n",
       "35            new  \n",
       "53            new  \n",
       "71            new  \n",
       "89            new  \n",
       "...           ...  \n",
       "24875         NaN  \n",
       "24893         NaN  \n",
       "24911         NaN  \n",
       "24929         NaN  \n",
       "24947         NaN  \n",
       "\n",
       "[1386 rows x 6 columns]"
      ]
     },
     "execution_count": 230,
     "metadata": {},
     "output_type": "execute_result"
    }
   ],
   "source": [
    "df_pivot.query('visit_code==1480.0')"
   ]
  },
  {
   "cell_type": "code",
   "execution_count": 231,
   "id": "15",
   "metadata": {
    "ExecuteTime": {
     "end_time": "2025-08-13T12:52:52.238257Z",
     "start_time": "2025-08-13T12:52:52.235002Z"
    }
   },
   "outputs": [],
   "source": [
    "# len(df_pivot[(df_pivot.appt_datetime>=datetime(2025,1,1)) & (df_pivot.visit_code==MONTH48)])/3"
   ]
  },
  {
   "cell_type": "code",
   "execution_count": 232,
   "id": "16",
   "metadata": {
    "ExecuteTime": {
     "end_time": "2025-08-13T12:52:52.307436Z",
     "start_time": "2025-08-13T12:52:52.304873Z"
    }
   },
   "outputs": [],
   "source": [
    "# extend no one!\n",
    "# df_pivot = df_pivot[df_pivot.exists==1].copy()\n",
    "# df_pivot.reset_index(drop=True, inplace=True)\n"
   ]
  },
  {
   "cell_type": "code",
   "execution_count": 233,
   "id": "17",
   "metadata": {
    "ExecuteTime": {
     "end_time": "2025-08-13T12:52:53.554432Z",
     "start_time": "2025-08-13T12:52:52.329892Z"
    }
   },
   "outputs": [
    {
     "name": "stdout",
     "output_type": "stream",
     "text": [
      "24948 appointments\n"
     ]
    }
   ],
   "source": [
    "# add appointments do not have an appt_datetime, so calculate\n",
    "# using the visit schedule relative to baseline_datetime\n",
    "visit_schedule = site_visit_schedules.get_visit_schedule(\"visit_schedule\")\n",
    "schedule = visit_schedule.schedules.get(\"schedule\")\n",
    "mapping = {k: visit.rbase for k,visit in schedule.visits.items()}\n",
    "\n",
    "def estimate_appt_datetime(row):\n",
    "    if pd.isna(row[\"appt_datetime\"]):\n",
    "        row[\"appt_datetime\"] = row[\"baseline_datetime\"] +  mapping.get(str(int(row[\"visit_code\"])))\n",
    "    return row\n",
    "\n",
    "df_pivot = df_pivot.apply(estimate_appt_datetime, axis=1)\n",
    "df_pivot.sort_values(by=[\"subject_identifier\", \"visit_code\"], ascending=True, inplace=True)\n",
    "df_pivot.reset_index(drop=True, inplace=True)\n",
    "\n",
    "# merge in assignment\n",
    "df_pivot = df_pivot.merge(df_rando, on=\"subject_identifier\", how=\"left\")\n",
    "df_pivot.reset_index(drop=True, inplace=True)\n",
    "\n",
    "# flag added appointments as NEW\n",
    "df_pivot.loc[df_pivot.exists==0.0, \"appt_status\"] = NEW_APPT\n",
    "\n",
    "print(f\"{len(df_pivot)} appointments\")"
   ]
  },
  {
   "cell_type": "code",
   "execution_count": 234,
   "id": "18",
   "metadata": {
    "ExecuteTime": {
     "end_time": "2025-08-13T12:52:53.613268Z",
     "start_time": "2025-08-13T12:52:53.605305Z"
    }
   },
   "outputs": [
    {
     "name": "stdout",
     "output_type": "stream",
     "text": [
      "3794 appointments\n"
     ]
    }
   ],
   "source": [
    "# df_subject_appointments is a dataframe of appointments\n",
    "# - only include NEW appointments\n",
    "# - only include appts between today (2025,4,4) and before (2026,3,1).\n",
    "# - exclude the last visit (48m) since no meds are dispensed then.\n",
    "df_subject_appointments = df_pivot[\n",
    "    (df_pivot.appt_status==NEW_APPT) &\n",
    "    (df_pivot.appt_datetime >= start_from_appt_date) &\n",
    "    (df_pivot.appt_datetime < last_appt_date) &\n",
    "    (df_pivot.visit_code!=1480.0)\n",
    "].copy()\n",
    "print(f\"{len(df_subject_appointments)} appointments\")"
   ]
  },
  {
   "cell_type": "code",
   "execution_count": 235,
   "id": "19",
   "metadata": {
    "ExecuteTime": {
     "end_time": "2025-08-13T12:52:53.635432Z",
     "start_time": "2025-08-13T12:52:53.632567Z"
    }
   },
   "outputs": [
    {
     "name": "stdout",
     "output_type": "stream",
     "text": [
      "1377 subjects\n"
     ]
    }
   ],
   "source": [
    "n = df_subject_appointments.subject_identifier.nunique()\n",
    "print(f\"{n} subjects\")\n"
   ]
  },
  {
   "cell_type": "code",
   "execution_count": 236,
   "id": "20",
   "metadata": {
    "ExecuteTime": {
     "end_time": "2025-08-13T12:52:53.656647Z",
     "start_time": "2025-08-13T12:52:53.654766Z"
    }
   },
   "outputs": [],
   "source": [
    "# (len(df_subject_appointments[df_subject_appointments.appt_datetime>=datetime(2026,1,1)])/36)/5"
   ]
  },
  {
   "cell_type": "code",
   "execution_count": 237,
   "id": "21",
   "metadata": {
    "ExecuteTime": {
     "end_time": "2025-08-13T12:52:53.684518Z",
     "start_time": "2025-08-13T12:52:53.678778Z"
    }
   },
   "outputs": [
    {
     "data": {
      "text/html": [
       "<div>\n",
       "<style scoped>\n",
       "    .dataframe tbody tr th:only-of-type {\n",
       "        vertical-align: middle;\n",
       "    }\n",
       "\n",
       "    .dataframe tbody tr th {\n",
       "        vertical-align: top;\n",
       "    }\n",
       "\n",
       "    .dataframe thead th {\n",
       "        text-align: right;\n",
       "    }\n",
       "</style>\n",
       "<table border=\"1\" class=\"dataframe\">\n",
       "  <thead>\n",
       "    <tr style=\"text-align: right;\">\n",
       "      <th></th>\n",
       "      <th>visit_code</th>\n",
       "      <th>appointments</th>\n",
       "      <th>cumsum</th>\n",
       "    </tr>\n",
       "  </thead>\n",
       "  <tbody>\n",
       "    <tr>\n",
       "      <th>9</th>\n",
       "      <td>1180.0</td>\n",
       "      <td>2</td>\n",
       "      <td>2</td>\n",
       "    </tr>\n",
       "    <tr>\n",
       "      <th>8</th>\n",
       "      <td>1210.0</td>\n",
       "      <td>44</td>\n",
       "      <td>46</td>\n",
       "    </tr>\n",
       "    <tr>\n",
       "      <th>7</th>\n",
       "      <td>1240.0</td>\n",
       "      <td>124</td>\n",
       "      <td>170</td>\n",
       "    </tr>\n",
       "    <tr>\n",
       "      <th>6</th>\n",
       "      <td>1270.0</td>\n",
       "      <td>252</td>\n",
       "      <td>422</td>\n",
       "    </tr>\n",
       "    <tr>\n",
       "      <th>5</th>\n",
       "      <td>1300.0</td>\n",
       "      <td>363</td>\n",
       "      <td>785</td>\n",
       "    </tr>\n",
       "    <tr>\n",
       "      <th>3</th>\n",
       "      <td>1330.0</td>\n",
       "      <td>555</td>\n",
       "      <td>1340</td>\n",
       "    </tr>\n",
       "    <tr>\n",
       "      <th>1</th>\n",
       "      <td>1360.0</td>\n",
       "      <td>692</td>\n",
       "      <td>2032</td>\n",
       "    </tr>\n",
       "    <tr>\n",
       "      <th>0</th>\n",
       "      <td>1390.0</td>\n",
       "      <td>764</td>\n",
       "      <td>2796</td>\n",
       "    </tr>\n",
       "    <tr>\n",
       "      <th>2</th>\n",
       "      <td>1420.0</td>\n",
       "      <td>594</td>\n",
       "      <td>3390</td>\n",
       "    </tr>\n",
       "    <tr>\n",
       "      <th>4</th>\n",
       "      <td>1450.0</td>\n",
       "      <td>404</td>\n",
       "      <td>3794</td>\n",
       "    </tr>\n",
       "  </tbody>\n",
       "</table>\n",
       "</div>"
      ],
      "text/plain": [
       "   visit_code  appointments  cumsum\n",
       "9      1180.0             2       2\n",
       "8      1210.0            44      46\n",
       "7      1240.0           124     170\n",
       "6      1270.0           252     422\n",
       "5      1300.0           363     785\n",
       "3      1330.0           555    1340\n",
       "1      1360.0           692    2032\n",
       "0      1390.0           764    2796\n",
       "2      1420.0           594    3390\n",
       "4      1450.0           404    3794"
      ]
     },
     "execution_count": 237,
     "metadata": {},
     "output_type": "execute_result"
    }
   ],
   "source": [
    "# summarize the appointments\n",
    "df_summary = df_subject_appointments.visit_code.value_counts().reset_index(name=\"appointments\").sort_values(by=[\"visit_code\"], ascending=True)\n",
    "df_summary[\"cumsum\"] = df_summary.appointments.cumsum()\n",
    "df_summary"
   ]
  },
  {
   "cell_type": "code",
   "execution_count": 238,
   "id": "22",
   "metadata": {
    "ExecuteTime": {
     "end_time": "2025-08-13T12:52:53.766975Z",
     "start_time": "2025-08-13T12:52:53.734444Z"
    }
   },
   "outputs": [
    {
     "data": {
      "text/html": [
       "<div>\n",
       "<style scoped>\n",
       "    .dataframe tbody tr th:only-of-type {\n",
       "        vertical-align: middle;\n",
       "    }\n",
       "\n",
       "    .dataframe tbody tr th {\n",
       "        vertical-align: top;\n",
       "    }\n",
       "\n",
       "    .dataframe thead th {\n",
       "        text-align: right;\n",
       "    }\n",
       "</style>\n",
       "<table border=\"1\" class=\"dataframe\">\n",
       "  <thead>\n",
       "    <tr style=\"text-align: right;\">\n",
       "      <th></th>\n",
       "      <th>assignment</th>\n",
       "      <th>appointments</th>\n",
       "      <th>bottles</th>\n",
       "      <th>tablets</th>\n",
       "    </tr>\n",
       "  </thead>\n",
       "  <tbody>\n",
       "    <tr>\n",
       "      <th>0</th>\n",
       "      <td>placebo</td>\n",
       "      <td>1920</td>\n",
       "      <td>5760</td>\n",
       "      <td>737280</td>\n",
       "    </tr>\n",
       "    <tr>\n",
       "      <th>1</th>\n",
       "      <td>active</td>\n",
       "      <td>1874</td>\n",
       "      <td>5622</td>\n",
       "      <td>719616</td>\n",
       "    </tr>\n",
       "    <tr>\n",
       "      <th>2</th>\n",
       "      <td>NaN</td>\n",
       "      <td>3794</td>\n",
       "      <td>11382</td>\n",
       "      <td>1456896</td>\n",
       "    </tr>\n",
       "  </tbody>\n",
       "</table>\n",
       "</div>"
      ],
      "text/plain": [
       "  assignment  appointments  bottles  tablets\n",
       "0    placebo          1920     5760   737280\n",
       "1     active          1874     5622   719616\n",
       "2        NaN          3794    11382  1456896"
      ]
     },
     "execution_count": 238,
     "metadata": {},
     "output_type": "execute_result"
    }
   ],
   "source": [
    "df = df_subject_appointments.assignment.value_counts(dropna=False).reset_index()\n",
    "df.rename(columns={\"count\":\"appointments\"}, inplace=True)\n",
    "df[\"bottles\"] = df.appointments * 3\n",
    "df[\"tablets\"] = df.bottles * 128\n",
    "\n",
    "# we need this many bottles / tablets by assignment\n",
    "# filter\n",
    "df.loc[len(df)] = {\"appointments\": df.appointments.sum(), \"bottles\": df.bottles.sum(), \"tablets\": df.tablets.sum()}\n",
    "df"
   ]
  },
  {
   "cell_type": "code",
   "execution_count": 239,
   "id": "23",
   "metadata": {
    "ExecuteTime": {
     "end_time": "2025-08-13T12:52:53.937759Z",
     "start_time": "2025-08-13T12:52:53.921484Z"
    }
   },
   "outputs": [
    {
     "data": {
      "text/html": [
       "<div id=\"nfijxasgbc\" style=\"padding-left:0px;padding-right:0px;padding-top:10px;padding-bottom:10px;overflow-x:auto;overflow-y:auto;width:auto;height:auto;\">\n",
       "<style>\n",
       "#nfijxasgbc table {\n",
       "          font-family: -apple-system, BlinkMacSystemFont, 'Segoe UI', Roboto, Oxygen, Ubuntu, Cantarell, 'Helvetica Neue', 'Fira Sans', 'Droid Sans', Arial, sans-serif;\n",
       "          -webkit-font-smoothing: antialiased;\n",
       "          -moz-osx-font-smoothing: grayscale;\n",
       "        }\n",
       "\n",
       "#nfijxasgbc thead, tbody, tfoot, tr, td, th { border-style: none; }\n",
       " tr { background-color: transparent; }\n",
       "#nfijxasgbc p { margin: 0; padding: 0; }\n",
       " #nfijxasgbc .gt_table { display: table; border-collapse: collapse; line-height: normal; margin-left: auto; margin-right: auto; color: #333333; font-size: 12; font-weight: normal; font-style: normal; background-color: white; width: auto; border-top-style: solid; border-top-width: 3px; border-top-color: #D5D5D5; border-right-style: solid; border-right-width: 3px; border-right-color: #D5D5D5; border-bottom-style: solid; border-bottom-width: 3px; border-bottom-color: #D5D5D5; border-left-style: solid; border-left-width: 3px; border-left-color: #D5D5D5; }\n",
       " #nfijxasgbc .gt_caption { padding-top: 4px; padding-bottom: 4px; }\n",
       " #nfijxasgbc .gt_title { color: #333333; font-size: 125%; font-weight: initial; padding-top: 4px; padding-bottom: 4px; padding-left: 5px; padding-right: 5px; border-bottom-color: white; border-bottom-width: 0; }\n",
       " #nfijxasgbc .gt_subtitle { color: #333333; font-size: 85%; font-weight: initial; padding-top: 3px; padding-bottom: 5px; padding-left: 5px; padding-right: 5px; border-top-color: white; border-top-width: 0; }\n",
       " #nfijxasgbc .gt_heading { background-color: white; text-align: center; border-bottom-color: white; border-left-style: none; border-left-width: 1px; border-left-color: #D3D3D3; border-right-style: none; border-right-width: 1px; border-right-color: #D3D3D3; }\n",
       " #nfijxasgbc .gt_bottom_border { border-bottom-style: solid; border-bottom-width: 2px; border-bottom-color: #D5D5D5; }\n",
       " #nfijxasgbc .gt_col_headings { border-top-style: solid; border-top-width: 2px; border-top-color: #D5D5D5; border-bottom-style: solid; border-bottom-width: 2px; border-bottom-color: #D5D5D5; border-left-style: none; border-left-width: 1px; border-left-color: #D3D3D3; border-right-style: none; border-right-width: 1px; border-right-color: #D3D3D3; }\n",
       " #nfijxasgbc .gt_col_heading { color: #FFFFFF; background-color: #004D80; font-size: 100%; font-weight: normal; text-transform: inherit; border-left-style: none; border-left-width: 1px; border-left-color: #D3D3D3; border-right-style: none; border-right-width: 1px; border-right-color: #D3D3D3; vertical-align: bottom; padding-top: 6px; padding-bottom: 5px; padding-left: 5px; padding-right: 5px; overflow-x: hidden; }\n",
       " #nfijxasgbc .gt_column_spanner_outer { color: #FFFFFF; background-color: #004D80; font-size: 100%; font-weight: normal; text-transform: inherit; padding-top: 0; padding-bottom: 0; padding-left: 4px; padding-right: 4px; }\n",
       " #nfijxasgbc .gt_column_spanner_outer:first-child { padding-left: 0; }\n",
       " #nfijxasgbc .gt_column_spanner_outer:last-child { padding-right: 0; }\n",
       " #nfijxasgbc .gt_column_spanner { border-bottom-style: solid; border-bottom-width: 2px; border-bottom-color: #D5D5D5; vertical-align: bottom; padding-top: 6px; padding-bottom: 6px; overflow-x: hidden; display: inline-block; width: 100%; }\n",
       " #nfijxasgbc .gt_spanner_row { border-bottom-style: hidden; }\n",
       " #nfijxasgbc .gt_group_heading { padding-top: 0.5; padding-bottom: 0.5; padding-left: 5px; padding-right: 5px; color: #333333; background-color: white; font-size: 100%; font-weight: initial; text-transform: inherit; border-top-style: solid; border-top-width: 2px; border-top-color: #D5D5D5; border-bottom-style: hidden; border-bottom-width: 2px; border-bottom-color: #D5D5D5; border-left-style: none; border-left-width: 1px; border-left-color: #D3D3D3; border-right-style: none; border-right-width: 1px; border-right-color: #D3D3D3; vertical-align: middle; text-align: left; }\n",
       " #nfijxasgbc .gt_empty_group_heading { padding: 0.5px; color: #333333; background-color: white; font-size: 100%; font-weight: initial; border-top-style: solid; border-top-width: 2px; border-top-color: #D5D5D5; border-bottom-style: hidden; border-bottom-width: 2px; border-bottom-color: #D5D5D5; vertical-align: middle; }\n",
       " #nfijxasgbc .gt_from_md> :first-child { margin-top: 0; }\n",
       " #nfijxasgbc .gt_from_md> :last-child { margin-bottom: 0; }\n",
       " #nfijxasgbc .gt_row { padding-top: 9px; padding-bottom: 9px; padding-left: 5px; padding-right: 5px; margin: 10px; border-top-style: solid; border-top-width: 1px; border-top-color: #D5D5D5; border-left-style: solid; border-left-width: 1px; border-left-color: #D5D5D5; border-right-style: solid; border-right-width: 1px; border-right-color: #D5D5D5; vertical-align: middle; overflow-x: hidden; }\n",
       " #nfijxasgbc .gt_stub { color: #333333; background-color: white; font-size: 100%; font-weight: initial; text-transform: inherit; border-right-style: solid; border-right-width: 2px; border-right-color: #D5D5D5; padding-left: 5px; padding-right: 5px; }\n",
       " #nfijxasgbc .gt_stub_row_group { color: #333333; background-color: white; font-size: 100%; font-weight: initial; text-transform: inherit; border-right-style: solid; border-right-width: 2px; border-right-color: #D3D3D3; padding-left: 5px; padding-right: 5px; vertical-align: top; }\n",
       " #nfijxasgbc .gt_row_group_first td { border-top-width: 2px; }\n",
       " #nfijxasgbc .gt_row_group_first th { border-top-width: 2px; }\n",
       " #nfijxasgbc .gt_striped { background-color: #F4F4F4; }\n",
       " #nfijxasgbc .gt_table_body { border-top-style: solid; border-top-width: 2px; border-top-color: #D5D5D5; border-bottom-style: solid; border-bottom-width: 2px; border-bottom-color: #D5D5D5; }\n",
       " #nfijxasgbc .gt_sourcenotes { color: #333333; background-color: white; border-bottom-style: none; border-bottom-width: 2px; border-bottom-color: #D3D3D3; border-left-style: none; border-left-width: 2px; border-left-color: #D3D3D3; border-right-style: none; border-right-width: 2px; border-right-color: #D3D3D3; }\n",
       " #nfijxasgbc .gt_sourcenote { font-size: 90%; padding-top: 4px; padding-bottom: 4px; padding-left: 5px; padding-right: 5px; text-align: left; }\n",
       " #nfijxasgbc .gt_left { text-align: left; }\n",
       " #nfijxasgbc .gt_center { text-align: center; }\n",
       " #nfijxasgbc .gt_right { text-align: right; font-variant-numeric: tabular-nums; }\n",
       " #nfijxasgbc .gt_font_normal { font-weight: normal; }\n",
       " #nfijxasgbc .gt_font_bold { font-weight: bold; }\n",
       " #nfijxasgbc .gt_font_italic { font-style: italic; }\n",
       " #nfijxasgbc .gt_super { font-size: 65%; }\n",
       " #nfijxasgbc .gt_footnote_marks { font-size: 75%; vertical-align: 0.4em; position: initial; }\n",
       " #nfijxasgbc .gt_asterisk { font-size: 100%; vertical-align: 0; }\n",
       " \n",
       "</style>\n",
       "<table class=\"gt_table\" data-quarto-disable-processing=\"false\" data-quarto-bootstrap=\"false\">\n",
       "<thead>\n",
       "\n",
       "  <tr class=\"gt_heading\">\n",
       "    <td colspan=\"4\" class=\"gt_heading gt_title gt_font_normal\">Table 1: IMP Bottles of 128 needed<BR><small>from 2025-08-10 to < 2026-05-01</small></td>\n",
       "  </tr>\n",
       "<tr class=\"gt_col_headings\">\n",
       "  <th class=\"gt_col_heading gt_columns_bottom_border gt_left\" rowspan=\"1\" colspan=\"1\" scope=\"col\" id=\"assignment\">assignment</th>\n",
       "  <th class=\"gt_col_heading gt_columns_bottom_border gt_right\" rowspan=\"1\" colspan=\"1\" scope=\"col\" id=\"appointments\">appointments</th>\n",
       "  <th class=\"gt_col_heading gt_columns_bottom_border gt_right\" rowspan=\"1\" colspan=\"1\" scope=\"col\" id=\"bottles\">bottles</th>\n",
       "  <th class=\"gt_col_heading gt_columns_bottom_border gt_right\" rowspan=\"1\" colspan=\"1\" scope=\"col\" id=\"tablets\">tablets</th>\n",
       "</tr>\n",
       "</thead>\n",
       "<tbody class=\"gt_table_body\">\n",
       "  <tr>\n",
       "    <td style=\"background-color: white; color: black;\" class=\"gt_row gt_left\">placebo</td>\n",
       "    <td style=\"background-color: white; color: black;\" class=\"gt_row gt_right\">1920</td>\n",
       "    <td style=\"background-color: white; color: black;\" class=\"gt_row gt_right\">5760</td>\n",
       "    <td style=\"background-color: white; color: black;\" class=\"gt_row gt_right\">737280</td>\n",
       "  </tr>\n",
       "  <tr>\n",
       "    <td style=\"background-color: white; color: black;\" class=\"gt_row gt_left\">active</td>\n",
       "    <td style=\"background-color: white; color: black;\" class=\"gt_row gt_right\">1874</td>\n",
       "    <td style=\"background-color: white; color: black;\" class=\"gt_row gt_right\">5622</td>\n",
       "    <td style=\"background-color: white; color: black;\" class=\"gt_row gt_right\">719616</td>\n",
       "  </tr>\n",
       "  <tr>\n",
       "    <td style=\"background-color: white; color: black; background-color: lightgrey; color: black;\" class=\"gt_row gt_left\"><NA></td>\n",
       "    <td style=\"background-color: white; color: black; background-color: lightgrey; color: black;\" class=\"gt_row gt_right\">3794</td>\n",
       "    <td style=\"background-color: white; color: black; background-color: lightgrey; color: black;\" class=\"gt_row gt_right\">11382</td>\n",
       "    <td style=\"background-color: white; color: black; background-color: lightgrey; color: black;\" class=\"gt_row gt_right\">1456896</td>\n",
       "  </tr>\n",
       "</tbody>\n",
       "  <tfoot class=\"gt_sourcenotes\">\n",
       "  \n",
       "  <tr>\n",
       "    <td class=\"gt_sourcenote\" colspan=\"4\" style=\"color: black;font-size: small;\"><ol><li>Assumes all participants consent for extended followup.<li>Need 3 bottles every three months<li>48m appointment is excluded<li>Only includes appointments scheduled before 2026-05-01.</ol></td>\n",
       "  </tr>\n",
       "\n",
       "</tfoot>\n",
       "\n",
       "</table>\n",
       "\n",
       "</div>\n",
       "        "
      ]
     },
     "metadata": {
      "text/html": {
       "text/html": {
        "isolated": true
       }
      }
     },
     "output_type": "display_data"
    }
   ],
   "source": [
    "gt = get_great_table(\n",
    "    df,\n",
    "    f\"Table 1: IMP Bottles of 128 needed<BR><small>from {start_from_appt_date.strftime('%Y-%m-%d')} to < {last_appt_date.strftime('%Y-%m-%d')}</small>\",\n",
    "    footnote=(\n",
    "        \"<ol>\"\n",
    "        \"<li>Assumes all participants consent for extended followup.\"\n",
    "        \"<li>Need 3 bottles every three months\"\n",
    "        \"<li>48m appointment is excluded\"\n",
    "        f\"<li>Only includes appointments scheduled before {last_appt_date.strftime('%Y-%m-%d')}.\"\n",
    "        \"</ol>\"\n",
    "    ))\n",
    "gt.show()"
   ]
  },
  {
   "cell_type": "code",
   "execution_count": 240,
   "id": "24",
   "metadata": {
    "ExecuteTime": {
     "end_time": "2025-08-13T12:52:56.449603Z",
     "start_time": "2025-08-13T12:52:54.052487Z"
    }
   },
   "outputs": [],
   "source": [
    "\n",
    "# save as png\n",
    "gt.save(analysis_folder / \"pharmacy_tbl1.png\")\n",
    "# export to PDF\n",
    "image = Image.open(analysis_folder / \"pharmacy_tbl1.png\")\n",
    "image = image.resize((image.width * 6, image.height * 6), Image.LANCZOS)\n",
    "image.save(analysis_folder / \"pharmacy_tbl1.pdf\", \"PDF\", resolution=800, optimize=True, quality=95)"
   ]
  },
  {
   "cell_type": "code",
   "execution_count": 241,
   "id": "d224041b1fee52ad",
   "metadata": {
    "ExecuteTime": {
     "end_time": "2025-08-13T12:52:56.492101Z",
     "start_time": "2025-08-13T12:52:56.489454Z"
    }
   },
   "outputs": [
    {
     "name": "stdout",
     "output_type": "stream",
     "text": [
      "╒════╤══════════════╤════════════════╤═══════════╤═══════════╕\n",
      "│    │ assignment   │ appointments   │ bottles   │ tablets   │\n",
      "╞════╪══════════════╪════════════════╪═══════════╪═══════════╡\n",
      "│ 0  │ placebo      │ 1920           │ 5760      │ 737280    │\n",
      "├────┼──────────────┼────────────────┼───────────┼───────────┤\n",
      "│ 1  │ active       │ 1874           │ 5622      │ 719616    │\n",
      "├────┼──────────────┼────────────────┼───────────┼───────────┤\n",
      "│ 2  │ nan          │ 3794           │ 11382     │ 1456896   │\n",
      "╘════╧══════════════╧════════════════╧═══════════╧═══════════╛\n"
     ]
    }
   ],
   "source": [
    "from tabulate import tabulate\n",
    "\n",
    "print(tabulate(df, headers='keys', tablefmt='fancy_grid', disable_numparse=True))\n"
   ]
  },
  {
   "cell_type": "code",
   "execution_count": 242,
   "id": "25",
   "metadata": {
    "ExecuteTime": {
     "end_time": "2025-08-13T12:52:56.717259Z",
     "start_time": "2025-08-13T12:52:56.515171Z"
    }
   },
   "outputs": [],
   "source": [
    "# now lets look at the stock\n",
    "df_stock = read_frame(Stock.objects.values(\"code\", \"lot_id\", \"container__name\", \"confirmation\", \"allocation\", \"dispenseitem\", \"qty_in\", \"qty_out\", \"unit_qty_in\", \"unit_qty_out\").all(), verbose=False)\n",
    "df_stock = df_stock.fillna(pd.NA)\n",
    "\n",
    "# merge in assignment\n",
    "df_lot = read_frame(Lot.objects.values(\"id\", \"assignment__name\").all(), verbose=False)\n",
    "df_lot.rename(columns={\"id\":\"lot_id\", \"assignment__name\": \"assignment\"}, inplace=True)\n",
    "df_stock = df_stock.merge(df_lot[[\"lot_id\", \"assignment\"]], on=\"lot_id\", how=\"left\")\n",
    "df_stock.rename(columns={\"container__name\":\"container\"}, inplace=True)\n",
    "df_stock.reset_index(drop=True, inplace=True)"
   ]
  },
  {
   "cell_type": "code",
   "execution_count": 243,
   "id": "26",
   "metadata": {
    "ExecuteTime": {
     "end_time": "2025-08-13T12:52:56.737618Z",
     "start_time": "2025-08-13T12:52:56.721619Z"
    }
   },
   "outputs": [],
   "source": [
    "# merge in container columns\n",
    "df_container = read_frame(Container.objects.all())\n",
    "df_container.rename(columns={\"name\": \"container\", \"display_name\": \"container_display_name\", \"units\": \"container_units\", \"qty\": \"container_qty\"}, inplace=True)\n",
    "df_stock = df_stock.merge(df_container[[\"container\", \"container_display_name\", \"container_type\", \"container_units\", \"container_qty\"]], on=\"container\", how=\"left\")\n",
    "df_stock.reset_index(drop=True, inplace=True)\n",
    "\n",
    "# calculate bal\n",
    "df_stock[\"bal\"] = df_stock[\"unit_qty_in\"] - df_stock[\"unit_qty_out\"]\n"
   ]
  },
  {
   "cell_type": "code",
   "execution_count": 244,
   "id": "27",
   "metadata": {
    "ExecuteTime": {
     "end_time": "2025-08-13T12:52:56.756737Z",
     "start_time": "2025-08-13T12:52:56.745156Z"
    }
   },
   "outputs": [
    {
     "data": {
      "text/html": [
       "<div>\n",
       "<style scoped>\n",
       "    .dataframe tbody tr th:only-of-type {\n",
       "        vertical-align: middle;\n",
       "    }\n",
       "\n",
       "    .dataframe tbody tr th {\n",
       "        vertical-align: top;\n",
       "    }\n",
       "\n",
       "    .dataframe thead th {\n",
       "        text-align: right;\n",
       "    }\n",
       "</style>\n",
       "<table border=\"1\" class=\"dataframe\">\n",
       "  <thead>\n",
       "    <tr style=\"text-align: right;\">\n",
       "      <th></th>\n",
       "      <th>assignment</th>\n",
       "      <th>bal</th>\n",
       "    </tr>\n",
       "  </thead>\n",
       "  <tbody>\n",
       "    <tr>\n",
       "      <th>0</th>\n",
       "      <td>active</td>\n",
       "      <td>686336.00</td>\n",
       "    </tr>\n",
       "    <tr>\n",
       "      <th>1</th>\n",
       "      <td>placebo</td>\n",
       "      <td>457984.00</td>\n",
       "    </tr>\n",
       "    <tr>\n",
       "      <th>2</th>\n",
       "      <td>NaN</td>\n",
       "      <td>1144320.00</td>\n",
       "    </tr>\n",
       "  </tbody>\n",
       "</table>\n",
       "</div>"
      ],
      "text/plain": [
       "  assignment         bal\n",
       "0     active   686336.00\n",
       "1    placebo   457984.00\n",
       "2        NaN  1144320.00"
      ]
     },
     "execution_count": 244,
     "metadata": {},
     "output_type": "execute_result"
    }
   ],
   "source": [
    "# show the balance of tablets decanted to bottles by assignment (on the EDC)\n",
    "df2 = df_stock[df_stock.container_display_name==\"Bottle 128\"].groupby(by=[\"assignment\"]).bal.agg(\"sum\").reset_index()\n",
    "df2.loc[len(df2)] = {\"bal\": df2.bal.sum()}\n",
    "df2"
   ]
  },
  {
   "cell_type": "code",
   "execution_count": 245,
   "id": "28",
   "metadata": {
    "ExecuteTime": {
     "end_time": "2025-08-13T12:52:56.803608Z",
     "start_time": "2025-08-13T12:52:56.798796Z"
    }
   },
   "outputs": [
    {
     "data": {
      "text/html": [
       "<div>\n",
       "<style scoped>\n",
       "    .dataframe tbody tr th:only-of-type {\n",
       "        vertical-align: middle;\n",
       "    }\n",
       "\n",
       "    .dataframe tbody tr th {\n",
       "        vertical-align: top;\n",
       "    }\n",
       "\n",
       "    .dataframe thead th {\n",
       "        text-align: right;\n",
       "    }\n",
       "</style>\n",
       "<table border=\"1\" class=\"dataframe\">\n",
       "  <thead>\n",
       "    <tr style=\"text-align: right;\">\n",
       "      <th></th>\n",
       "      <th>assignment</th>\n",
       "      <th>bal</th>\n",
       "    </tr>\n",
       "  </thead>\n",
       "  <tbody>\n",
       "    <tr>\n",
       "      <th>0</th>\n",
       "      <td>active</td>\n",
       "      <td>686336.00</td>\n",
       "    </tr>\n",
       "    <tr>\n",
       "      <th>1</th>\n",
       "      <td>placebo</td>\n",
       "      <td>457984.00</td>\n",
       "    </tr>\n",
       "    <tr>\n",
       "      <th>2</th>\n",
       "      <td>NaN</td>\n",
       "      <td>1144320.00</td>\n",
       "    </tr>\n",
       "  </tbody>\n",
       "</table>\n",
       "</div>"
      ],
      "text/plain": [
       "  assignment         bal\n",
       "0     active   686336.00\n",
       "1    placebo   457984.00\n",
       "2        NaN  1144320.00"
      ]
     },
     "execution_count": 245,
     "metadata": {},
     "output_type": "execute_result"
    }
   ],
   "source": [
    "# some bottles, as of today, have not been captured in the system\n",
    "# here is an estimate of what has been decanted into bottles but not labelled.\n",
    "# in the system, these tablets would appear on the EDC as still in buckets\n",
    "df3 = df2.copy()\n",
    "df3 = df3.drop(len(df3) - 1)\n",
    "placebo_unlabelled = 0 # 21*128*128\n",
    "active_unlabelled = 0 # 25*191*128\n",
    "\n",
    "# adding in the estimates, this is about what we have bottled\n",
    "df3.loc[df3.assignment==\"placebo\", \"bal\"] +=  placebo_unlabelled\n",
    "df3.loc[df3.assignment==\"active\", \"bal\"] +=  active_unlabelled\n",
    "df3.loc[len(df3)] = {\"bal\": df3.bal.sum()}\n",
    "df3"
   ]
  },
  {
   "cell_type": "code",
   "execution_count": 246,
   "id": "29",
   "metadata": {
    "ExecuteTime": {
     "end_time": "2025-08-13T12:52:56.961430Z",
     "start_time": "2025-08-13T12:52:56.954344Z"
    }
   },
   "outputs": [
    {
     "data": {
      "text/html": [
       "<div id=\"purexikqbe\" style=\"padding-left:0px;padding-right:0px;padding-top:10px;padding-bottom:10px;overflow-x:auto;overflow-y:auto;width:auto;height:auto;\">\n",
       "<style>\n",
       "#purexikqbe table {\n",
       "          font-family: -apple-system, BlinkMacSystemFont, 'Segoe UI', Roboto, Oxygen, Ubuntu, Cantarell, 'Helvetica Neue', 'Fira Sans', 'Droid Sans', Arial, sans-serif;\n",
       "          -webkit-font-smoothing: antialiased;\n",
       "          -moz-osx-font-smoothing: grayscale;\n",
       "        }\n",
       "\n",
       "#purexikqbe thead, tbody, tfoot, tr, td, th { border-style: none; }\n",
       " tr { background-color: transparent; }\n",
       "#purexikqbe p { margin: 0; padding: 0; }\n",
       " #purexikqbe .gt_table { display: table; border-collapse: collapse; line-height: normal; margin-left: auto; margin-right: auto; color: #333333; font-size: 12; font-weight: normal; font-style: normal; background-color: white; width: auto; border-top-style: solid; border-top-width: 3px; border-top-color: #D5D5D5; border-right-style: solid; border-right-width: 3px; border-right-color: #D5D5D5; border-bottom-style: solid; border-bottom-width: 3px; border-bottom-color: #D5D5D5; border-left-style: solid; border-left-width: 3px; border-left-color: #D5D5D5; }\n",
       " #purexikqbe .gt_caption { padding-top: 4px; padding-bottom: 4px; }\n",
       " #purexikqbe .gt_title { color: #333333; font-size: 125%; font-weight: initial; padding-top: 4px; padding-bottom: 4px; padding-left: 5px; padding-right: 5px; border-bottom-color: white; border-bottom-width: 0; }\n",
       " #purexikqbe .gt_subtitle { color: #333333; font-size: 85%; font-weight: initial; padding-top: 3px; padding-bottom: 5px; padding-left: 5px; padding-right: 5px; border-top-color: white; border-top-width: 0; }\n",
       " #purexikqbe .gt_heading { background-color: white; text-align: center; border-bottom-color: white; border-left-style: none; border-left-width: 1px; border-left-color: #D3D3D3; border-right-style: none; border-right-width: 1px; border-right-color: #D3D3D3; }\n",
       " #purexikqbe .gt_bottom_border { border-bottom-style: solid; border-bottom-width: 2px; border-bottom-color: #D5D5D5; }\n",
       " #purexikqbe .gt_col_headings { border-top-style: solid; border-top-width: 2px; border-top-color: #D5D5D5; border-bottom-style: solid; border-bottom-width: 2px; border-bottom-color: #D5D5D5; border-left-style: none; border-left-width: 1px; border-left-color: #D3D3D3; border-right-style: none; border-right-width: 1px; border-right-color: #D3D3D3; }\n",
       " #purexikqbe .gt_col_heading { color: #FFFFFF; background-color: #004D80; font-size: 100%; font-weight: normal; text-transform: inherit; border-left-style: none; border-left-width: 1px; border-left-color: #D3D3D3; border-right-style: none; border-right-width: 1px; border-right-color: #D3D3D3; vertical-align: bottom; padding-top: 6px; padding-bottom: 5px; padding-left: 5px; padding-right: 5px; overflow-x: hidden; }\n",
       " #purexikqbe .gt_column_spanner_outer { color: #FFFFFF; background-color: #004D80; font-size: 100%; font-weight: normal; text-transform: inherit; padding-top: 0; padding-bottom: 0; padding-left: 4px; padding-right: 4px; }\n",
       " #purexikqbe .gt_column_spanner_outer:first-child { padding-left: 0; }\n",
       " #purexikqbe .gt_column_spanner_outer:last-child { padding-right: 0; }\n",
       " #purexikqbe .gt_column_spanner { border-bottom-style: solid; border-bottom-width: 2px; border-bottom-color: #D5D5D5; vertical-align: bottom; padding-top: 6px; padding-bottom: 6px; overflow-x: hidden; display: inline-block; width: 100%; }\n",
       " #purexikqbe .gt_spanner_row { border-bottom-style: hidden; }\n",
       " #purexikqbe .gt_group_heading { padding-top: 0.5; padding-bottom: 0.5; padding-left: 5px; padding-right: 5px; color: #333333; background-color: white; font-size: 100%; font-weight: initial; text-transform: inherit; border-top-style: solid; border-top-width: 2px; border-top-color: #D5D5D5; border-bottom-style: hidden; border-bottom-width: 2px; border-bottom-color: #D5D5D5; border-left-style: none; border-left-width: 1px; border-left-color: #D3D3D3; border-right-style: none; border-right-width: 1px; border-right-color: #D3D3D3; vertical-align: middle; text-align: left; }\n",
       " #purexikqbe .gt_empty_group_heading { padding: 0.5px; color: #333333; background-color: white; font-size: 100%; font-weight: initial; border-top-style: solid; border-top-width: 2px; border-top-color: #D5D5D5; border-bottom-style: hidden; border-bottom-width: 2px; border-bottom-color: #D5D5D5; vertical-align: middle; }\n",
       " #purexikqbe .gt_from_md> :first-child { margin-top: 0; }\n",
       " #purexikqbe .gt_from_md> :last-child { margin-bottom: 0; }\n",
       " #purexikqbe .gt_row { padding-top: 9px; padding-bottom: 9px; padding-left: 5px; padding-right: 5px; margin: 10px; border-top-style: solid; border-top-width: 1px; border-top-color: #D5D5D5; border-left-style: solid; border-left-width: 1px; border-left-color: #D5D5D5; border-right-style: solid; border-right-width: 1px; border-right-color: #D5D5D5; vertical-align: middle; overflow-x: hidden; }\n",
       " #purexikqbe .gt_stub { color: #333333; background-color: white; font-size: 100%; font-weight: initial; text-transform: inherit; border-right-style: solid; border-right-width: 2px; border-right-color: #D5D5D5; padding-left: 5px; padding-right: 5px; }\n",
       " #purexikqbe .gt_stub_row_group { color: #333333; background-color: white; font-size: 100%; font-weight: initial; text-transform: inherit; border-right-style: solid; border-right-width: 2px; border-right-color: #D3D3D3; padding-left: 5px; padding-right: 5px; vertical-align: top; }\n",
       " #purexikqbe .gt_row_group_first td { border-top-width: 2px; }\n",
       " #purexikqbe .gt_row_group_first th { border-top-width: 2px; }\n",
       " #purexikqbe .gt_striped { background-color: #F4F4F4; }\n",
       " #purexikqbe .gt_table_body { border-top-style: solid; border-top-width: 2px; border-top-color: #D5D5D5; border-bottom-style: solid; border-bottom-width: 2px; border-bottom-color: #D5D5D5; }\n",
       " #purexikqbe .gt_sourcenotes { color: #333333; background-color: white; border-bottom-style: none; border-bottom-width: 2px; border-bottom-color: #D3D3D3; border-left-style: none; border-left-width: 2px; border-left-color: #D3D3D3; border-right-style: none; border-right-width: 2px; border-right-color: #D3D3D3; }\n",
       " #purexikqbe .gt_sourcenote { font-size: 90%; padding-top: 4px; padding-bottom: 4px; padding-left: 5px; padding-right: 5px; text-align: left; }\n",
       " #purexikqbe .gt_left { text-align: left; }\n",
       " #purexikqbe .gt_center { text-align: center; }\n",
       " #purexikqbe .gt_right { text-align: right; font-variant-numeric: tabular-nums; }\n",
       " #purexikqbe .gt_font_normal { font-weight: normal; }\n",
       " #purexikqbe .gt_font_bold { font-weight: bold; }\n",
       " #purexikqbe .gt_font_italic { font-style: italic; }\n",
       " #purexikqbe .gt_super { font-size: 65%; }\n",
       " #purexikqbe .gt_footnote_marks { font-size: 75%; vertical-align: 0.4em; position: initial; }\n",
       " #purexikqbe .gt_asterisk { font-size: 100%; vertical-align: 0; }\n",
       " \n",
       "</style>\n",
       "<table class=\"gt_table\" data-quarto-disable-processing=\"false\" data-quarto-bootstrap=\"false\">\n",
       "<thead>\n",
       "\n",
       "  <tr class=\"gt_heading\">\n",
       "    <td colspan=\"2\" class=\"gt_heading gt_title gt_font_normal\">&nbsp;&nbsp;&nbsp;&nbsp;&nbsp;&nbsp;&nbsp;&nbsp;&nbsp;&nbsp;&nbsp;&nbsp;&nbsp;Table 2: IMP tablets in stock&nbsp;&nbsp;&nbsp;&nbsp;&nbsp;&nbsp;&nbsp;&nbsp;&nbsp;&nbsp;&nbsp;&nbsp;&nbsp;<BR><small>data downloaded on 2025-08-10</small></td>\n",
       "  </tr>\n",
       "<tr class=\"gt_col_headings\">\n",
       "  <th class=\"gt_col_heading gt_columns_bottom_border gt_left\" rowspan=\"1\" colspan=\"1\" scope=\"col\" id=\"assignment\">assignment</th>\n",
       "  <th class=\"gt_col_heading gt_columns_bottom_border gt_right\" rowspan=\"1\" colspan=\"1\" scope=\"col\" id=\"bal\">bal</th>\n",
       "</tr>\n",
       "</thead>\n",
       "<tbody class=\"gt_table_body\">\n",
       "  <tr>\n",
       "    <td style=\"background-color: white; color: black;\" class=\"gt_row gt_left\">active</td>\n",
       "    <td style=\"background-color: white; color: black;\" class=\"gt_row gt_right\">686336.00</td>\n",
       "  </tr>\n",
       "  <tr>\n",
       "    <td style=\"background-color: white; color: black;\" class=\"gt_row gt_left\">placebo</td>\n",
       "    <td style=\"background-color: white; color: black;\" class=\"gt_row gt_right\">457984.00</td>\n",
       "  </tr>\n",
       "  <tr>\n",
       "    <td style=\"background-color: white; color: black; background-color: lightgrey; color: black;\" class=\"gt_row gt_left\"><NA></td>\n",
       "    <td style=\"background-color: white; color: black; background-color: lightgrey; color: black;\" class=\"gt_row gt_right\">1144320.00</td>\n",
       "  </tr>\n",
       "</tbody>\n",
       "  <tfoot class=\"gt_sourcenotes\">\n",
       "  \n",
       "  <tr>\n",
       "    <td class=\"gt_sourcenote\" colspan=\"2\" style=\"color: black;font-size: small;\"></td>\n",
       "  </tr>\n",
       "\n",
       "</tfoot>\n",
       "\n",
       "</table>\n",
       "\n",
       "</div>\n",
       "        "
      ]
     },
     "metadata": {
      "text/html": {
       "text/html": {
        "isolated": true
       }
      }
     },
     "output_type": "display_data"
    }
   ],
   "source": [
    "gt = get_great_table(\n",
    "    df3,\n",
    "    f\"&nbsp;&nbsp;&nbsp;&nbsp;&nbsp;&nbsp;&nbsp;&nbsp;&nbsp;&nbsp;&nbsp;&nbsp;&nbsp;Table 2: IMP tablets in stock&nbsp;&nbsp;&nbsp;&nbsp;&nbsp;&nbsp;&nbsp;&nbsp;&nbsp;&nbsp;&nbsp;&nbsp;&nbsp;<BR><small>data downloaded on {start_from_appt_date.strftime('%Y-%m-%d')}</small>\",\n",
    "    # footnote=\"Includes recently decanted but unlabelled bottles\"\n",
    "    )\n",
    "gt.show()"
   ]
  },
  {
   "cell_type": "code",
   "execution_count": 247,
   "id": "30",
   "metadata": {
    "ExecuteTime": {
     "end_time": "2025-08-13T12:52:58.698026Z",
     "start_time": "2025-08-13T12:52:57.056764Z"
    }
   },
   "outputs": [],
   "source": [
    "# save as png\n",
    "gt.save(analysis_folder / \"pharmacy_tbl2.png\")\n",
    "# export to PDF\n",
    "image = Image.open(analysis_folder / \"pharmacy_tbl2.png\")\n",
    "image = image.resize((image.width * 6, image.height * 6), Image.LANCZOS)\n",
    "image.save(analysis_folder / \"pharmacy_tbl2.pdf\", \"PDF\", resolution=800, optimize=True, quality=95)"
   ]
  },
  {
   "cell_type": "code",
   "execution_count": 248,
   "id": "c051ad120acbac22",
   "metadata": {
    "ExecuteTime": {
     "end_time": "2025-08-13T12:52:58.737971Z",
     "start_time": "2025-08-13T12:52:58.735557Z"
    }
   },
   "outputs": [
    {
     "name": "stdout",
     "output_type": "stream",
     "text": [
      "╒════╤══════════════╤════════════╕\n",
      "│    │ assignment   │ bal        │\n",
      "╞════╪══════════════╪════════════╡\n",
      "│ 0  │ active       │ 686336.00  │\n",
      "├────┼──────────────┼────────────┤\n",
      "│ 1  │ placebo      │ 457984.00  │\n",
      "├────┼──────────────┼────────────┤\n",
      "│ 2  │ nan          │ 1144320.00 │\n",
      "╘════╧══════════════╧════════════╛\n"
     ]
    }
   ],
   "source": [
    "from tabulate import tabulate\n",
    "\n",
    "print(tabulate(df3, headers='keys', tablefmt='fancy_grid', disable_numparse=True))"
   ]
  },
  {
   "cell_type": "code",
   "execution_count": 249,
   "id": "31",
   "metadata": {
    "ExecuteTime": {
     "end_time": "2025-08-13T12:52:58.769760Z",
     "start_time": "2025-08-13T12:52:58.759643Z"
    }
   },
   "outputs": [
    {
     "data": {
      "text/plain": [
       "Decimal('2011057.00')"
      ]
     },
     "execution_count": 249,
     "metadata": {},
     "output_type": "execute_result"
    }
   ],
   "source": [
    "# tablets: ordered\n",
    "df_orderitems = read_frame(OrderItem.objects.all())\n",
    "df_orderitems.qty.sum()"
   ]
  },
  {
   "cell_type": "code",
   "execution_count": 250,
   "id": "32",
   "metadata": {
    "ExecuteTime": {
     "end_time": "2025-08-13T12:52:58.793937Z",
     "start_time": "2025-08-13T12:52:58.785208Z"
    }
   },
   "outputs": [
    {
     "data": {
      "text/plain": [
       "Decimal('2011077.00')"
      ]
     },
     "execution_count": 250,
     "metadata": {},
     "output_type": "execute_result"
    }
   ],
   "source": [
    "# tablets: received\n",
    "df_received_items = read_frame(ReceiveItem.objects.all())\n",
    "df_received_items.unit_qty.sum()"
   ]
  },
  {
   "cell_type": "code",
   "execution_count": 251,
   "id": "33",
   "metadata": {
    "ExecuteTime": {
     "end_time": "2025-08-13T12:52:58.812889Z",
     "start_time": "2025-08-13T12:52:58.807855Z"
    }
   },
   "outputs": [
    {
     "data": {
      "text/plain": [
       "Decimal('2011335.00')"
      ]
     },
     "execution_count": 251,
     "metadata": {},
     "output_type": "execute_result"
    }
   ],
   "source": [
    "# tablets: received into stock\n",
    "df_stock[df_stock.container_type==\"bucket\"].unit_qty_in.sum()"
   ]
  },
  {
   "cell_type": "code",
   "execution_count": 252,
   "id": "34",
   "metadata": {
    "ExecuteTime": {
     "end_time": "2025-08-13T12:52:58.831974Z",
     "start_time": "2025-08-13T12:52:58.828409Z"
    }
   },
   "outputs": [
    {
     "data": {
      "text/plain": [
       "Decimal('1687424.00')"
      ]
     },
     "execution_count": 252,
     "metadata": {},
     "output_type": "execute_result"
    }
   ],
   "source": [
    "# tablets: decanted from buckets into bottles\n",
    "df_stock[df_stock.container_type==\"bucket\"].unit_qty_out.sum()"
   ]
  },
  {
   "cell_type": "code",
   "execution_count": 253,
   "id": "35",
   "metadata": {
    "ExecuteTime": {
     "end_time": "2025-08-13T12:52:58.862223Z",
     "start_time": "2025-08-13T12:52:58.849923Z"
    }
   },
   "outputs": [
    {
     "data": {
      "text/plain": [
       "Decimal('1687424.00')"
      ]
     },
     "execution_count": 253,
     "metadata": {},
     "output_type": "execute_result"
    }
   ],
   "source": [
    "# tablets: total in bottles\n",
    "df_stock[df_stock.container_type==\"Bottle\"].unit_qty_in.sum()"
   ]
  },
  {
   "cell_type": "code",
   "execution_count": 254,
   "id": "36",
   "metadata": {
    "ExecuteTime": {
     "end_time": "2025-08-13T12:52:58.893362Z",
     "start_time": "2025-08-13T12:52:58.873422Z"
    }
   },
   "outputs": [
    {
     "data": {
      "text/html": [
       "<div>\n",
       "<style scoped>\n",
       "    .dataframe tbody tr th:only-of-type {\n",
       "        vertical-align: middle;\n",
       "    }\n",
       "\n",
       "    .dataframe tbody tr th {\n",
       "        vertical-align: top;\n",
       "    }\n",
       "\n",
       "    .dataframe thead th {\n",
       "        text-align: right;\n",
       "    }\n",
       "</style>\n",
       "<table border=\"1\" class=\"dataframe\">\n",
       "  <thead>\n",
       "    <tr style=\"text-align: right;\">\n",
       "      <th></th>\n",
       "      <th>dispensed</th>\n",
       "      <th>assignment</th>\n",
       "      <th>unit_qty_in</th>\n",
       "      <th>subtotal</th>\n",
       "      <th>total</th>\n",
       "    </tr>\n",
       "  </thead>\n",
       "  <tbody>\n",
       "    <tr>\n",
       "      <th>0</th>\n",
       "      <td>NaN</td>\n",
       "      <td>active</td>\n",
       "      <td>263936.00</td>\n",
       "      <td>NaN</td>\n",
       "      <td>NaN</td>\n",
       "    </tr>\n",
       "    <tr>\n",
       "      <th>1</th>\n",
       "      <td>NaN</td>\n",
       "      <td>placebo</td>\n",
       "      <td>279168.00</td>\n",
       "      <td>NaN</td>\n",
       "      <td>NaN</td>\n",
       "    </tr>\n",
       "    <tr>\n",
       "      <th>2</th>\n",
       "      <td>NaN</td>\n",
       "      <td>NaN</td>\n",
       "      <td>NaN</td>\n",
       "      <td>543104.00</td>\n",
       "      <td>NaN</td>\n",
       "    </tr>\n",
       "    <tr>\n",
       "      <th>3</th>\n",
       "      <td>False</td>\n",
       "      <td>active</td>\n",
       "      <td>685824.00</td>\n",
       "      <td>NaN</td>\n",
       "      <td>NaN</td>\n",
       "    </tr>\n",
       "    <tr>\n",
       "      <th>4</th>\n",
       "      <td>False</td>\n",
       "      <td>placebo</td>\n",
       "      <td>457600.00</td>\n",
       "      <td>NaN</td>\n",
       "      <td>NaN</td>\n",
       "    </tr>\n",
       "    <tr>\n",
       "      <th>5</th>\n",
       "      <td>False</td>\n",
       "      <td>NaN</td>\n",
       "      <td>NaN</td>\n",
       "      <td>1143424.00</td>\n",
       "      <td>NaN</td>\n",
       "    </tr>\n",
       "    <tr>\n",
       "      <th>6</th>\n",
       "      <td>NaN</td>\n",
       "      <td>NaN</td>\n",
       "      <td>NaN</td>\n",
       "      <td>NaN</td>\n",
       "      <td>1686528.00</td>\n",
       "    </tr>\n",
       "  </tbody>\n",
       "</table>\n",
       "</div>"
      ],
      "text/plain": [
       "  dispensed assignment unit_qty_in    subtotal       total\n",
       "0       NaN     active   263936.00         NaN         NaN\n",
       "1       NaN    placebo   279168.00         NaN         NaN\n",
       "2       NaN        NaN         NaN   543104.00         NaN\n",
       "3     False     active   685824.00         NaN         NaN\n",
       "4     False    placebo   457600.00         NaN         NaN\n",
       "5     False        NaN         NaN  1143424.00         NaN\n",
       "6       NaN        NaN         NaN         NaN  1686528.00"
      ]
     },
     "execution_count": 254,
     "metadata": {},
     "output_type": "execute_result"
    }
   ],
   "source": [
    "# tablets: total bottles available / not yet dispensed BY ASSIGNMENT\n",
    "# the total matches the total above for column \"bal\"\n",
    "df4 = df_stock[(df_stock.container_type==\"Bottle\") & ~(df_stock.confirmation.isna()) & ~(df_stock.dispenseitem.isna())].groupby(by=[\"assignment\"]).unit_qty_in.sum().reset_index()\n",
    "df4[\"subtotal\"] = np.nan\n",
    "df4.loc[len(df4)] = {\"subtotal\": df4.unit_qty_in.sum()}\n",
    "df[\"dispensed\"] = True\n",
    "\n",
    "df5 = df_stock[(df_stock.container_type==\"Bottle\") & ~(df_stock.confirmation.isna()) & (df_stock.dispenseitem.isna())].groupby(by=[\"assignment\"]).unit_qty_in.sum().reset_index()\n",
    "df5.loc[df5.assignment==\"placebo\", \"unit_qty_in\"] +=  placebo_unlabelled\n",
    "df5.loc[df5.assignment==\"active\", \"unit_qty_in\"] +=  active_unlabelled\n",
    "df5[\"subtotal\"] = np.nan\n",
    "df5.loc[len(df5)] = {\"subtotal\" : df5.unit_qty_in.sum()}\n",
    "df5[\"dispensed\"] = False\n",
    "\n",
    "df6 = pd.concat([df4, df5])\n",
    "df6[\"total\"] = np.nan\n",
    "df6.reset_index(drop=True, inplace=True)\n",
    "df6.loc[len(df6)] = {\"total\": df6.subtotal.sum()}\n",
    "df6 = df6[[\"dispensed\", \"assignment\", \"unit_qty_in\", \"subtotal\", \"total\"]]\n",
    "df6"
   ]
  },
  {
   "cell_type": "code",
   "execution_count": null,
   "id": "37",
   "metadata": {
    "ExecuteTime": {
     "end_time": "2025-08-13T12:52:58.922942Z",
     "start_time": "2025-08-13T12:52:58.921637Z"
    }
   },
   "outputs": [],
   "source": []
  },
  {
   "cell_type": "code",
   "execution_count": 255,
   "id": "38",
   "metadata": {
    "ExecuteTime": {
     "end_time": "2025-08-13T12:52:59.052928Z",
     "start_time": "2025-08-13T12:52:59.025042Z"
    }
   },
   "outputs": [
    {
     "data": {
      "text/html": [
       "<div>\n",
       "<style scoped>\n",
       "    .dataframe tbody tr th:only-of-type {\n",
       "        vertical-align: middle;\n",
       "    }\n",
       "\n",
       "    .dataframe tbody tr th {\n",
       "        vertical-align: top;\n",
       "    }\n",
       "\n",
       "    .dataframe thead th {\n",
       "        text-align: right;\n",
       "    }\n",
       "</style>\n",
       "<table border=\"1\" class=\"dataframe\">\n",
       "  <thead>\n",
       "    <tr style=\"text-align: right;\">\n",
       "      <th></th>\n",
       "      <th>revision</th>\n",
       "      <th>created</th>\n",
       "      <th>modified</th>\n",
       "      <th>user_created</th>\n",
       "      <th>user_modified</th>\n",
       "      <th>hostname_created</th>\n",
       "      <th>hostname_modified</th>\n",
       "      <th>device_created</th>\n",
       "      <th>device_modified</th>\n",
       "      <th>locale_created</th>\n",
       "      <th>...</th>\n",
       "      <th>timepoint_closed_datetime</th>\n",
       "      <th>visit_code_str</th>\n",
       "      <th>baseline_datetime</th>\n",
       "      <th>endline_visit_code</th>\n",
       "      <th>last_appt_datetime</th>\n",
       "      <th>endline_visit_code_str</th>\n",
       "      <th>next_visit_code</th>\n",
       "      <th>next_appt_datetime</th>\n",
       "      <th>next_visit_code_str</th>\n",
       "      <th>appt_type</th>\n",
       "    </tr>\n",
       "  </thead>\n",
       "  <tbody>\n",
       "    <tr>\n",
       "      <th>42</th>\n",
       "      <td>0.2.36:main:52c5fd1a05c3c058e92feb6993b2814ff0...</td>\n",
       "      <td>2022-12-07</td>\n",
       "      <td>2022-12-07</td>\n",
       "      <td>live</td>\n",
       "      <td>live</td>\n",
       "      <td>meta3</td>\n",
       "      <td>meta3</td>\n",
       "      <td>99</td>\n",
       "      <td>99</td>\n",
       "      <td>None</td>\n",
       "      <td>...</td>\n",
       "      <td>NaT</td>\n",
       "      <td>1360</td>\n",
       "      <td>2022-12-07</td>\n",
       "      <td>1270.0</td>\n",
       "      <td>2025-03-07</td>\n",
       "      <td>1270</td>\n",
       "      <td>1300.0</td>\n",
       "      <td>2025-06-09</td>\n",
       "      <td>1300</td>\n",
       "      <td>clinic</td>\n",
       "    </tr>\n",
       "    <tr>\n",
       "      <th>69</th>\n",
       "      <td>1.0.6:main:d8d3f61d658fd6130ed04237d8a1f0275db...</td>\n",
       "      <td>2022-05-18</td>\n",
       "      <td>2025-05-29</td>\n",
       "      <td>live</td>\n",
       "      <td>live</td>\n",
       "      <td>meta3</td>\n",
       "      <td>meta4</td>\n",
       "      <td>99</td>\n",
       "      <td>99</td>\n",
       "      <td>None</td>\n",
       "      <td>...</td>\n",
       "      <td>NaT</td>\n",
       "      <td>1360</td>\n",
       "      <td>2022-05-18</td>\n",
       "      <td>1330.0</td>\n",
       "      <td>2025-02-18</td>\n",
       "      <td>1330</td>\n",
       "      <td>1360.0</td>\n",
       "      <td>2025-05-19</td>\n",
       "      <td>1360</td>\n",
       "      <td>clinic</td>\n",
       "    </tr>\n",
       "    <tr>\n",
       "      <th>73</th>\n",
       "      <td>1.0.6:main:d8d3f61d658fd6130ed04237d8a1f0275db...</td>\n",
       "      <td>2022-09-09</td>\n",
       "      <td>2025-06-10</td>\n",
       "      <td>live</td>\n",
       "      <td>live</td>\n",
       "      <td>meta3</td>\n",
       "      <td>meta4</td>\n",
       "      <td>99</td>\n",
       "      <td>99</td>\n",
       "      <td>None</td>\n",
       "      <td>...</td>\n",
       "      <td>NaT</td>\n",
       "      <td>1360</td>\n",
       "      <td>2022-09-09</td>\n",
       "      <td>1330.0</td>\n",
       "      <td>2025-06-10</td>\n",
       "      <td>1330</td>\n",
       "      <td>1360.0</td>\n",
       "      <td>2025-09-09</td>\n",
       "      <td>1360</td>\n",
       "      <td>clinic</td>\n",
       "    </tr>\n",
       "    <tr>\n",
       "      <th>87</th>\n",
       "      <td>0.2.36:main:52c5fd1a05c3c058e92feb6993b2814ff0...</td>\n",
       "      <td>2023-01-03</td>\n",
       "      <td>2023-01-03</td>\n",
       "      <td>live</td>\n",
       "      <td>live</td>\n",
       "      <td>meta3</td>\n",
       "      <td>meta3</td>\n",
       "      <td>99</td>\n",
       "      <td>99</td>\n",
       "      <td>None</td>\n",
       "      <td>...</td>\n",
       "      <td>NaT</td>\n",
       "      <td>1360</td>\n",
       "      <td>2023-01-03</td>\n",
       "      <td>1300.0</td>\n",
       "      <td>2025-07-03</td>\n",
       "      <td>1300</td>\n",
       "      <td>1330.0</td>\n",
       "      <td>2025-10-03</td>\n",
       "      <td>1330</td>\n",
       "      <td>clinic</td>\n",
       "    </tr>\n",
       "    <tr>\n",
       "      <th>89</th>\n",
       "      <td>0.1.80:main:0bee9a02e522b8f722ab555bb441a78018...</td>\n",
       "      <td>2022-06-30</td>\n",
       "      <td>2022-06-30</td>\n",
       "      <td>live</td>\n",
       "      <td>live</td>\n",
       "      <td>meta3</td>\n",
       "      <td>meta3</td>\n",
       "      <td>99</td>\n",
       "      <td>99</td>\n",
       "      <td>None</td>\n",
       "      <td>...</td>\n",
       "      <td>NaT</td>\n",
       "      <td>1360</td>\n",
       "      <td>2022-06-30</td>\n",
       "      <td>1270.0</td>\n",
       "      <td>2024-09-26</td>\n",
       "      <td>1270</td>\n",
       "      <td>1300.0</td>\n",
       "      <td>2024-12-30</td>\n",
       "      <td>1300</td>\n",
       "      <td>clinic</td>\n",
       "    </tr>\n",
       "    <tr>\n",
       "      <th>...</th>\n",
       "      <td>...</td>\n",
       "      <td>...</td>\n",
       "      <td>...</td>\n",
       "      <td>...</td>\n",
       "      <td>...</td>\n",
       "      <td>...</td>\n",
       "      <td>...</td>\n",
       "      <td>...</td>\n",
       "      <td>...</td>\n",
       "      <td>...</td>\n",
       "      <td>...</td>\n",
       "      <td>...</td>\n",
       "      <td>...</td>\n",
       "      <td>...</td>\n",
       "      <td>...</td>\n",
       "      <td>...</td>\n",
       "      <td>...</td>\n",
       "      <td>...</td>\n",
       "      <td>...</td>\n",
       "      <td>...</td>\n",
       "      <td>...</td>\n",
       "    </tr>\n",
       "    <tr>\n",
       "      <th>25211</th>\n",
       "      <td>0.2.36:main:52c5fd1a05c3c058e92feb6993b2814ff0...</td>\n",
       "      <td>2023-02-17</td>\n",
       "      <td>2023-02-17</td>\n",
       "      <td>live</td>\n",
       "      <td>live</td>\n",
       "      <td>meta3</td>\n",
       "      <td>meta3</td>\n",
       "      <td>99</td>\n",
       "      <td>99</td>\n",
       "      <td>None</td>\n",
       "      <td>...</td>\n",
       "      <td>NaT</td>\n",
       "      <td>1360</td>\n",
       "      <td>2023-02-17</td>\n",
       "      <td>1270.0</td>\n",
       "      <td>2025-05-19</td>\n",
       "      <td>1270</td>\n",
       "      <td>1300.0</td>\n",
       "      <td>2025-08-18</td>\n",
       "      <td>1300</td>\n",
       "      <td>clinic</td>\n",
       "    </tr>\n",
       "    <tr>\n",
       "      <th>25254</th>\n",
       "      <td>1.1.8:main:60770120bc8f1cd94bef776547fc0ee948e...</td>\n",
       "      <td>2022-11-02</td>\n",
       "      <td>2025-08-04</td>\n",
       "      <td>live</td>\n",
       "      <td>live</td>\n",
       "      <td>meta3</td>\n",
       "      <td>meta4</td>\n",
       "      <td>99</td>\n",
       "      <td>99</td>\n",
       "      <td>None</td>\n",
       "      <td>...</td>\n",
       "      <td>NaT</td>\n",
       "      <td>1360</td>\n",
       "      <td>2022-11-02</td>\n",
       "      <td>1330.0</td>\n",
       "      <td>2025-08-04</td>\n",
       "      <td>1330</td>\n",
       "      <td>1360.0</td>\n",
       "      <td>2025-11-03</td>\n",
       "      <td>1360</td>\n",
       "      <td>clinic</td>\n",
       "    </tr>\n",
       "    <tr>\n",
       "      <th>25256</th>\n",
       "      <td>0.2.36:main:52c5fd1a05c3c058e92feb6993b2814ff0...</td>\n",
       "      <td>2023-02-28</td>\n",
       "      <td>2023-02-28</td>\n",
       "      <td>live</td>\n",
       "      <td>live</td>\n",
       "      <td>meta3</td>\n",
       "      <td>meta3</td>\n",
       "      <td>99</td>\n",
       "      <td>99</td>\n",
       "      <td>None</td>\n",
       "      <td>...</td>\n",
       "      <td>NaT</td>\n",
       "      <td>1360</td>\n",
       "      <td>2023-02-28</td>\n",
       "      <td>1270.0</td>\n",
       "      <td>2025-06-04</td>\n",
       "      <td>1270</td>\n",
       "      <td>1300.0</td>\n",
       "      <td>2025-08-28</td>\n",
       "      <td>1300</td>\n",
       "      <td>clinic</td>\n",
       "    </tr>\n",
       "    <tr>\n",
       "      <th>25260</th>\n",
       "      <td>1.1.8:main:60770120bc8f1cd94bef776547fc0ee948e...</td>\n",
       "      <td>2022-11-02</td>\n",
       "      <td>2025-08-11</td>\n",
       "      <td>live</td>\n",
       "      <td>live</td>\n",
       "      <td>meta3</td>\n",
       "      <td>meta4</td>\n",
       "      <td>99</td>\n",
       "      <td>99</td>\n",
       "      <td>None</td>\n",
       "      <td>...</td>\n",
       "      <td>NaT</td>\n",
       "      <td>1360</td>\n",
       "      <td>2022-11-02</td>\n",
       "      <td>1330.0</td>\n",
       "      <td>2025-08-11</td>\n",
       "      <td>1330</td>\n",
       "      <td>1360.0</td>\n",
       "      <td>2025-11-03</td>\n",
       "      <td>1360</td>\n",
       "      <td>clinic</td>\n",
       "    </tr>\n",
       "    <tr>\n",
       "      <th>25384</th>\n",
       "      <td>1.0.6:main:d8d3f61d658fd6130ed04237d8a1f0275db...</td>\n",
       "      <td>2022-08-16</td>\n",
       "      <td>2025-05-19</td>\n",
       "      <td>live</td>\n",
       "      <td>live</td>\n",
       "      <td>meta3</td>\n",
       "      <td>meta4</td>\n",
       "      <td>99</td>\n",
       "      <td>99</td>\n",
       "      <td>None</td>\n",
       "      <td>...</td>\n",
       "      <td>NaT</td>\n",
       "      <td>1360</td>\n",
       "      <td>2022-08-16</td>\n",
       "      <td>1330.0</td>\n",
       "      <td>2025-05-19</td>\n",
       "      <td>1330</td>\n",
       "      <td>1360.0</td>\n",
       "      <td>2025-08-15</td>\n",
       "      <td>1360</td>\n",
       "      <td>clinic</td>\n",
       "    </tr>\n",
       "  </tbody>\n",
       "</table>\n",
       "<p>658 rows × 44 columns</p>\n",
       "</div>"
      ],
      "text/plain": [
       "                                                revision    created  \\\n",
       "42     0.2.36:main:52c5fd1a05c3c058e92feb6993b2814ff0... 2022-12-07   \n",
       "69     1.0.6:main:d8d3f61d658fd6130ed04237d8a1f0275db... 2022-05-18   \n",
       "73     1.0.6:main:d8d3f61d658fd6130ed04237d8a1f0275db... 2022-09-09   \n",
       "87     0.2.36:main:52c5fd1a05c3c058e92feb6993b2814ff0... 2023-01-03   \n",
       "89     0.1.80:main:0bee9a02e522b8f722ab555bb441a78018... 2022-06-30   \n",
       "...                                                  ...        ...   \n",
       "25211  0.2.36:main:52c5fd1a05c3c058e92feb6993b2814ff0... 2023-02-17   \n",
       "25254  1.1.8:main:60770120bc8f1cd94bef776547fc0ee948e... 2022-11-02   \n",
       "25256  0.2.36:main:52c5fd1a05c3c058e92feb6993b2814ff0... 2023-02-28   \n",
       "25260  1.1.8:main:60770120bc8f1cd94bef776547fc0ee948e... 2022-11-02   \n",
       "25384  1.0.6:main:d8d3f61d658fd6130ed04237d8a1f0275db... 2022-08-16   \n",
       "\n",
       "        modified user_created user_modified hostname_created  \\\n",
       "42    2022-12-07         live          live            meta3   \n",
       "69    2025-05-29         live          live            meta3   \n",
       "73    2025-06-10         live          live            meta3   \n",
       "87    2023-01-03         live          live            meta3   \n",
       "89    2022-06-30         live          live            meta3   \n",
       "...          ...          ...           ...              ...   \n",
       "25211 2023-02-17         live          live            meta3   \n",
       "25254 2025-08-04         live          live            meta3   \n",
       "25256 2023-02-28         live          live            meta3   \n",
       "25260 2025-08-11         live          live            meta3   \n",
       "25384 2025-05-19         live          live            meta3   \n",
       "\n",
       "      hostname_modified device_created device_modified locale_created  ...  \\\n",
       "42                meta3             99              99           None  ...   \n",
       "69                meta4             99              99           None  ...   \n",
       "73                meta4             99              99           None  ...   \n",
       "87                meta3             99              99           None  ...   \n",
       "89                meta3             99              99           None  ...   \n",
       "...                 ...            ...             ...            ...  ...   \n",
       "25211             meta3             99              99           None  ...   \n",
       "25254             meta4             99              99           None  ...   \n",
       "25256             meta3             99              99           None  ...   \n",
       "25260             meta4             99              99           None  ...   \n",
       "25384             meta4             99              99           None  ...   \n",
       "\n",
       "      timepoint_closed_datetime visit_code_str baseline_datetime  \\\n",
       "42                          NaT           1360        2022-12-07   \n",
       "69                          NaT           1360        2022-05-18   \n",
       "73                          NaT           1360        2022-09-09   \n",
       "87                          NaT           1360        2023-01-03   \n",
       "89                          NaT           1360        2022-06-30   \n",
       "...                         ...            ...               ...   \n",
       "25211                       NaT           1360        2023-02-17   \n",
       "25254                       NaT           1360        2022-11-02   \n",
       "25256                       NaT           1360        2023-02-28   \n",
       "25260                       NaT           1360        2022-11-02   \n",
       "25384                       NaT           1360        2022-08-16   \n",
       "\n",
       "       endline_visit_code last_appt_datetime endline_visit_code_str  \\\n",
       "42                 1270.0         2025-03-07                   1270   \n",
       "69                 1330.0         2025-02-18                   1330   \n",
       "73                 1330.0         2025-06-10                   1330   \n",
       "87                 1300.0         2025-07-03                   1300   \n",
       "89                 1270.0         2024-09-26                   1270   \n",
       "...                   ...                ...                    ...   \n",
       "25211              1270.0         2025-05-19                   1270   \n",
       "25254              1330.0         2025-08-04                   1330   \n",
       "25256              1270.0         2025-06-04                   1270   \n",
       "25260              1330.0         2025-08-11                   1330   \n",
       "25384              1330.0         2025-05-19                   1330   \n",
       "\n",
       "      next_visit_code next_appt_datetime next_visit_code_str appt_type  \n",
       "42             1300.0         2025-06-09                1300    clinic  \n",
       "69             1360.0         2025-05-19                1360    clinic  \n",
       "73             1360.0         2025-09-09                1360    clinic  \n",
       "87             1330.0         2025-10-03                1330    clinic  \n",
       "89             1300.0         2024-12-30                1300    clinic  \n",
       "...               ...                ...                 ...       ...  \n",
       "25211          1300.0         2025-08-18                1300    clinic  \n",
       "25254          1360.0         2025-11-03                1360    clinic  \n",
       "25256          1300.0         2025-08-28                1300    clinic  \n",
       "25260          1360.0         2025-11-03                1360    clinic  \n",
       "25384          1360.0         2025-08-15                1360    clinic  \n",
       "\n",
       "[658 rows x 44 columns]"
      ]
     },
     "execution_count": 255,
     "metadata": {},
     "output_type": "execute_result"
    }
   ],
   "source": [
    "from meta_visit_schedule.constants import MONTH36\n",
    "\n",
    "df_appt[(df_appt.visit_code_str==MONTH36) & (df_appt.appt_datetime >= datetime(2024,12,15)) & (df_appt.appt_status==NEW_APPT) & (df_appt.appt_datetime <= datetime(2026,2,28))]"
   ]
  },
  {
   "cell_type": "code",
   "execution_count": 256,
   "id": "39",
   "metadata": {
    "ExecuteTime": {
     "end_time": "2025-08-13T12:52:59.122462Z",
     "start_time": "2025-08-13T12:52:59.119533Z"
    }
   },
   "outputs": [],
   "source": [
    "def remove_subjects_where_stock_on_site(stock_request: StockRequest, df: pd.DataFrame):\n",
    "    stock_model_cls = django_apps.get_model(\"edc_pharmacy.Stock\")\n",
    "    qs_stock = (\n",
    "        stock_model_cls.objects.values(\n",
    "            \"allocation__registered_subject__subject_identifier\", \"code\"\n",
    "        )\n",
    "        .filter(location=stock_request.location, qty=1)\n",
    "        .annotate(count=Count(\"allocation__registered_subject__subject_identifier\"))\n",
    "    )\n",
    "    df_stock = read_frame(qs_stock)\n",
    "    df_stock = df_stock.rename(\n",
    "        columns={\n",
    "            \"allocation__registered_subject__subject_identifier\": \"subject_identifier\",\n",
    "            \"count\": \"stock_qty\",\n",
    "        }\n",
    "    )\n",
    "    if not df.empty and not df_stock.empty:\n",
    "        df_subject = df.copy()\n",
    "        df_subject[\"code\"] = None\n",
    "        df = df.merge(df_stock, on=\"subject_identifier\", how=\"left\")\n",
    "        for index, row in df.iterrows():\n",
    "            qty_needed = stock_request.containers_per_subject - len(df[df.subject_identifier == row.subject_identifier])\n",
    "            if qty_needed > 0:\n",
    "               for _ in range(0, qty_needed):\n",
    "                   df = pd.concat([df, df_subject])\n",
    "    else:\n",
    "        df[\"code\"] = None\n",
    "    df[\"stock_qty\"] = 0.0\n",
    "    df = df.reset_index(drop=True)\n",
    "    return df\n"
   ]
  },
  {
   "cell_type": "code",
   "execution_count": 257,
   "id": "40",
   "metadata": {
    "ExecuteTime": {
     "end_time": "2025-08-13T12:52:59.195009Z",
     "start_time": "2025-08-13T12:52:59.192599Z"
    }
   },
   "outputs": [],
   "source": [
    "def pad_with_null_rows(df, qty_needed):\n",
    "    padded_data = []\n",
    "    for index, row in df.iterrows():\n",
    "        customer = row['subject']\n",
    "        products = row['product_code']\n",
    "        # Pad the products list with None to make its length x\n",
    "        products += [None] * (qty_needed - len(products))\n",
    "        # Create x rows for each customer\n",
    "        for product in products:\n",
    "            padded_data.append({'customer': customer, 'product_code': product})\n",
    "    return pd.DataFrame(padded_data)"
   ]
  },
  {
   "cell_type": "code",
   "execution_count": 258,
   "id": "41",
   "metadata": {
    "ExecuteTime": {
     "end_time": "2025-08-13T12:52:59.274598Z",
     "start_time": "2025-08-13T12:52:59.231308Z"
    }
   },
   "outputs": [
    {
     "ename": "DoesNotExist",
     "evalue": "StockRequest matching query does not exist.",
     "output_type": "error",
     "traceback": [
      "\u001b[31m---------------------------------------------------------------------------\u001b[39m",
      "\u001b[31mDoesNotExist\u001b[39m                              Traceback (most recent call last)",
      "\u001b[36mCell\u001b[39m\u001b[36m \u001b[39m\u001b[32mIn[258]\u001b[39m\u001b[32m, line 2\u001b[39m\n\u001b[32m      1\u001b[39m pk = \u001b[33m\"\u001b[39m\u001b[33m5455cf66-b8e5-449c-a1e8-24d3325026d7\u001b[39m\u001b[33m\"\u001b[39m\n\u001b[32m----> \u001b[39m\u001b[32m2\u001b[39m stock_request = \u001b[43mStockRequest\u001b[49m\u001b[43m.\u001b[49m\u001b[43mobjects\u001b[49m\u001b[43m.\u001b[49m\u001b[43mget\u001b[49m\u001b[43m(\u001b[49m\u001b[43mpk\u001b[49m\u001b[43m=\u001b[49m\u001b[43mpk\u001b[49m\u001b[43m)\u001b[49m\n",
      "\u001b[36mFile \u001b[39m\u001b[32m~/source/clinicedc_repos/meta_trial/meta-edc/.venv/lib/python3.13/site-packages/django/db/models/manager.py:87\u001b[39m, in \u001b[36mBaseManager._get_queryset_methods.<locals>.create_method.<locals>.manager_method\u001b[39m\u001b[34m(self, *args, **kwargs)\u001b[39m\n\u001b[32m     85\u001b[39m \u001b[38;5;129m@wraps\u001b[39m(method)\n\u001b[32m     86\u001b[39m \u001b[38;5;28;01mdef\u001b[39;00m\u001b[38;5;250m \u001b[39m\u001b[34mmanager_method\u001b[39m(\u001b[38;5;28mself\u001b[39m, *args, **kwargs):\n\u001b[32m---> \u001b[39m\u001b[32m87\u001b[39m     \u001b[38;5;28;01mreturn\u001b[39;00m \u001b[38;5;28;43mgetattr\u001b[39;49m\u001b[43m(\u001b[49m\u001b[38;5;28;43mself\u001b[39;49m\u001b[43m.\u001b[49m\u001b[43mget_queryset\u001b[49m\u001b[43m(\u001b[49m\u001b[43m)\u001b[49m\u001b[43m,\u001b[49m\u001b[43m \u001b[49m\u001b[43mname\u001b[49m\u001b[43m)\u001b[49m\u001b[43m(\u001b[49m\u001b[43m*\u001b[49m\u001b[43margs\u001b[49m\u001b[43m,\u001b[49m\u001b[43m \u001b[49m\u001b[43m*\u001b[49m\u001b[43m*\u001b[49m\u001b[43mkwargs\u001b[49m\u001b[43m)\u001b[49m\n",
      "\u001b[36mFile \u001b[39m\u001b[32m~/source/clinicedc_repos/meta_trial/meta-edc/.venv/lib/python3.13/site-packages/django/db/models/query.py:633\u001b[39m, in \u001b[36mQuerySet.get\u001b[39m\u001b[34m(self, *args, **kwargs)\u001b[39m\n\u001b[32m    631\u001b[39m     \u001b[38;5;28;01mreturn\u001b[39;00m clone._result_cache[\u001b[32m0\u001b[39m]\n\u001b[32m    632\u001b[39m \u001b[38;5;28;01mif\u001b[39;00m \u001b[38;5;129;01mnot\u001b[39;00m num:\n\u001b[32m--> \u001b[39m\u001b[32m633\u001b[39m     \u001b[38;5;28;01mraise\u001b[39;00m \u001b[38;5;28mself\u001b[39m.model.DoesNotExist(\n\u001b[32m    634\u001b[39m         \u001b[33m\"\u001b[39m\u001b[38;5;132;01m%s\u001b[39;00m\u001b[33m matching query does not exist.\u001b[39m\u001b[33m\"\u001b[39m % \u001b[38;5;28mself\u001b[39m.model._meta.object_name\n\u001b[32m    635\u001b[39m     )\n\u001b[32m    636\u001b[39m \u001b[38;5;28;01mraise\u001b[39;00m \u001b[38;5;28mself\u001b[39m.model.MultipleObjectsReturned(\n\u001b[32m    637\u001b[39m     \u001b[33m\"\u001b[39m\u001b[33mget() returned more than one \u001b[39m\u001b[38;5;132;01m%s\u001b[39;00m\u001b[33m -- it returned \u001b[39m\u001b[38;5;132;01m%s\u001b[39;00m\u001b[33m!\u001b[39m\u001b[33m\"\u001b[39m\n\u001b[32m    638\u001b[39m     % (\n\u001b[32m   (...)\u001b[39m\u001b[32m    641\u001b[39m     )\n\u001b[32m    642\u001b[39m )\n",
      "\u001b[31mDoesNotExist\u001b[39m: StockRequest matching query does not exist."
     ]
    }
   ],
   "source": [
    "pk = \"5455cf66-b8e5-449c-a1e8-24d3325026d7\"\n",
    "stock_request = StockRequest.objects.get(pk=pk)\n"
   ]
  },
  {
   "cell_type": "code",
   "execution_count": null,
   "id": "42",
   "metadata": {},
   "outputs": [],
   "source": [
    "df_subjects = get_next_scheduled_visit_for_subjects_df(stock_request)\n",
    "df_subjects"
   ]
  },
  {
   "cell_type": "code",
   "execution_count": null,
   "id": "43",
   "metadata": {},
   "outputs": [],
   "source": []
  },
  {
   "cell_type": "code",
   "execution_count": null,
   "id": "44",
   "metadata": {},
   "outputs": [],
   "source": [
    "df = df_subjects.copy()\n",
    "stock_model_cls = django_apps.get_model(\"edc_pharmacy.Stock\")\n",
    "qs_stock = (\n",
    "    stock_model_cls.objects.values(\n",
    "        \"allocation__registered_subject__subject_identifier\", \"code\"\n",
    "    )\n",
    "    .filter(location=stock_request.location, qty=1)\n",
    "    .annotate(count=Count(\"allocation__registered_subject__subject_identifier\"))\n",
    ")\n",
    "df_stock = read_frame(qs_stock)\n",
    "df_stock = df_stock.rename(\n",
    "    columns={\n",
    "        \"allocation__registered_subject__subject_identifier\": \"subject_identifier\",\n",
    "        \"count\": \"stock_qty\",\n",
    "    }\n",
    ")\n",
    "df_stock"
   ]
  },
  {
   "cell_type": "code",
   "execution_count": null,
   "id": "45",
   "metadata": {},
   "outputs": [],
   "source": [
    "df.merge(df_stock, on=\"subject_identifier\", how=\"left\")"
   ]
  },
  {
   "cell_type": "code",
   "execution_count": null,
   "id": "46",
   "metadata": {},
   "outputs": [],
   "source": [
    "if not df.empty and not df_stock.empty:\n",
    "    df_subject = df.copy()\n",
    "    df_subject[\"code\"] = None\n",
    "    df = df.merge(df_stock, on=\"subject_identifier\", how=\"left\")\n",
    "    for index, row in df.iterrows():\n",
    "        qty_needed = stock_request.containers_per_subject - len(df[df.subject_identifier == row.subject_identifier])\n",
    "        if qty_needed > 0:\n",
    "           for _ in range(0, qty_needed):\n",
    "               df = pd.concat([df, df_subject])\n",
    "else:\n",
    "    df[\"code\"] = None\n",
    "df[\"stock_qty\"] = 0.0\n",
    "df = df.reset_index(drop=True)\n",
    "df"
   ]
  },
  {
   "cell_type": "code",
   "execution_count": null,
   "id": "47",
   "metadata": {},
   "outputs": [],
   "source": [
    "df.loc[df.index.repeat(3)]"
   ]
  },
  {
   "cell_type": "code",
   "execution_count": null,
   "id": "48",
   "metadata": {},
   "outputs": [],
   "source": [
    "if not df.empty and not df_stock.empty:\n",
    "    df = df.merge(df_stock, on=\"subject_identifier\", how=\"left\")\n",
    "else:\n",
    "    df[\"code\"] = None\n",
    "df[\"stock_qty\"] = 0.0\n",
    "df = df.reset_index(drop=True)\n",
    "df"
   ]
  },
  {
   "cell_type": "code",
   "execution_count": null,
   "id": "49",
   "metadata": {},
   "outputs": [],
   "source": [
    "df = remove_subjects_where_stock_on_site(stock_request, df_subjects)\n",
    "df"
   ]
  },
  {
   "cell_type": "code",
   "execution_count": null,
   "id": "50",
   "metadata": {},
   "outputs": [],
   "source": [
    "df_instock = df[~df.code.isna()]\n",
    "df_instock = df_instock.reset_index(drop=True)\n",
    "df_instock = df_instock.sort_values(by=[\"subject_identifier\"])\n",
    "\n",
    "df_nostock = df[df.code.isna()]\n",
    "df_nostock = df_nostock.reset_index(drop=True)\n",
    "df_nostock = df_nostock.loc[\n",
    "    df_nostock.index.repeat(stock_request.containers_per_subject)\n",
    "].reset_index(drop=True)\n",
    "df_nostock = df_nostock.sort_values(by=[\"subject_identifier\"])\n",
    "df_nostock[\"code\"] = df_nostock[\"code\"].fillna(\"---\")\n"
   ]
  },
  {
   "cell_type": "code",
   "execution_count": null,
   "id": "51",
   "metadata": {},
   "outputs": [],
   "source": []
  },
  {
   "cell_type": "code",
   "execution_count": null,
   "id": "52",
   "metadata": {},
   "outputs": [],
   "source": []
  },
  {
   "cell_type": "code",
   "execution_count": null,
   "id": "53",
   "metadata": {},
   "outputs": [],
   "source": [
    "no_stock_for_subjects_df()"
   ]
  },
  {
   "cell_type": "code",
   "execution_count": null,
   "id": "54",
   "metadata": {},
   "outputs": [],
   "source": [
    "df_schedule = read_frame(SubjectScheduleHistory.objects.values(\"subject_identifier\", \"visit_schedule_name\",\"schedule_name\", \"offschedule_datetime\").all())\n"
   ]
  },
  {
   "cell_type": "code",
   "execution_count": null,
   "id": "55",
   "metadata": {},
   "outputs": [],
   "source": [
    "df_schedule = df_schedule[(df_schedule.visit_schedule_name==\"visit_schedule\") & (df_schedule.schedule_name==\"schedule\")  & df_schedule.offschedule_datetime.isna()]\n",
    "df_schedule.reset_index(drop=True, inplace=True)"
   ]
  },
  {
   "cell_type": "code",
   "execution_count": null,
   "id": "56",
   "metadata": {},
   "outputs": [],
   "source": [
    "df_stock = read_frame(Stock.objects.all(), verbose=False)\n",
    "df_stock_on_site = df_stock[(df_stock.confirmed_at_site==True) & (df_stock.dispensed==False)].copy()\n",
    "df_stock_on_site.reset_index(drop=True, inplace=True)\n",
    "df_stock_on_site = df_stock_on_site.drop(columns=[\"subject_identifier\"])\n"
   ]
  },
  {
   "cell_type": "code",
   "execution_count": null,
   "id": "57",
   "metadata": {},
   "outputs": [],
   "source": [
    "df_allocation =  read_frame(Allocation.objects.values(\"id\", \"registered_subject\").all(), verbose=False)\n",
    "df_rs = read_frame(RegisteredSubject.objects.values(\"id\", \"subject_identifier\").all(), verbose=False)\n",
    "df_allocation = df_allocation.merge(df_rs[[\"id\", \"subject_identifier\"]], how=\"left\", left_on=\"registered_subject\", right_on=\"id\", suffixes=[\"_allocation\", \"_rs\"])"
   ]
  },
  {
   "cell_type": "code",
   "execution_count": null,
   "id": "58",
   "metadata": {},
   "outputs": [],
   "source": [
    "df_stock_on_site = df_stock_on_site.merge(df_allocation[[\"id_allocation\", \"subject_identifier\"]], how=\"left\", left_on=\"allocation\", right_on=\"id_allocation\")"
   ]
  },
  {
   "cell_type": "code",
   "execution_count": null,
   "id": "59",
   "metadata": {},
   "outputs": [],
   "source": [
    "df = pd.merge(df_schedule[[\"subject_identifier\", 'offschedule_datetime']], df_stock_on_site, on=\"subject_identifier\", how=\"left\")\n",
    "df= df[df.code.isna()][[\"subject_identifier\" ]].sort_values(by=[\"subject_identifier\"]).reset_index(drop=True)"
   ]
  },
  {
   "cell_type": "code",
   "execution_count": null,
   "id": "60",
   "metadata": {},
   "outputs": [],
   "source": [
    "df_appt = get_next_scheduled_visit_for_subjects_df()\n",
    "df_appt = df_appt[[\"subject_identifier\", \"site_id\", \"visit_code\", \"appt_datetime\", \"baseline_datetime\"]].copy()\n",
    "df_appt.reset_index(drop=True, inplace=True)"
   ]
  },
  {
   "cell_type": "code",
   "execution_count": null,
   "id": "61",
   "metadata": {},
   "outputs": [],
   "source": [
    "\n",
    "df = df.merge(df_appt, how=\"left\", on=\"subject_identifier\")\n",
    "df = df[(df.appt_datetime.notna())]\n",
    "df.reset_index(drop=True, inplace=True)"
   ]
  },
  {
   "cell_type": "code",
   "execution_count": null,
   "id": "62",
   "metadata": {},
   "outputs": [],
   "source": [
    "utc_now = pd.Timestamp.utcnow().tz_localize(None)\n",
    "df[\"relative_days\"] = (df.appt_datetime - utc_now).dt.days\n",
    "df_final = df[(df.relative_days >= -105)].copy()\n",
    "df_final.reset_index(drop=True, inplace=True)\n",
    "df_final"
   ]
  },
  {
   "cell_type": "code",
   "execution_count": null,
   "id": "63",
   "metadata": {},
   "outputs": [],
   "source": [
    "RegisteredSubject.objects.filter(site_id=10)"
   ]
  },
  {
   "cell_type": "code",
   "execution_count": null,
   "id": "64",
   "metadata": {},
   "outputs": [],
   "source": []
  },
  {
   "cell_type": "code",
   "execution_count": null,
   "id": "65",
   "metadata": {},
   "outputs": [],
   "source": []
  }
 ],
 "metadata": {
  "kernelspec": {
   "display_name": "Python 3",
   "language": "python",
   "name": "python3"
  },
  "language_info": {
   "codemirror_mode": {
    "name": "ipython",
    "version": 2
   },
   "file_extension": ".py",
   "mimetype": "text/x-python",
   "name": "python",
   "nbconvert_exporter": "python",
   "pygments_lexer": "ipython2",
   "version": "2.7.6"
  }
 },
 "nbformat": 4,
 "nbformat_minor": 5
}
