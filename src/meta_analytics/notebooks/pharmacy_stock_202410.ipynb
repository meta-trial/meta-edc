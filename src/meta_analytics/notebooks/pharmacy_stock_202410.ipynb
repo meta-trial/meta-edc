{
 "cells": [
  {
   "cell_type": "code",
   "execution_count": null,
   "id": "0",
   "metadata": {},
   "outputs": [],
   "source": [
    "%%capture\n",
    "import pandas as pd\n",
    "from django_pandas.io import read_frame\n",
    "from pathlib import Path\n",
    "from dj_notebook import activate\n",
    "\n",
    "plus = activate(dotenv_file=\"/Users/erikvw/source/edc_source/meta-edc/.env\")\n",
    "report_folder = Path(\"/Users/erikvw/Documents/ucl/protocols/meta3/reports/\")\n",
    "# output is suppressed -- normally would spew out all the edc loading messages\n"
   ]
  },
  {
   "cell_type": "code",
   "execution_count": null,
   "id": "1",
   "metadata": {},
   "outputs": [],
   "source": [
    "from meta_rando.models import RandomizationList\n",
    "from meta_consent.models import SubjectConsent\n"
   ]
  },
  {
   "cell_type": "code",
   "execution_count": null,
   "id": "2",
   "metadata": {},
   "outputs": [],
   "source": [
    "cnt = 0\n",
    "df_hm = pd.read_excel(\"/Users/erikvw/Documents/ucl/protocols/meta3/pharmacy/HINDU_MANDAL.xlsx\")\n",
    "df_hm = df_hm.groupby(\"sid\").agg({\"qty\":\"sum\"})\n",
    "cnt += len(df_hm)\n",
    "print(\"df_hm\", len(df_hm), cnt)\n",
    "\n",
    "df_amana = pd.read_excel(\"/Users/erikvw/Documents/ucl/protocols/meta3/pharmacy/AMANA.xlsx\")\n",
    "df_amana = df_amana.groupby(\"sid\").agg({\"qty\":\"sum\"})\n",
    "cnt += len(df_amana)\n",
    "print(\"df_amana\", len(df_amana), cnt)\n",
    "\n",
    "df_mnazi = pd.read_excel(\"/Users/erikvw/Documents/ucl/protocols/meta3/pharmacy/mnazi.xlsx\")\n",
    "df_mnazi = df_mnazi.groupby(\"sid\").agg({\"qty\":\"sum\"})\n",
    "cnt += len(df_mnazi)\n",
    "print(\"df_mnazi\", len(df_mnazi), cnt)\n",
    "\n",
    "df_mwana = pd.read_excel(\"/Users/erikvw/Documents/ucl/protocols/meta3/pharmacy/MWANANYAMALA.xlsx\")\n",
    "df_mwana = df_mwana.groupby(\"sid\").agg({\"qty\":\"sum\"})\n",
    "cnt += len(df_mwana)\n",
    "print(\"df_mwana\", len(df_mwana), cnt)\n",
    "\n",
    "df_temeke = pd.read_excel(\"/Users/erikvw/Documents/ucl/protocols/meta3/pharmacy/TEMEKE.xlsx\")\n",
    "df_temeke = df_temeke.groupby(\"sid\").agg({\"qty\":\"sum\"})\n",
    "cnt += len(df_temeke)\n",
    "print(\"df_temeke\", len(df_temeke), cnt)\n",
    "\n",
    "df_sites = pd.concat([df_hm, df_amana, df_mnazi, df_mwana, df_temeke], axis=0)\n",
    "df_sites"
   ]
  },
  {
   "cell_type": "code",
   "execution_count": null,
   "id": "3",
   "metadata": {},
   "outputs": [],
   "source": [
    "# get rando, this is slow (col assignment is encrypted)\n",
    "df_rando = read_frame(RandomizationList.objects.values(\"subject_identifier\", \"sid\", \"site_name\", \"assignment\", \"allocated_site\").all(), verbose=False)\n",
    "df_rando = df_rando.rename(columns={\"allocated_site\": \"site_id\"})\n",
    "df_rando = df_rando[[\"subject_identifier\", \"sid\", \"site_name\", \"assignment\", \"site_id\"]]\n",
    "df_rando = df_rando.reset_index(drop=True)\n"
   ]
  },
  {
   "cell_type": "code",
   "execution_count": null,
   "id": "4",
   "metadata": {},
   "outputs": [],
   "source": [
    "# merge rando w/ hindu_mandal\n",
    "df_sites = df_sites.merge(df_rando, on='sid', how='left', suffixes=('', '_rando'))\n",
    "df_sites = df_sites[[\"subject_identifier\", \"sid\", \"site_id\", \"qty\", \"site_name\", \"assignment\"]]\n",
    "df_sites\n"
   ]
  },
  {
   "cell_type": "code",
   "execution_count": null,
   "id": "5",
   "metadata": {},
   "outputs": [],
   "source": [
    "# merge hindu_mandal w/ consent to get \"consent_datetime\", \"gender\", \"dob\"\n",
    "df_consent = read_frame(SubjectConsent.objects.values(\"subject_identifier\", \"consent_datetime\", \"gender\", \"dob\"), verbose=False)\n",
    "df_consent[\"consent_datetime\"] = pd.to_datetime(df_consent[\"consent_datetime\"]).dt.tz_localize(None)\n",
    "df_consent[\"consent_datetime\"] = df_consent[\"consent_datetime\"].dt.normalize()\n",
    "df_sites = df_sites.merge(df_consent, on=\"subject_identifier\", how=\"left\")\n",
    "df_sites"
   ]
  },
  {
   "cell_type": "code",
   "execution_count": null,
   "id": "6",
   "metadata": {},
   "outputs": [],
   "source": [
    "df_sites = df_sites.reset_index(drop=True)\n",
    "df_sites\n"
   ]
  },
  {
   "cell_type": "code",
   "execution_count": null,
   "id": "7",
   "metadata": {},
   "outputs": [],
   "source": [
    "df_sites.site_name.value_counts()"
   ]
  },
  {
   "cell_type": "code",
   "execution_count": null,
   "id": "8",
   "metadata": {},
   "outputs": [],
   "source": [
    "df_sites"
   ]
  },
  {
   "cell_type": "code",
   "execution_count": null,
   "id": "9",
   "metadata": {},
   "outputs": [],
   "source": [
    "df_sites[(df_sites.qty.notna())][\"site_name\"].value_counts()"
   ]
  },
  {
   "cell_type": "code",
   "execution_count": null,
   "id": "10",
   "metadata": {},
   "outputs": [],
   "source": [
    "df_sites[(df_sites.subject_identifier.isna())][\"site_name\"].value_counts()\n"
   ]
  },
  {
   "cell_type": "code",
   "execution_count": null,
   "id": "11",
   "metadata": {},
   "outputs": [],
   "source": [
    "# lists SIDs that do not match an allocated subject_identifier \n",
    "export_errors_df = df_sites[(df_sites.subject_identifier.isna())][[\"subject_identifier\", \"sid\", \"site_id\", \"qty\", \"site_name\", \"consent_datetime\", \"gender\", \"dob\"]].copy()\n",
    "export_errors_df = export_errors_df.reset_index(drop=True)\n",
    "export_errors_df.to_csv(\"/Users/erikvw/Documents/ucl/protocols/meta3/pharmacy/imp_stock_20241016-errors.csv\")\n"
   ]
  },
  {
   "cell_type": "code",
   "execution_count": null,
   "id": "12",
   "metadata": {},
   "outputs": [],
   "source": [
    "# safe file to show pharmacist and coordinators\n",
    "export_wo_assignment_df = df_sites[(df_sites.subject_identifier.notna()) & (df_sites.qty.notna())][[\"subject_identifier\", \"sid\", \"site_id\", \"qty\", \"site_name\", \"consent_datetime\", \"gender\", \"dob\"]].copy()\n",
    "export_wo_assignment_df = export_wo_assignment_df.reset_index(drop=True)\n",
    "export_wo_assignment_df.to_csv(\"/Users/erikvw/Documents/ucl/protocols/meta3/pharmacy/imp_stock_20241016-calvin.csv\")"
   ]
  },
  {
   "cell_type": "code",
   "execution_count": null,
   "id": "13",
   "metadata": {},
   "outputs": [],
   "source": [
    "# this is a secure file, for Buma only!!\n",
    "export_with_assignment_df = df_sites[(df_sites.subject_identifier.notna()) & (df_sites.qty.notna())][[\"subject_identifier\", \"sid\", \"site_id\", \"qty\", \"site_name\", \"consent_datetime\", \"gender\", \"dob\", \"assignment\"]].copy()\n",
    "export_with_assignment_df = export_with_assignment_df.reset_index(drop=True)\n",
    "export_with_assignment_df.to_csv(\"/Users/erikvw/Documents/ucl/protocols/meta3/pharmacy/imp_stock_20241016-buma.csv\")\n"
   ]
  },
  {
   "cell_type": "code",
   "execution_count": null,
   "id": "14",
   "metadata": {},
   "outputs": [],
   "source": [
    "# summary of bottles\n",
    "btl_df = export_wo_assignment_df.groupby(\"site_name\").agg({\"qty\":\"sum\"})\n",
    "btl_df"
   ]
  },
  {
   "cell_type": "code",
   "execution_count": null,
   "id": "15",
   "metadata": {},
   "outputs": [],
   "source": [
    "# summary of subjects\n",
    "export_wo_assignment_df.site_name.value_counts()"
   ]
  },
  {
   "cell_type": "code",
   "execution_count": null,
   "id": "16",
   "metadata": {},
   "outputs": [],
   "source": [
    "# summary of tabs\n",
    "btl_df * 128"
   ]
  },
  {
   "cell_type": "code",
   "execution_count": null,
   "id": "17",
   "metadata": {},
   "outputs": [],
   "source": [
    "(btl_df * 128).qty.sum()"
   ]
  },
  {
   "cell_type": "code",
   "execution_count": null,
   "id": "18",
   "metadata": {},
   "outputs": [],
   "source": [
    "df_assign = export_with_assignment_df.groupby(\"assignment\").agg({\"qty\":\"sum\"})\n",
    "df_assign"
   ]
  },
  {
   "cell_type": "code",
   "execution_count": null,
   "id": "19",
   "metadata": {},
   "outputs": [],
   "source": [
    "df_assign * 128"
   ]
  },
  {
   "cell_type": "code",
   "execution_count": null,
   "id": "20",
   "metadata": {},
   "outputs": [],
   "source": [
    "(df_assign * 128).qty.sum()"
   ]
  },
  {
   "cell_type": "code",
   "execution_count": null,
   "id": "21",
   "metadata": {},
   "outputs": [],
   "source": []
  }
 ],
 "metadata": {
  "kernelspec": {
   "display_name": "Python 3",
   "language": "python",
   "name": "python3"
  },
  "language_info": {
   "codemirror_mode": {
    "name": "ipython",
    "version": 2
   },
   "file_extension": ".py",
   "mimetype": "text/x-python",
   "name": "python",
   "nbconvert_exporter": "python",
   "pygments_lexer": "ipython2",
   "version": "2.7.6"
  }
 },
 "nbformat": 4,
 "nbformat_minor": 5
}
