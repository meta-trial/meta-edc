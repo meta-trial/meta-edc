{
 "cells": [
  {
   "cell_type": "code",
   "id": "initial_id",
   "metadata": {
    "collapsed": true
   },
   "source": [
    "%%capture\n",
    "import os\n",
    "from pathlib import Path\n",
    "\n",
    "from dj_notebook import activate\n",
    "\n",
    "env_file = os.environ[\"META_ENV\"]\n",
    "reports_folder = Path(os.environ[\"META_REPORTS_FOLDER\"])\n",
    "analysis_folder = Path(os.environ[\"META_ANALYSIS_FOLDER\"])\n",
    "pharmacy_folder = Path(os.environ[\"META_PHARMACY_FOLDER\"])\n",
    "plus = activate(dotenv_file=env_file)"
   ],
   "outputs": [],
   "execution_count": null
  },
  {
   "metadata": {},
   "cell_type": "code",
   "source": [
    "import numpy as np\n",
    "import pandas as pd\n",
    "\n",
    "from datetime import date\n",
    "from django_pandas.io import read_frame\n",
    "\n",
    "from edc_model_to_dataframe.read_frame_edc import read_frame_edc\n",
    "from edc_registration.models import RegisteredSubject\n",
    "\n",
    "from meta_prn.models import EndOfStudy, OffSchedule\n",
    "from meta_subject.models import FollowupVitals"
   ],
   "id": "f97cf26cd2b5de22",
   "outputs": [],
   "execution_count": null
  },
  {
   "metadata": {},
   "cell_type": "code",
   "source": [
    "df_rs = read_frame(RegisteredSubject.objects.values(\"subject_identifier\", \"gender\", \"dob\").all())\n",
    "df_rs[\"dob\"] = pd.to_datetime(df_rs[\"dob\"])\n",
    "today = pd.to_datetime(date.today())\n",
    "age = today.year - df_rs['dob'].dt.year\n",
    "df_rs['age_in_years'] = age\n",
    "\n",
    "df_vitals = read_frame_edc(FollowupVitals.objects.all())\n",
    "df_eos = read_frame_edc(EndOfStudy.objects.all())\n",
    "df_offschedule = read_frame_edc(OffSchedule.objects.all())"
   ],
   "id": "6a65fdcaa686a591",
   "outputs": [],
   "execution_count": null
  },
  {
   "metadata": {},
   "cell_type": "code",
   "source": [
    "# merge vitals, registered subject\n",
    "df = pd.merge(df_rs, df_vitals, on=\"subject_identifier\")\n",
    "\n",
    "# select the last record for each subject\n",
    "df['report_datetime'] = pd.to_datetime(df['report_datetime'])\n",
    "df = df.sort_values(by=['subject_identifier', 'report_datetime'])\n",
    "df = df.drop_duplicates(subset='subject_identifier', keep='last')\n",
    "\n",
    "# drop any subjects off study\n",
    "df = df[~df['subject_identifier'].isin(df_eos['subject_identifier'].unique())]\n",
    "\n",
    "# drop any subjects off-schedule (but still on study)\n",
    "df = df[~df['subject_identifier'].isin(df_offschedule['subject_identifier'].unique())]\n",
    "\n",
    "# cut/bin weight\n",
    "df['weight'] = pd.to_numeric(df['weight'], errors='coerce')\n",
    "bins = [-np.inf, 35, 50, np.inf]\n",
    "labels = ['<35', '35-49', '>=50']\n",
    "df['weight_bin'] = pd.cut(df['weight'], bins=bins, labels=labels, right=False)\n",
    "\n",
    "# df[['subject_identifier', 'visit_code', 'report_datetime', 'site_id', 'gender', 'weight', 'weight_bin']]"
   ],
   "id": "348f30e1ec5532f3",
   "outputs": [],
   "execution_count": null
  },
  {
   "metadata": {},
   "cell_type": "code",
   "source": [
    "# sample 20% subjects\n",
    "stratified_sample = df.groupby(\n",
    "    ['site_id', 'gender', 'weight_bin', 'age_in_years'],\n",
    "    group_keys=False,\n",
    "    observed=True\n",
    ").sample(\n",
    "    frac=0.20,\n",
    "    random_state=981\n",
    ")"
   ],
   "id": "68b13c7fd47b6f16",
   "outputs": [],
   "execution_count": null
  },
  {
   "metadata": {},
   "cell_type": "code",
   "source": [
    "# randomize the stratified sample by site\n",
    "randomized_df = stratified_sample.groupby(\n",
    "    'site_id',\n",
    "    group_keys=False,\n",
    "    observed=True\n",
    ").sample(frac=1, random_state=876).reset_index()"
   ],
   "id": "ef3327216175a3e6",
   "outputs": [],
   "execution_count": null
  },
  {
   "metadata": {},
   "cell_type": "code",
   "source": [
    "# add sid column, ...\n",
    "randomized_df[\"sid\"] = randomized_df.index+42000\n",
    "randomized_df[\"date_generated\"] = pd.Timestamp.now()\n",
    "randomized_df = randomized_df.rename(columns={\"visit_code\": \"last_visit_code\", \"report_datetime\": \"last_appt_datetime\"})\n"
   ],
   "id": "eae7b565d0ea1b81",
   "outputs": [],
   "execution_count": null
  },
  {
   "metadata": {},
   "cell_type": "code",
   "source": [
    "# review\n",
    "randomized_df[['sid', 'subject_identifier', 'last_visit_code', 'last_appt_datetime', 'site_id', 'gender', 'age_in_years', 'weight_bin', 'date_generated']]"
   ],
   "id": "f27abe089b4cfd5",
   "outputs": [],
   "execution_count": null
  },
  {
   "metadata": {},
   "cell_type": "code",
   "source": [
    "# review\n",
    "randomized_df.site_id.value_counts(normalize=True)"
   ],
   "id": "12b6326d58a01987",
   "outputs": [],
   "execution_count": null
  },
  {
   "metadata": {},
   "cell_type": "code",
   "source": [
    "# review\n",
    "randomized_df.site_id.value_counts()"
   ],
   "id": "ba5ef8e765d8c11f",
   "outputs": [],
   "execution_count": null
  },
  {
   "metadata": {},
   "cell_type": "code",
   "source": [
    "# review\n",
    "read_frame_edc(RegisteredSubject.objects.values(\"subject_identifier\", \"site_id\").all()).site_id.value_counts(normalize=True)"
   ],
   "id": "b1954f4c48d1be24",
   "outputs": [],
   "execution_count": null
  },
  {
   "metadata": {},
   "cell_type": "code",
   "source": [
    "# export\n",
    "randomized_df[['sid', 'subject_identifier', 'last_visit_code', 'last_appt_datetime', 'site_id', 'gender', 'age_in_years', 'weight_bin', 'date_generated']].to_csv(analysis_folder / \"nanda_list.csv\")"
   ],
   "id": "8e9afc57bdc8abf8",
   "outputs": [],
   "execution_count": null
  },
  {
   "metadata": {},
   "cell_type": "code",
   "source": "",
   "id": "3559bdb3c9316153",
   "outputs": [],
   "execution_count": null
  }
 ],
 "metadata": {
  "kernelspec": {
   "display_name": "Python 3",
   "language": "python",
   "name": "python3"
  },
  "language_info": {
   "codemirror_mode": {
    "name": "ipython",
    "version": 2
   },
   "file_extension": ".py",
   "mimetype": "text/x-python",
   "name": "python",
   "nbconvert_exporter": "python",
   "pygments_lexer": "ipython2",
   "version": "2.7.6"
  }
 },
 "nbformat": 4,
 "nbformat_minor": 5
}
