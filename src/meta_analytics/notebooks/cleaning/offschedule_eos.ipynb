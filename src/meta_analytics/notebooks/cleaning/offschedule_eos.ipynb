{
 "cells": [
  {
   "cell_type": "code",
   "execution_count": null,
   "id": "0",
   "metadata": {},
   "outputs": [],
   "source": [
    "%%capture\n",
    "from pathlib import Path\n",
    "\n",
    "import pandas as pd\n",
    "from dj_notebook import activate\n",
    "from django_pandas.io import read_frame\n",
    "\n",
    "plus = activate(dotenv_file=\"/Users/erikvw/source/edc_source/meta-edc/.env\")\n",
    "report_folder = Path(\"/Users/erikvw/Documents/ucl/protocols/meta3/reports/\")\n",
    "# output is suppressed -- normally would spew out all the edc loading messages"
   ]
  },
  {
   "cell_type": "code",
   "execution_count": null,
   "id": "1",
   "metadata": {},
   "outputs": [],
   "source": [
    "from meta_analytics.dataframes import GlucoseEndpointsByDate\n",
    "from meta_lists.models import OffstudyReasons\n",
    "from meta_prn.models import (\n",
    "    EndOfStudy,\n",
    "    OffSchedule,\n",
    "    OffSchedulePostnatal,\n",
    "    OffSchedulePregnancy,\n",
    "    OffStudyMedication,\n",
    "    OnSchedule,\n",
    "    OnScheduleDmReferral,\n",
    ")"
   ]
  },
  {
   "cell_type": "code",
   "execution_count": null,
   "id": "2",
   "metadata": {},
   "outputs": [],
   "source": [
    "df_onschedule = read_frame(OnSchedule.objects.all(), verbose=True)\n",
    "df_offschedule = read_frame(OffSchedule.objects.all(), verbose=True)\n",
    "df_onschedule_preg = read_frame(OffSchedulePregnancy.objects.all(), verbose=True)\n",
    "df_onschedule_postnatal = read_frame(OffSchedulePostnatal.objects.all(), verbose=True)\n",
    "df_onschedule_dm = read_frame(OnScheduleDmReferral.objects.all(), verbose=True)\n",
    "df_offstudy_medication = read_frame(OffStudyMedication.objects.all(), verbose=True)\n",
    "\n",
    "df_eos = read_frame(\n",
    "    EndOfStudy.objects.values(\n",
    "        \"id\",\n",
    "        \"subject_identifier\",\n",
    "        \"offstudy_datetime\",\n",
    "        \"offstudy_reason\",\n",
    "        \"other_offstudy_reason\",\n",
    "        \"action_item__action_type__name\",\n",
    "        \"parent_action_item__action_type__name\",\n",
    "    ).all(),\n",
    "    verbose=False,\n",
    ")\n",
    "df_eos.rename(\n",
    "    columns={\n",
    "        \"offstudy_reason\": \"offstudy_reason_id\",\n",
    "        \"action_item__action_type__name\": \"action_item_name\",\n",
    "        \"parent_action_item__action_type__name\": \"parent_action_item_name\",\n",
    "    },\n",
    "    inplace=True,\n",
    ")\n",
    "\n",
    "df_offstudy_reasons = read_frame(OffstudyReasons.objects.all(), verbose=False)\n",
    "df_offstudy_reasons.rename(\n",
    "    columns={\n",
    "        \"id\": \"offstudy_reason_id\",\n",
    "        \"name\": \"offstudy_reason\",\n",
    "        \"display_name\": \"offstudy_reason_display\",\n",
    "    },\n",
    "    inplace=True,\n",
    ")"
   ]
  },
  {
   "cell_type": "code",
   "execution_count": null,
   "id": "3",
   "metadata": {},
   "outputs": [],
   "source": [
    "# merge df_eos with offstudyreasons\n",
    "df_eos = df_eos.merge(\n",
    "    df_offstudy_reasons[[\"offstudy_reason_id\", \"offstudy_reason\", \"offstudy_reason_display\"]],\n",
    "    on=\"offstudy_reason_id\",\n",
    ")"
   ]
  },
  {
   "cell_type": "code",
   "execution_count": null,
   "id": "4",
   "metadata": {},
   "outputs": [],
   "source": [
    "# summarize offstudy\n",
    "df_eos_summary = (\n",
    "    df_eos[[\"offstudy_reason_id\", \"offstudy_reason\"]]\n",
    "    .value_counts()\n",
    "    .to_frame()\n",
    "    .reset_index()\n",
    "    .sort_values(\"offstudy_reason_id\", ascending=True)\n",
    "    .reset_index(drop=True)\n",
    ")\n",
    "df_eos_summary.rename(columns={\"count\": \"subtotal\"}, inplace=True)\n",
    "df_eos_summary[\"cumfreq\"] = df_eos_summary.subtotal.cumsum()\n",
    "df_eos_summary"
   ]
  },
  {
   "cell_type": "code",
   "execution_count": null,
   "id": "5",
   "metadata": {},
   "outputs": [],
   "source": []
  },
  {
   "cell_type": "markdown",
   "id": "6",
   "metadata": {},
   "source": [
    "* Need to validate that all subjects off study went off study medication  first.\n",
    "* Action items are linked to this flow and block the EndOfStudy.save() if  EndOfStudy was submitted before this workflow was implemented.\n"
   ]
  },
  {
   "cell_type": "code",
   "execution_count": null,
   "id": "7",
   "metadata": {},
   "outputs": [],
   "source": [
    "# df_eos[df_eos.offstudy_reason_id==11][[\"subject_identifier\", \"offstudy_reason_id\", \"other_offstudy_reason\"]]\n",
    "pd.merge(\n",
    "    df_eos,\n",
    "    df_offstudy_medication[[\"subject_identifier\", \"stop_date\"]],\n",
    "    on=\"subject_identifier\",\n",
    "    how=\"left\",\n",
    ")"
   ]
  },
  {
   "cell_type": "code",
   "execution_count": null,
   "id": "8",
   "metadata": {},
   "outputs": [],
   "source": []
  },
  {
   "cell_type": "code",
   "execution_count": null,
   "id": "9",
   "metadata": {},
   "outputs": [],
   "source": [
    "df_onschedule_preg"
   ]
  },
  {
   "cell_type": "code",
   "execution_count": null,
   "id": "10",
   "metadata": {},
   "outputs": [],
   "source": [
    "df_dm = df_onschedule_dm[[\"subject_identifier\"]].copy()\n",
    "df_dm.reset_index(drop=True, inplace=True)\n",
    "df_dm[\"dm\"] = 1\n",
    "\n",
    "df_preg = df_onschedule_preg[[\"subject_identifier\"]].copy()\n",
    "df_preg[\"preg\"] = 1\n",
    "df_preg.reset_index(drop=True, inplace=True)\n",
    "df_eos = df_eos[\n",
    "    [\"subject_identifier\", \"offstudy_datetime\", \"offstudy_reason\", \"other_offstudy_reason\"]\n",
    "].copy()\n",
    "df_eos[\"eos\"] = 1\n",
    "df_eos.reset_index(drop=True, inplace=True)\n",
    "\n",
    "df = df_onschedule[[\"subject_identifier\", \"onschedule_datetime\"]].copy()\n",
    "df[\"onschedule\"] = 1\n",
    "df.reset_index(drop=True, inplace=True)"
   ]
  },
  {
   "cell_type": "code",
   "execution_count": null,
   "id": "11",
   "metadata": {},
   "outputs": [],
   "source": [
    "# df[df.offstudy_reason.isna()]"
   ]
  },
  {
   "cell_type": "code",
   "execution_count": null,
   "id": "12",
   "metadata": {},
   "outputs": [],
   "source": [
    "df = df.merge(df_dm, on=[\"subject_identifier\"], how=\"left\", suffixes=(\"\", \"_y\"))\n",
    "df = df.merge(df_preg, on=[\"subject_identifier\"], how=\"left\", suffixes=(\"\", \"_y\"))"
   ]
  },
  {
   "cell_type": "code",
   "execution_count": null,
   "id": "13",
   "metadata": {},
   "outputs": [],
   "source": [
    "df_offschedule = df_offschedule[[\"subject_identifier\", \"offschedule_datetime\"]].copy()\n",
    "df_offschedule[\"offschedule\"] = 1\n",
    "df_offschedule.reset_index(drop=True, inplace=True)\n",
    "df = df.merge(df_offschedule, on=[\"subject_identifier\"], how=\"left\", suffixes=(\"\", \"_y\"))\n",
    "df = df.merge(df_eos, on=[\"subject_identifier\"], how=\"left\", suffixes=(\"\", \"_y\"))"
   ]
  },
  {
   "cell_type": "code",
   "execution_count": null,
   "id": "14",
   "metadata": {},
   "outputs": [],
   "source": [
    "cls = GlucoseEndpointsByDate()\n",
    "cls.run()"
   ]
  },
  {
   "cell_type": "code",
   "execution_count": null,
   "id": "15",
   "metadata": {},
   "outputs": [],
   "source": [
    "df_endpoint = cls.df\n",
    "df_endpoint = df_endpoint[(df_endpoint.endpoint == 1)][[\"subject_identifier\", \"endpoint\"]]\n",
    "df = df.merge(df_endpoint, on=[\"subject_identifier\"], how=\"left\", suffixes=(\"\", \"_y\"))"
   ]
  },
  {
   "cell_type": "code",
   "execution_count": null,
   "id": "16",
   "metadata": {},
   "outputs": [],
   "source": [
    "df.fillna({\"dm\": 0, \"preg\": 0, \"offschedule\": 0, \"eos\": 0, \"endpoint\": 0}, inplace=True)"
   ]
  },
  {
   "cell_type": "code",
   "execution_count": null,
   "id": "17",
   "metadata": {},
   "outputs": [],
   "source": [
    "df.dm.value_counts()"
   ]
  },
  {
   "cell_type": "code",
   "execution_count": null,
   "id": "18",
   "metadata": {},
   "outputs": [],
   "source": [
    "df.preg.value_counts()"
   ]
  },
  {
   "cell_type": "code",
   "execution_count": null,
   "id": "19",
   "metadata": {},
   "outputs": [],
   "source": [
    "df_export = df[\n",
    "    (df.offschedule_datetime.notna()) & (df.eos == 0) & ((df.dm == 0) & (df.preg == 0))\n",
    "][\n",
    "    [\n",
    "        \"subject_identifier\",\n",
    "        \"onschedule_datetime\",\n",
    "        \"offschedule_datetime\",\n",
    "        \"onschedule\",\n",
    "        \"offschedule\",\n",
    "        \"dm\",\n",
    "        \"preg\",\n",
    "        \"endpoint\",\n",
    "        \"eos\",\n",
    "    ]\n",
    "].copy()\n",
    "df_export.reset_index(drop=True, inplace=True)\n",
    "df_export[\"offschedule_datetime\"] = df_export.offschedule_datetime.dt.tz_localize(None)\n",
    "df_export[\"offschedule_datetime\"] = df_export.offschedule_datetime.dt.normalize()\n",
    "df_export[\"onschedule_datetime\"] = df_export.onschedule_datetime.dt.tz_localize(None)\n",
    "df_export[\"onschedule_datetime\"] = df_export.onschedule_datetime.dt.normalize()\n",
    "df_export.sort_values(by=[\"offschedule_datetime\"], inplace=True)\n",
    "df_export.to_csv(report_folder / \"offschedule_eos.csv\", index=False)"
   ]
  },
  {
   "cell_type": "code",
   "execution_count": null,
   "id": "20",
   "metadata": {},
   "outputs": [],
   "source": [
    "df"
   ]
  },
  {
   "cell_type": "code",
   "execution_count": null,
   "id": "21",
   "metadata": {},
   "outputs": [],
   "source": [
    "df[df.endpoint == 1]"
   ]
  },
  {
   "cell_type": "code",
   "execution_count": null,
   "id": "22",
   "metadata": {},
   "outputs": [],
   "source": [
    "# DM Referrals onstudy/off study\n",
    "df.groupby(by=[\"dm\", \"eos\"]).size().reset_index(name=\"counts\")"
   ]
  },
  {
   "cell_type": "code",
   "execution_count": null,
   "id": "23",
   "metadata": {},
   "outputs": [],
   "source": [
    "df.groupby(by=[\"preg\", \"eos\"]).size().reset_index(name=\"counts\")"
   ]
  },
  {
   "cell_type": "code",
   "execution_count": null,
   "id": "24",
   "metadata": {},
   "outputs": [],
   "source": [
    "df_eos[(df_eos.other_offstudy_reason != \"\")][\n",
    "    [\"subject_identifier\", \"offstudy_reason\", \"other_offstudy_reason\"]\n",
    "]"
   ]
  },
  {
   "cell_type": "code",
   "execution_count": null,
   "id": "25",
   "metadata": {},
   "outputs": [],
   "source": [
    "df_eos.offstudy_reason.value_counts()"
   ]
  },
  {
   "cell_type": "code",
   "execution_count": null,
   "id": "26",
   "metadata": {},
   "outputs": [],
   "source": [
    "df_eos = read_frame(EndOfStudy.objects.all(), verbose=False)\n",
    "df_offstudy_reasons = read_frame(OffstudyReasons.objects.all(), verbose=False)\n",
    "df_offstudy_reasons.rename(\n",
    "    columns={\"id\": \"offstudy_reason_id\", \"name\": \"offstudy_reason\"}, inplace=True\n",
    ")\n",
    "df_eos = df_eos.merge(\n",
    "    df_offstudy_reasons[\"offstudy_reason_id\", \"offstudy_reason\"], on=\"offstudy_reason_id\"\n",
    ")\n",
    "df_eos.offstudy_reason.value_counts()"
   ]
  }
 ],
 "metadata": {
  "kernelspec": {
   "display_name": "Python 3",
   "language": "python",
   "name": "python3"
  },
  "language_info": {
   "codemirror_mode": {
    "name": "ipython",
    "version": 2
   },
   "file_extension": ".py",
   "mimetype": "text/x-python",
   "name": "python",
   "nbconvert_exporter": "python",
   "pygments_lexer": "ipython2",
   "version": "2.7.6"
  }
 },
 "nbformat": 4,
 "nbformat_minor": 5
}
