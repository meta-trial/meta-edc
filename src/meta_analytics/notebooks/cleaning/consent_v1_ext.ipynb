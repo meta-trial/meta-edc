{
 "cells": [
  {
   "cell_type": "code",
   "execution_count": null,
   "id": "0",
   "metadata": {},
   "outputs": [],
   "source": []
  },
  {
   "cell_type": "code",
   "execution_count": null,
   "id": "1",
   "metadata": {},
   "outputs": [],
   "source": [
    "%%capture\n",
    "from pathlib import Path\n",
    "\n",
    "import pandas as pd\n",
    "from dj_notebook import activate\n",
    "from django_pandas.io import read_frame\n",
    "\n",
    "plus = activate(dotenv_file=\"/Users/erikvw/source/edc_source/meta-edc/.env\")\n",
    "report_folder = Path(\"/Users/erikvw/Documents/ucl/protocols/meta3/reports/\")\n",
    "# output is suppressed -- normally would spew out all the edc loading messages"
   ]
  },
  {
   "cell_type": "code",
   "execution_count": null,
   "id": "2",
   "metadata": {},
   "outputs": [],
   "source": [
    "from edc_appointment.analytics import get_appointment_df\n",
    "from edc_registration.models import RegisteredSubject\n",
    "\n",
    "from meta_prn.models import (\n",
    "    EndOfStudy,\n",
    "    OffSchedule,\n",
    "    OffSchedulePostnatal,\n",
    "    OffSchedulePregnancy,\n",
    "    OnSchedule,\n",
    "    OnScheduleDmReferral,\n",
    ")\n",
    "\n",
    "df_onschedule = read_frame(OnSchedule.objects.all(), verbose=True)\n",
    "df_offschedule = read_frame(OffSchedule.objects.all(), verbose=True)\n",
    "df_onschedule_preg = read_frame(OffSchedulePregnancy.objects.all(), verbose=True)\n",
    "df_onschedule_postnatal = read_frame(OffSchedulePostnatal.objects.all(), verbose=True)\n",
    "df_onschedule_dm = read_frame(OnScheduleDmReferral.objects.all(), verbose=True)\n",
    "df_eos = read_frame(EndOfStudy.objects.all(), verbose=True)\n",
    "df_appt = get_appointment_df()\n",
    "df_rs = read_frame(\n",
    "    RegisteredSubject.objects.values(\"subject_identifier\", \"registration_datetime\").all(),\n",
    "    verbose=True,\n",
    ")"
   ]
  },
  {
   "cell_type": "code",
   "execution_count": null,
   "id": "3",
   "metadata": {},
   "outputs": [],
   "source": [
    "df_appt[df_appt.visit_code > 1360][\n",
    "    [\"visit_code\", \"schedule_name\"]\n",
    "].schedule_name.value_counts()"
   ]
  },
  {
   "cell_type": "code",
   "execution_count": null,
   "id": "4",
   "metadata": {},
   "outputs": [],
   "source": [
    "df_appt[(df_appt.visit_code > 1360) & (df_appt.schedule_name == \"schedule\")][\n",
    "    [\"visit_code\", \"schedule_name\"]\n",
    "].visit_code.value_counts()"
   ]
  },
  {
   "cell_type": "code",
   "execution_count": null,
   "id": "5",
   "metadata": {},
   "outputs": [],
   "source": [
    "df_appt[(df_appt.visit_code > 1360) & (df_appt.schedule_name == \"schedule\")][\n",
    "    [\"subject_identifier\", \"appt_datetime\", \"visit_code\", \"appt_status\"]\n",
    "].sort_values(\"subject_identifier\")"
   ]
  },
  {
   "cell_type": "code",
   "execution_count": null,
   "id": "6",
   "metadata": {},
   "outputs": [],
   "source": [
    "df_appt = get_appointment_df()\n",
    "\n",
    "df_appt = df_appt[(df_appt.visit_code >= 1360) & (df_appt.schedule_name == \"schedule\")][\n",
    "    [\"subject_identifier\", \"appt_datetime\", \"visit_code\", \"appt_status\"]\n",
    "]"
   ]
  },
  {
   "cell_type": "code",
   "execution_count": null,
   "id": "7",
   "metadata": {},
   "outputs": [],
   "source": [
    "df_magreth = pd.read_csv(\n",
    "    Path(\"/Users/erikvw/Documents/ucl/protocols/meta3/reports/\")\n",
    "    / \"consented_v1_ext_magreth.csv\"\n",
    ")"
   ]
  },
  {
   "cell_type": "code",
   "execution_count": null,
   "id": "8",
   "metadata": {},
   "outputs": [],
   "source": [
    "df_magreth"
   ]
  },
  {
   "cell_type": "code",
   "execution_count": null,
   "id": "9",
   "metadata": {},
   "outputs": [],
   "source": [
    "df_main = (\n",
    "    pd.merge(\n",
    "        df_appt[[\"subject_identifier\", \"appt_datetime\", \"visit_code\", \"appt_status\"]],\n",
    "        df_magreth,\n",
    "        on=\"subject_identifier\",\n",
    "        how=\"right\",\n",
    "    )\n",
    "    .groupby([\"subject_identifier\", \"agreed\"])\n",
    "    .agg({\"visit_code\": \"min\", \"date_reconsented\": \"max\"})\n",
    ")"
   ]
  },
  {
   "cell_type": "code",
   "execution_count": null,
   "id": "10",
   "metadata": {},
   "outputs": [],
   "source": [
    "df_main = df_main.merge(\n",
    "    df_appt[[\"subject_identifier\", \"visit_code\", \"appt_status\", \"appt_datetime\"]],\n",
    "    on=[\"subject_identifier\", \"visit_code\"],\n",
    "    how=\"left\",\n",
    ")\n",
    "df_main"
   ]
  },
  {
   "cell_type": "code",
   "execution_count": null,
   "id": "11",
   "metadata": {},
   "outputs": [],
   "source": [
    "df_rs"
   ]
  },
  {
   "cell_type": "code",
   "execution_count": null,
   "id": "12",
   "metadata": {},
   "outputs": [],
   "source": [
    "from meta_consent.models import SubjectConsentV1Ext\n",
    "\n",
    "df_v1ext = read_frame(\n",
    "    SubjectConsentV1Ext.objects.values(\n",
    "        \"subject_identifier\", \"report_datetime\", \"agrees_to_extension\"\n",
    "    ).all(),\n",
    "    verbose=True,\n",
    ")\n",
    "df_v1ext"
   ]
  },
  {
   "cell_type": "code",
   "execution_count": null,
   "id": "13",
   "metadata": {},
   "outputs": [],
   "source": [
    "df_main = df_main.merge(df_rs, on=\"subject_identifier\", how=\"left\")"
   ]
  },
  {
   "cell_type": "code",
   "execution_count": null,
   "id": "14",
   "metadata": {},
   "outputs": [],
   "source": [
    "df_main = df_main.merge(df_v1ext, on=\"subject_identifier\", how=\"outer\")\n",
    "df_main.rename(\n",
    "    columns={\n",
    "        \"report_datetime\": \"v1_ext_datetime\",\n",
    "        \"agrees_to_extension\": \"agreed\",\n",
    "        \"visit_code\": \"last_visit_code\",\n",
    "    },\n",
    "    inplace=True,\n",
    ")"
   ]
  },
  {
   "cell_type": "code",
   "execution_count": null,
   "id": "15",
   "metadata": {},
   "outputs": [],
   "source": [
    "df_main = df_main.merge(\n",
    "    df_eos[[\"subject_identifier\", \"offstudy_datetime\"]], on=\"subject_identifier\", how=\"left\"\n",
    ")"
   ]
  },
  {
   "cell_type": "code",
   "execution_count": null,
   "id": "16",
   "metadata": {},
   "outputs": [],
   "source": [
    "df_main[\n",
    "    [\n",
    "        \"subject_identifier\",\n",
    "        \"registration_datetime\",\n",
    "        \"last_visit_code\",\n",
    "        \"appt_status\",\n",
    "        \"appt_datetime\",\n",
    "        \"date_reconsented\",\n",
    "        \"v1_ext_datetime\",\n",
    "        \"agreed\",\n",
    "    ]\n",
    "]"
   ]
  },
  {
   "cell_type": "code",
   "execution_count": null,
   "id": "17",
   "metadata": {},
   "outputs": [],
   "source": []
  }
 ],
 "metadata": {
  "kernelspec": {
   "display_name": "Python 3",
   "language": "python",
   "name": "python3"
  },
  "language_info": {
   "codemirror_mode": {
    "name": "ipython",
    "version": 2
   },
   "file_extension": ".py",
   "mimetype": "text/x-python",
   "name": "python",
   "nbconvert_exporter": "python",
   "pygments_lexer": "ipython2",
   "version": "2.7.6"
  }
 },
 "nbformat": 4,
 "nbformat_minor": 5
}
