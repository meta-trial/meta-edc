{
 "cells": [
  {
   "cell_type": "code",
   "execution_count": null,
   "id": "0",
   "metadata": {},
   "outputs": [],
   "source": [
    "%%capture\n",
    "import os\n",
    "from pathlib import Path\n",
    "import pandas as pd\n",
    "from dj_notebook import activate\n",
    "\n",
    "env_file = os.environ[\"META_ENV\"]\n",
    "reports_folder = Path(os.environ[\"META_REPORTS_FOLDER\"])\n",
    "analysis_folder = Path(os.environ[\"META_ANALYSIS_FOLDER\"])\n",
    "pharmacy_folder = Path(os.environ[\"META_PHARMACY_FOLDER\"])\n",
    "plus = activate(dotenv_file=env_file)"
   ]
  },
  {
   "cell_type": "code",
   "execution_count": null,
   "id": "1",
   "metadata": {},
   "outputs": [],
   "source": [
    "from edc_pdutils.dataframes.get_subject_visit import convert_visit_code_to_float\n",
    "from edc_pdutils.dataframes import get_crf\n",
    "from edc_model_to_dataframe import read_frame_edc\n",
    "from meta_subject.models import FollowupExamination\n"
   ]
  },
  {
   "cell_type": "code",
   "execution_count": null,
   "id": "2",
   "metadata": {},
   "outputs": [],
   "source": [
    "\n",
    "df = read_frame_edc(FollowupExamination.objects.all(), drop_sys_columns=True, drop_action_item_columns=True)\n",
    "df = df.replace(\"none\", pd.NA)\n",
    "df = df.replace(\"none\", pd.NA)\n",
    "df = df.fillna(pd.NA)\n",
    "convert_visit_code_to_float(df)"
   ]
  },
  {
   "cell_type": "code",
   "execution_count": null,
   "id": "3",
   "metadata": {},
   "outputs": [],
   "source": [
    "from edc_analytics.stata import get_stata_labels_from_model\n",
    "\n",
    "df = df[[\"subject_identifier\", \"subject_visit_id\", \"report_datetime\", \"visit_code\", \"site_id\", \"site_name\", \"visit_reason\", \"symptoms\",\"symptoms_detail\", \"symptoms_sought_care\", \"symptoms_g3\", \"symptoms_g4\", \"comment\"]].copy().reset_index(drop=True)\n",
    "\n",
    "df = df.astype(\n",
    "    {col: \"Float64\" for col in df.select_dtypes(include=[\"float\", \"float64\"]).columns}\n",
    ")\n",
    "df_meds = df.astype(\n",
    "    {col: \"Int64\" for col in df.select_dtypes(include=[\"int\", \"int64\"]).columns}\n",
    ")\n",
    "df = df.astype(\n",
    "    {\n",
    "        col: \"datetime64[ns]\"\n",
    "        for col in df.select_dtypes(include=[\"datetime\", \"datetime64\"]).columns\n",
    "    }\n",
    ")\n",
    "df = df.astype(\n",
    "    {\n",
    "        col: str\n",
    "        for col in df.select_dtypes(include=[\"object\"]).columns\n",
    "    }\n",
    ")\n",
    "df = df.fillna(pd.NA)\n",
    "\n",
    "variable_labels = {}\n",
    "variable_labels.update(**get_stata_labels_from_model(df, model=\"meta_subject.followupexamination\", suffix=None))\n",
    "\n",
    "df.to_stata(\n",
    "    path=analysis_folder / \"followupexamination.dta\",\n",
    "    variable_labels=variable_labels,\n",
    "    version=118,\n",
    "    write_index=False,\n",
    ")"
   ]
  },
  {
   "cell_type": "code",
   "execution_count": null,
   "id": "4",
   "metadata": {},
   "outputs": [],
   "source": [
    "# with get_crf\n",
    "df2 = get_crf(model=\"meta_subject.followupexamination\", subject_visit_model=\"meta_subject.subjectvisit\")\n"
   ]
  },
  {
   "cell_type": "code",
   "execution_count": null,
   "id": "5",
   "metadata": {},
   "outputs": [],
   "source": [
    "df2.to_stata(\n",
    "    path=analysis_folder / \"followupexamination.dta\",\n",
    "    variable_labels=variable_labels,\n",
    "    version=118,\n",
    "    write_index=False,\n",
    ")"
   ]
  }
 ],
 "metadata": {
  "kernelspec": {
   "display_name": "Python 3",
   "language": "python",
   "name": "python3"
  },
  "language_info": {
   "codemirror_mode": {
    "name": "ipython",
    "version": 2
   },
   "file_extension": ".py",
   "mimetype": "text/x-python",
   "name": "python",
   "nbconvert_exporter": "python",
   "pygments_lexer": "ipython2",
   "version": "2.7.6"
  }
 },
 "nbformat": 4,
 "nbformat_minor": 5
}
