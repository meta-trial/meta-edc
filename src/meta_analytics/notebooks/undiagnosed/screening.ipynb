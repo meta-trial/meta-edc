{
 "cells": [
  {
   "cell_type": "code",
   "execution_count": null,
   "id": "0",
   "metadata": {},
   "outputs": [],
   "source": [
    "%%capture\n",
    "import os\n",
    "from pathlib import Path\n",
    "\n",
    "import pandas as pd\n",
    "from dj_notebook import activate\n",
    "\n",
    "env_file = os.environ[\"META_ENV\"]\n",
    "reports_folder = Path(os.environ[\"META_REPORTS_FOLDER\"])\n",
    "analysis_folder = Path(os.environ[\"META_ANALYSIS_FOLDER\"])\n",
    "pharmacy_folder = Path(os.environ[\"META_PHARMACY_FOLDER\"])\n",
    "plus = activate(dotenv_file=env_file)"
   ]
  },
  {
   "cell_type": "code",
   "execution_count": null,
   "id": "1",
   "metadata": {},
   "outputs": [],
   "source": [
    "from django.contrib.sites.models import Site\n",
    "\n",
    "from meta_analytics.dataframes.screening import get_screening_df"
   ]
  },
  {
   "cell_type": "code",
   "execution_count": null,
   "id": "2",
   "metadata": {},
   "outputs": [],
   "source": [
    "df = get_screening_df()\n",
    "sites = {obj.domain: obj.id for obj in Site.objects.all()}\n",
    "df[\"site\"] = df[\"site\"].map(sites)\n",
    "df = df.rename(columns={\"report_datetime\": \"screening_datetime\"})"
   ]
  },
  {
   "cell_type": "code",
   "execution_count": null,
   "id": "3",
   "metadata": {},
   "outputs": [],
   "source": [
    "df.to_csv(analysis_folder, index=False, sep=\"|\")"
   ]
  },
  {
   "cell_type": "code",
   "execution_count": null,
   "id": "4",
   "metadata": {},
   "outputs": [],
   "source": [
    "df = pd.read_csv(analysis_folder, sep=\"|\")"
   ]
  },
  {
   "cell_type": "code",
   "execution_count": null,
   "id": "5",
   "metadata": {},
   "outputs": [],
   "source": [
    "df"
   ]
  },
  {
   "cell_type": "code",
   "execution_count": null,
   "id": "6",
   "metadata": {},
   "outputs": [],
   "source": [
    "columns = [\n",
    "    \"screening_identifier\",\n",
    "    \"site\",\n",
    "    \"screening_datetime\",\n",
    "    \"fbg_datetime\",\n",
    "    \"fbg_value\",\n",
    "    \"ogtt_value\",\n",
    "    \"repeat_glucose_performed\",\n",
    "    \"fbg2_value\",\n",
    "    \"ogtt2_value\",\n",
    "    \"fbg2_datetime\",\n",
    "    \"ogtt2_datetime\",\n",
    "    \"consented\",\n",
    "]"
   ]
  },
  {
   "cell_type": "code",
   "execution_count": null,
   "id": "7",
   "metadata": {},
   "outputs": [],
   "source": [
    "df[(df[\"fbg_value\"].notna()) & (df[\"ogtt_value\"].isna()) & (df[\"unsuitable_agreed\"] != \"Yes\")][\n",
    "    columns\n",
    "].count()"
   ]
  },
  {
   "cell_type": "code",
   "execution_count": null,
   "id": "8",
   "metadata": {},
   "outputs": [],
   "source": [
    "columns = [\n",
    "    \"screening_identifier\",\n",
    "    \"site\",\n",
    "    \"screening_datetime\",\n",
    "    \"fbg_datetime\",\n",
    "    \"fbg_value\",\n",
    "    \"ogtt_value\",\n",
    "    \"repeat_glucose_performed\",\n",
    "    \"fbg2_value\",\n",
    "    \"ogtt2_value\",\n",
    "    \"fbg2_datetime\",\n",
    "    \"ogtt2_datetime\",\n",
    "    \"consented\",\n",
    "]"
   ]
  },
  {
   "cell_type": "code",
   "execution_count": null,
   "id": "9",
   "metadata": {},
   "outputs": [],
   "source": [
    "df[\n",
    "    (df[\"fbg_value\"].notna())\n",
    "    & (df[\"ogtt_value\"].isna())\n",
    "    & (df[\"repeat_glucose_performed\"] == \"Yes\")\n",
    "][columns]"
   ]
  },
  {
   "cell_type": "code",
   "execution_count": null,
   "id": "10",
   "metadata": {},
   "outputs": [],
   "source": [
    "from clinicedc_constants import NO, YES\n",
    "\n",
    "df = get_screening_df()"
   ]
  },
  {
   "cell_type": "code",
   "execution_count": null,
   "id": "11",
   "metadata": {},
   "outputs": [],
   "source": [
    "df.groupby(by=[\"eligible_part_one\", \"eligible_part_two\"], dropna=True).size()"
   ]
  },
  {
   "cell_type": "code",
   "execution_count": null,
   "id": "12",
   "metadata": {},
   "outputs": [],
   "source": [
    "erik = list(\n",
    "    df[\n",
    "        (df.eligible_part_one == YES) & (df.eligible_part_two == YES) & (df.hiv_pos == YES)\n",
    "    ].screening_identifier\n",
    ")"
   ]
  },
  {
   "cell_type": "code",
   "execution_count": null,
   "id": "13",
   "metadata": {},
   "outputs": [],
   "source": [
    "df_peiyun = pd.read_csv(\n",
    "    Path(\"~/Documents/ucl/protocols/intecomm/analysis/primary\") / \"peiyun.csv\"\n",
    ")\n",
    "peiyun = list(df_peiyun.screening_identifier)"
   ]
  },
  {
   "cell_type": "code",
   "execution_count": null,
   "id": "14",
   "metadata": {},
   "outputs": [],
   "source": [
    "[x for x in erik if x not in peiyun]"
   ]
  },
  {
   "cell_type": "code",
   "execution_count": null,
   "id": "15",
   "metadata": {},
   "outputs": [],
   "source": [
    "df[df.screening_identifier == \"SR9E8B4D\"][\n",
    "    [\"site\", \"eligible_part_one\", \"eligible_part_two\", \"hiv_pos\"]\n",
    "]"
   ]
  },
  {
   "cell_type": "code",
   "execution_count": null,
   "id": "16",
   "metadata": {},
   "outputs": [],
   "source": [
    "[x for x in peiyun if x not in erik]"
   ]
  },
  {
   "cell_type": "code",
   "execution_count": null,
   "id": "17",
   "metadata": {},
   "outputs": [],
   "source": [
    "df.groupby(by=[\"eligible_part_one\", \"eligible_part_two\", \"agree_to_p3\"], dropna=True).size()"
   ]
  },
  {
   "cell_type": "code",
   "execution_count": null,
   "id": "18",
   "metadata": {},
   "outputs": [],
   "source": [
    "df[~(df.subject_identifier.isna()) & (df.agree_to_p3 == NO)][\n",
    "    [\n",
    "        \"subject_identifier\",\n",
    "        \"eligible_part_one\",\n",
    "        \"eligible_part_two\",\n",
    "        \"agree_to_p3\",\n",
    "        \"screening_identifier\",\n",
    "    ]\n",
    "]"
   ]
  },
  {
   "cell_type": "code",
   "execution_count": null,
   "id": "19",
   "metadata": {},
   "outputs": [],
   "source": [
    "df[\n",
    "    ~(df.subject_identifier.str.startswith(\"105-\"))\n",
    "    & (df.eligible_part_one == YES)\n",
    "    & (df.eligible_part_two == YES)\n",
    "][\n",
    "    [\n",
    "        \"subject_identifier\",\n",
    "        \"eligible_part_one\",\n",
    "        \"eligible_part_two\",\n",
    "        \"agree_to_p3\",\n",
    "        \"screening_identifier\",\n",
    "    ]\n",
    "]"
   ]
  },
  {
   "cell_type": "code",
   "execution_count": null,
   "id": "20",
   "metadata": {},
   "outputs": [],
   "source": [
    "df[(df.subject_identifier.str.startswith(\"105-\"))][\n",
    "    [\n",
    "        \"subject_identifier\",\n",
    "        \"eligible_part_one\",\n",
    "        \"eligible_part_two\",\n",
    "        \"agree_to_p3\",\n",
    "        \"screening_identifier\",\n",
    "    ]\n",
    "]"
   ]
  },
  {
   "cell_type": "code",
   "execution_count": null,
   "id": "21",
   "metadata": {},
   "outputs": [],
   "source": [
    "df[df.agree_to_p3 == NO][\n",
    "    [\n",
    "        \"screening_identifier\",\n",
    "        \"subject_identifier\",\n",
    "        \"eligible_part_one\",\n",
    "        \"eligible_part_two\",\n",
    "        \"eligible_part_three\",\n",
    "    ]\n",
    "]"
   ]
  },
  {
   "cell_type": "code",
   "execution_count": null,
   "id": "22",
   "metadata": {},
   "outputs": [],
   "source": []
  }
 ],
 "metadata": {
  "kernelspec": {
   "display_name": "Python 3 (ipykernel)",
   "language": "python",
   "name": "python3"
  },
  "language_info": {
   "codemirror_mode": {
    "name": "ipython",
    "version": 3
   },
   "file_extension": ".py",
   "mimetype": "text/x-python",
   "name": "python",
   "nbconvert_exporter": "python",
   "pygments_lexer": "ipython3",
   "version": "3.12.4"
  }
 },
 "nbformat": 4,
 "nbformat_minor": 5
}
